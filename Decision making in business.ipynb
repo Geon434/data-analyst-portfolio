{
 "cells": [
  {
   "cell_type": "markdown",
   "metadata": {},
   "source": [
    "# Принятие бизнес решений"
   ]
  },
  {
   "cell_type": "markdown",
   "metadata": {},
   "source": [
    "**Цель:**\n",
    "Приоритизировать гипотезы методами ICE и RICE, а также провести A/B-тест и проанализировать результаты.\n",
    "\n",
    "**Задачи:**\n",
    "- Часть 1\n",
    "    1. Применить фреймворк ICE для приоритизации гипотез. Отсортировать их по убыванию приоритета.\n",
    "    2. Применить фреймворк RICE для приоритизации гипотез. Отсортировать их по убыванию приоритета.\n",
    "    3. Указать, как изменилась приоритизация гипотез при применении RICE вместо ICE. Объяснить, почему так произошло.\n",
    "- Часть 2\n",
    "    1. Постройте график кумулятивной выручки по группам. Сделайте выводы и предположения.\n",
    "    2. Постройте график кумулятивного среднего чека по группам. Сделайте выводы и предположения.\n",
    "    3. Постройте график относительного изменения кумулятивного среднего чека группы B к группе A. Сделайте выводы и предположения.\n",
    "    4. Постройте график кумулятивного среднего количества заказов на посетителя по группам. Сделайте выводы и предположения.\n",
    "    5. Постройте график относительного изменения кумулятивного среднего количества заказов на посетителя группы B к группе A. Сделайте выводы и предположения.\n",
    "    6. Постройте точечный график количества заказов по пользователям. Сделайте выводы и предположения.\n",
    "    7. Посчитайте 95-й и 99-й перцентили количества заказов на пользователя. Выберите границу для определения аномальных пользователей.\n",
    "    8. Постройте точечный график стоимостей заказов. Сделайте выводы и предположения.\n",
    "    9. Посчитайте 95-й и 99-й перцентили стоимости заказов. Выберите границу для определения аномальных заказов.\n",
    "    10. Посчитайте статистическую значимость различий в среднем количестве заказов на посетителя между группами по «сырым» данным. Сделайте выводы и предположения.\n",
    "    11. Посчитайте статистическую значимость различий в среднем чеке заказа между группами по «сырым» данным. Сделайте выводы и предположения.\n",
    "    12. Посчитайте статистическую значимость различий в среднем количестве заказов на посетителя между группами по «очищенным» данным. Сделайте выводы и предположения.\n",
    "    13. Посчитайте статистическую значимость различий в среднем чеке заказа между группами по «очищенным» данным. Сделайте выводы и предположения.\n",
    "    14. Примите решение по результатам теста и объясните его. Варианты решений:\n",
    "        1. Остановить тест, зафиксировать победу одной из групп.\n",
    "        2. Остановить тест, зафиксировать отсутствие различий между группами.\n",
    "        3. Продолжить тест.\n",
    "\n",
    "**План:**\n",
    "1. Загрузка и подготовка данных к анализу.\n",
    "2. Приоритизация гипотез.\n",
    "3. Анализ A/B-теста.\n",
    "4. Общий вывод."
   ]
  },
  {
   "cell_type": "markdown",
   "metadata": {},
   "source": [
    "### Загружаем данные и подготавливаем их к анализу"
   ]
  },
  {
   "cell_type": "code",
   "execution_count": 1,
   "metadata": {},
   "outputs": [],
   "source": [
    "# Импортируем все нужные библиотеки.\n",
    "import pandas as pd\n",
    "import matplotlib.pyplot as plt\n",
    "import numpy as np\n",
    "from scipy import stats as st\n",
    "from datetime import datetime, timedelta\n",
    "import seaborn as sns"
   ]
  },
  {
   "cell_type": "code",
   "execution_count": 2,
   "metadata": {},
   "outputs": [],
   "source": [
    "# снимаем ограничение на количество столбцов\n",
    "pd.set_option('display.max_columns', None)\n",
    "\n",
    "# снимаем ограничение на ширину столбцов\n",
    "pd.set_option('display.max_colwidth', None)\n",
    "\n",
    "# выставляем ограничение на показ знаков после запятой\n",
    "pd.options.display.float_format = '{:,.3f}'.format"
   ]
  },
  {
   "cell_type": "code",
   "execution_count": 3,
   "metadata": {},
   "outputs": [],
   "source": [
    "# Загружаем нужные датафреймы.\n",
    "try:\n",
    "    hypothesis = pd.read_csv('/datasets/hypothesis.csv')\n",
    "    orders = pd.read_csv('/datasets/orders.csv')\n",
    "    visitors = pd.read_csv('/datasets/visitors.csv')\n",
    "except:\n",
    "    hypothesis = pd.read_csv('https://code.s3.yandex.net/datasets/hypothesis.csv')\n",
    "    orders = pd.read_csv('https://code.s3.yandex.net/datasets/orders.csv')\n",
    "    visitors = pd.read_csv('https://code.s3.yandex.net/datasets/visitors.csv')"
   ]
  },
  {
   "cell_type": "code",
   "execution_count": 4,
   "metadata": {},
   "outputs": [
    {
     "data": {
      "text/html": [
       "<div>\n",
       "<style scoped>\n",
       "    .dataframe tbody tr th:only-of-type {\n",
       "        vertical-align: middle;\n",
       "    }\n",
       "\n",
       "    .dataframe tbody tr th {\n",
       "        vertical-align: top;\n",
       "    }\n",
       "\n",
       "    .dataframe thead th {\n",
       "        text-align: right;\n",
       "    }\n",
       "</style>\n",
       "<table border=\"1\" class=\"dataframe\">\n",
       "  <thead>\n",
       "    <tr style=\"text-align: right;\">\n",
       "      <th></th>\n",
       "      <th>Hypothesis</th>\n",
       "      <th>Reach</th>\n",
       "      <th>Impact</th>\n",
       "      <th>Confidence</th>\n",
       "      <th>Efforts</th>\n",
       "    </tr>\n",
       "  </thead>\n",
       "  <tbody>\n",
       "    <tr>\n",
       "      <th>0</th>\n",
       "      <td>Добавить два новых канала привлечения трафика, что позволит привлекать на 30% больше пользователей</td>\n",
       "      <td>3</td>\n",
       "      <td>10</td>\n",
       "      <td>8</td>\n",
       "      <td>6</td>\n",
       "    </tr>\n",
       "    <tr>\n",
       "      <th>1</th>\n",
       "      <td>Запустить собственную службу доставки, что сократит срок доставки заказов</td>\n",
       "      <td>2</td>\n",
       "      <td>5</td>\n",
       "      <td>4</td>\n",
       "      <td>10</td>\n",
       "    </tr>\n",
       "    <tr>\n",
       "      <th>2</th>\n",
       "      <td>Добавить блоки рекомендаций товаров на сайт интернет магазина, чтобы повысить конверсию и средний чек заказа</td>\n",
       "      <td>8</td>\n",
       "      <td>3</td>\n",
       "      <td>7</td>\n",
       "      <td>3</td>\n",
       "    </tr>\n",
       "    <tr>\n",
       "      <th>3</th>\n",
       "      <td>Изменить структура категорий, что увеличит конверсию, т.к. пользователи быстрее найдут нужный товар</td>\n",
       "      <td>8</td>\n",
       "      <td>3</td>\n",
       "      <td>3</td>\n",
       "      <td>8</td>\n",
       "    </tr>\n",
       "    <tr>\n",
       "      <th>4</th>\n",
       "      <td>Изменить цвет фона главной страницы, чтобы увеличить вовлеченность пользователей</td>\n",
       "      <td>3</td>\n",
       "      <td>1</td>\n",
       "      <td>1</td>\n",
       "      <td>1</td>\n",
       "    </tr>\n",
       "  </tbody>\n",
       "</table>\n",
       "</div>"
      ],
      "text/plain": [
       "                                                                                                     Hypothesis  \\\n",
       "0            Добавить два новых канала привлечения трафика, что позволит привлекать на 30% больше пользователей   \n",
       "1                                     Запустить собственную службу доставки, что сократит срок доставки заказов   \n",
       "2  Добавить блоки рекомендаций товаров на сайт интернет магазина, чтобы повысить конверсию и средний чек заказа   \n",
       "3           Изменить структура категорий, что увеличит конверсию, т.к. пользователи быстрее найдут нужный товар   \n",
       "4                              Изменить цвет фона главной страницы, чтобы увеличить вовлеченность пользователей   \n",
       "\n",
       "   Reach  Impact  Confidence  Efforts  \n",
       "0      3      10           8        6  \n",
       "1      2       5           4       10  \n",
       "2      8       3           7        3  \n",
       "3      8       3           3        8  \n",
       "4      3       1           1        1  "
      ]
     },
     "metadata": {},
     "output_type": "display_data"
    },
    {
     "data": {
      "text/html": [
       "<div>\n",
       "<style scoped>\n",
       "    .dataframe tbody tr th:only-of-type {\n",
       "        vertical-align: middle;\n",
       "    }\n",
       "\n",
       "    .dataframe tbody tr th {\n",
       "        vertical-align: top;\n",
       "    }\n",
       "\n",
       "    .dataframe thead th {\n",
       "        text-align: right;\n",
       "    }\n",
       "</style>\n",
       "<table border=\"1\" class=\"dataframe\">\n",
       "  <thead>\n",
       "    <tr style=\"text-align: right;\">\n",
       "      <th></th>\n",
       "      <th>transactionId</th>\n",
       "      <th>visitorId</th>\n",
       "      <th>date</th>\n",
       "      <th>revenue</th>\n",
       "      <th>group</th>\n",
       "    </tr>\n",
       "  </thead>\n",
       "  <tbody>\n",
       "    <tr>\n",
       "      <th>0</th>\n",
       "      <td>3667963787</td>\n",
       "      <td>3312258926</td>\n",
       "      <td>2019-08-15</td>\n",
       "      <td>1650</td>\n",
       "      <td>B</td>\n",
       "    </tr>\n",
       "    <tr>\n",
       "      <th>1</th>\n",
       "      <td>2804400009</td>\n",
       "      <td>3642806036</td>\n",
       "      <td>2019-08-15</td>\n",
       "      <td>730</td>\n",
       "      <td>B</td>\n",
       "    </tr>\n",
       "    <tr>\n",
       "      <th>2</th>\n",
       "      <td>2961555356</td>\n",
       "      <td>4069496402</td>\n",
       "      <td>2019-08-15</td>\n",
       "      <td>400</td>\n",
       "      <td>A</td>\n",
       "    </tr>\n",
       "    <tr>\n",
       "      <th>3</th>\n",
       "      <td>3797467345</td>\n",
       "      <td>1196621759</td>\n",
       "      <td>2019-08-15</td>\n",
       "      <td>9759</td>\n",
       "      <td>B</td>\n",
       "    </tr>\n",
       "    <tr>\n",
       "      <th>4</th>\n",
       "      <td>2282983706</td>\n",
       "      <td>2322279887</td>\n",
       "      <td>2019-08-15</td>\n",
       "      <td>2308</td>\n",
       "      <td>B</td>\n",
       "    </tr>\n",
       "  </tbody>\n",
       "</table>\n",
       "</div>"
      ],
      "text/plain": [
       "   transactionId   visitorId        date  revenue group\n",
       "0     3667963787  3312258926  2019-08-15     1650     B\n",
       "1     2804400009  3642806036  2019-08-15      730     B\n",
       "2     2961555356  4069496402  2019-08-15      400     A\n",
       "3     3797467345  1196621759  2019-08-15     9759     B\n",
       "4     2282983706  2322279887  2019-08-15     2308     B"
      ]
     },
     "metadata": {},
     "output_type": "display_data"
    },
    {
     "data": {
      "text/html": [
       "<div>\n",
       "<style scoped>\n",
       "    .dataframe tbody tr th:only-of-type {\n",
       "        vertical-align: middle;\n",
       "    }\n",
       "\n",
       "    .dataframe tbody tr th {\n",
       "        vertical-align: top;\n",
       "    }\n",
       "\n",
       "    .dataframe thead th {\n",
       "        text-align: right;\n",
       "    }\n",
       "</style>\n",
       "<table border=\"1\" class=\"dataframe\">\n",
       "  <thead>\n",
       "    <tr style=\"text-align: right;\">\n",
       "      <th></th>\n",
       "      <th>date</th>\n",
       "      <th>group</th>\n",
       "      <th>visitors</th>\n",
       "    </tr>\n",
       "  </thead>\n",
       "  <tbody>\n",
       "    <tr>\n",
       "      <th>0</th>\n",
       "      <td>2019-08-01</td>\n",
       "      <td>A</td>\n",
       "      <td>719</td>\n",
       "    </tr>\n",
       "    <tr>\n",
       "      <th>1</th>\n",
       "      <td>2019-08-02</td>\n",
       "      <td>A</td>\n",
       "      <td>619</td>\n",
       "    </tr>\n",
       "    <tr>\n",
       "      <th>2</th>\n",
       "      <td>2019-08-03</td>\n",
       "      <td>A</td>\n",
       "      <td>507</td>\n",
       "    </tr>\n",
       "    <tr>\n",
       "      <th>3</th>\n",
       "      <td>2019-08-04</td>\n",
       "      <td>A</td>\n",
       "      <td>717</td>\n",
       "    </tr>\n",
       "    <tr>\n",
       "      <th>4</th>\n",
       "      <td>2019-08-05</td>\n",
       "      <td>A</td>\n",
       "      <td>756</td>\n",
       "    </tr>\n",
       "  </tbody>\n",
       "</table>\n",
       "</div>"
      ],
      "text/plain": [
       "         date group  visitors\n",
       "0  2019-08-01     A       719\n",
       "1  2019-08-02     A       619\n",
       "2  2019-08-03     A       507\n",
       "3  2019-08-04     A       717\n",
       "4  2019-08-05     A       756"
      ]
     },
     "metadata": {},
     "output_type": "display_data"
    }
   ],
   "source": [
    "# Выводим первые 5 строк таблиц.\n",
    "display(hypothesis.head())\n",
    "display(orders.head())\n",
    "display(visitors.head())"
   ]
  },
  {
   "cell_type": "code",
   "execution_count": 5,
   "metadata": {},
   "outputs": [
    {
     "name": "stdout",
     "output_type": "stream",
     "text": [
      "Дубликаты в файлах \"hypothesis\" : 0\n",
      "Дубликаты в файлах \"orders\" : 0\n",
      "Дубликаты в файлах \"visitors\" : 0\n"
     ]
    }
   ],
   "source": [
    "# Изучим информацию о полных дубликатах.\n",
    "print('Дубликаты в файлах \"hypothesis\" :', hypothesis.duplicated().sum())\n",
    "print('Дубликаты в файлах \"orders\" :', orders.duplicated().sum())\n",
    "print('Дубликаты в файлах \"visitors\" :', visitors.duplicated().sum())"
   ]
  },
  {
   "cell_type": "code",
   "execution_count": 6,
   "metadata": {},
   "outputs": [
    {
     "data": {
      "text/plain": [
       "Hypothesis    0\n",
       "Reach         0\n",
       "Impact        0\n",
       "Confidence    0\n",
       "Efforts       0\n",
       "dtype: int64"
      ]
     },
     "metadata": {},
     "output_type": "display_data"
    },
    {
     "data": {
      "text/plain": [
       "transactionId    0\n",
       "visitorId        0\n",
       "date             0\n",
       "revenue          0\n",
       "group            0\n",
       "dtype: int64"
      ]
     },
     "metadata": {},
     "output_type": "display_data"
    },
    {
     "data": {
      "text/plain": [
       "date        0\n",
       "group       0\n",
       "visitors    0\n",
       "dtype: int64"
      ]
     },
     "metadata": {},
     "output_type": "display_data"
    }
   ],
   "source": [
    "# Изучим информацию о пропусках в каждом поле.\n",
    "display(hypothesis.isna().sum())\n",
    "display(orders.isna().sum())\n",
    "display(visitors.isna().sum())"
   ]
  },
  {
   "cell_type": "code",
   "execution_count": 7,
   "metadata": {},
   "outputs": [
    {
     "name": "stdout",
     "output_type": "stream",
     "text": [
      "<class 'pandas.core.frame.DataFrame'>\n",
      "RangeIndex: 9 entries, 0 to 8\n",
      "Data columns (total 5 columns):\n",
      " #   Column      Non-Null Count  Dtype \n",
      "---  ------      --------------  ----- \n",
      " 0   Hypothesis  9 non-null      object\n",
      " 1   Reach       9 non-null      int64 \n",
      " 2   Impact      9 non-null      int64 \n",
      " 3   Confidence  9 non-null      int64 \n",
      " 4   Efforts     9 non-null      int64 \n",
      "dtypes: int64(4), object(1)\n",
      "memory usage: 492.0+ bytes\n"
     ]
    },
    {
     "data": {
      "text/plain": [
       "None"
      ]
     },
     "metadata": {},
     "output_type": "display_data"
    },
    {
     "name": "stdout",
     "output_type": "stream",
     "text": [
      "<class 'pandas.core.frame.DataFrame'>\n",
      "RangeIndex: 1197 entries, 0 to 1196\n",
      "Data columns (total 5 columns):\n",
      " #   Column         Non-Null Count  Dtype \n",
      "---  ------         --------------  ----- \n",
      " 0   transactionId  1197 non-null   int64 \n",
      " 1   visitorId      1197 non-null   int64 \n",
      " 2   date           1197 non-null   object\n",
      " 3   revenue        1197 non-null   int64 \n",
      " 4   group          1197 non-null   object\n",
      "dtypes: int64(3), object(2)\n",
      "memory usage: 46.9+ KB\n"
     ]
    },
    {
     "data": {
      "text/plain": [
       "None"
      ]
     },
     "metadata": {},
     "output_type": "display_data"
    },
    {
     "name": "stdout",
     "output_type": "stream",
     "text": [
      "<class 'pandas.core.frame.DataFrame'>\n",
      "RangeIndex: 62 entries, 0 to 61\n",
      "Data columns (total 3 columns):\n",
      " #   Column    Non-Null Count  Dtype \n",
      "---  ------    --------------  ----- \n",
      " 0   date      62 non-null     object\n",
      " 1   group     62 non-null     object\n",
      " 2   visitors  62 non-null     int64 \n",
      "dtypes: int64(1), object(2)\n",
      "memory usage: 1.6+ KB\n"
     ]
    },
    {
     "data": {
      "text/plain": [
       "None"
      ]
     },
     "metadata": {},
     "output_type": "display_data"
    }
   ],
   "source": [
    "# Поверяем информацию о датафреймах.\n",
    "display(hypothesis.info())\n",
    "display(orders.info())\n",
    "display(visitors.info())"
   ]
  },
  {
   "cell_type": "code",
   "execution_count": 8,
   "metadata": {},
   "outputs": [],
   "source": [
    "# Приводим все загаловки столбцов к нижнему регистру\n",
    "hypothesis.columns = hypothesis.columns.str.lower()\n",
    "orders.columns = orders.columns.str.lower()\n",
    "visitors.columns = visitors.columns.str.lower()"
   ]
  },
  {
   "cell_type": "code",
   "execution_count": 9,
   "metadata": {},
   "outputs": [],
   "source": [
    "orders['date'] = pd.to_datetime(orders['date'], format='%Y-%m-%d')\n",
    "visitors['date'] = pd.to_datetime(visitors['date'], format='%Y-%m-%d')"
   ]
  },
  {
   "cell_type": "code",
   "execution_count": 10,
   "metadata": {},
   "outputs": [
    {
     "name": "stdout",
     "output_type": "stream",
     "text": [
      "<class 'pandas.core.frame.DataFrame'>\n",
      "RangeIndex: 9 entries, 0 to 8\n",
      "Data columns (total 5 columns):\n",
      " #   Column      Non-Null Count  Dtype \n",
      "---  ------      --------------  ----- \n",
      " 0   hypothesis  9 non-null      object\n",
      " 1   reach       9 non-null      int64 \n",
      " 2   impact      9 non-null      int64 \n",
      " 3   confidence  9 non-null      int64 \n",
      " 4   efforts     9 non-null      int64 \n",
      "dtypes: int64(4), object(1)\n",
      "memory usage: 492.0+ bytes\n"
     ]
    },
    {
     "data": {
      "text/plain": [
       "None"
      ]
     },
     "metadata": {},
     "output_type": "display_data"
    },
    {
     "name": "stdout",
     "output_type": "stream",
     "text": [
      "<class 'pandas.core.frame.DataFrame'>\n",
      "RangeIndex: 1197 entries, 0 to 1196\n",
      "Data columns (total 5 columns):\n",
      " #   Column         Non-Null Count  Dtype         \n",
      "---  ------         --------------  -----         \n",
      " 0   transactionid  1197 non-null   int64         \n",
      " 1   visitorid      1197 non-null   int64         \n",
      " 2   date           1197 non-null   datetime64[ns]\n",
      " 3   revenue        1197 non-null   int64         \n",
      " 4   group          1197 non-null   object        \n",
      "dtypes: datetime64[ns](1), int64(3), object(1)\n",
      "memory usage: 46.9+ KB\n"
     ]
    },
    {
     "data": {
      "text/plain": [
       "None"
      ]
     },
     "metadata": {},
     "output_type": "display_data"
    },
    {
     "name": "stdout",
     "output_type": "stream",
     "text": [
      "<class 'pandas.core.frame.DataFrame'>\n",
      "RangeIndex: 62 entries, 0 to 61\n",
      "Data columns (total 3 columns):\n",
      " #   Column    Non-Null Count  Dtype         \n",
      "---  ------    --------------  -----         \n",
      " 0   date      62 non-null     datetime64[ns]\n",
      " 1   group     62 non-null     object        \n",
      " 2   visitors  62 non-null     int64         \n",
      "dtypes: datetime64[ns](1), int64(1), object(1)\n",
      "memory usage: 1.6+ KB\n"
     ]
    },
    {
     "data": {
      "text/plain": [
       "None"
      ]
     },
     "metadata": {},
     "output_type": "display_data"
    }
   ],
   "source": [
    "# Поверяем информацию о датафреймах.\n",
    "display(hypothesis.info())\n",
    "display(orders.info())\n",
    "display(visitors.info())"
   ]
  },
  {
   "cell_type": "code",
   "execution_count": 11,
   "metadata": {},
   "outputs": [
    {
     "name": "stdout",
     "output_type": "stream",
     "text": [
      "Всего групп 2 : ['A' 'B']\n"
     ]
    }
   ],
   "source": [
    "# посмотрим количество групп.\n",
    "print('Всего групп',visitors['group'].nunique(),':',visitors['group'].unique())"
   ]
  },
  {
   "cell_type": "code",
   "execution_count": 12,
   "metadata": {},
   "outputs": [
    {
     "data": {
      "text/html": [
       "<div>\n",
       "<style scoped>\n",
       "    .dataframe tbody tr th:only-of-type {\n",
       "        vertical-align: middle;\n",
       "    }\n",
       "\n",
       "    .dataframe tbody tr th {\n",
       "        vertical-align: top;\n",
       "    }\n",
       "\n",
       "    .dataframe thead th {\n",
       "        text-align: right;\n",
       "    }\n",
       "</style>\n",
       "<table border=\"1\" class=\"dataframe\">\n",
       "  <thead>\n",
       "    <tr style=\"text-align: right;\">\n",
       "      <th></th>\n",
       "      <th>group</th>\n",
       "      <th>visitorid</th>\n",
       "    </tr>\n",
       "  </thead>\n",
       "  <tbody>\n",
       "    <tr>\n",
       "      <th>0</th>\n",
       "      <td>A</td>\n",
       "      <td>503</td>\n",
       "    </tr>\n",
       "    <tr>\n",
       "      <th>1</th>\n",
       "      <td>B</td>\n",
       "      <td>586</td>\n",
       "    </tr>\n",
       "  </tbody>\n",
       "</table>\n",
       "</div>"
      ],
      "text/plain": [
       "  group  visitorid\n",
       "0     A        503\n",
       "1     B        586"
      ]
     },
     "execution_count": 12,
     "metadata": {},
     "output_type": "execute_result"
    }
   ],
   "source": [
    "# посмотрим количество пользователей каждой группы\n",
    "orders.groupby(by='group', as_index=False).agg({'visitorid':'nunique'})"
   ]
  },
  {
   "cell_type": "code",
   "execution_count": 13,
   "metadata": {},
   "outputs": [
    {
     "data": {
      "text/plain": [
       "58"
      ]
     },
     "execution_count": 13,
     "metadata": {},
     "output_type": "execute_result"
    }
   ],
   "source": [
    "# узнаем сколько человек попали в обе группы.\n",
    "duplicated_users = orders.groupby(by='visitorid').agg({'group' : ['nunique', 'unique']})\n",
    "duplicated_users.columns = ['groups', 'group_names']\n",
    "duplicated_users = duplicated_users.query('groups > 1')\n",
    "len(duplicated_users)"
   ]
  },
  {
   "cell_type": "markdown",
   "metadata": {},
   "source": [
    "**Вывод:**\n",
    "- Заменили тип данных колонок на соответствующий.\n",
    "- Переписали названия столбцов.\n",
    "- Нашли 0 пропусков и дубликатов в датафреймах.\n",
    "- Выявили 58 пользователей, которые попали в обе группы А/В теста"
   ]
  },
  {
   "cell_type": "markdown",
   "metadata": {},
   "source": [
    "### Приоритизация гипотез"
   ]
  },
  {
   "cell_type": "markdown",
   "metadata": {},
   "source": [
    "1. Применить фреймворк ICE для приоритизации гипотез. Отсортировать их по убыванию приоритета.\n",
    "2. Применить фреймворк RICE для приоритизации гипотез. Отсортировать их по убыванию приоритета.\n",
    "3. Указать, как изменилась приоритизация гипотез при применении RICE вместо ICE. Объяснить, почему так произошло."
   ]
  },
  {
   "cell_type": "code",
   "execution_count": 14,
   "metadata": {},
   "outputs": [
    {
     "data": {
      "text/html": [
       "<div>\n",
       "<style scoped>\n",
       "    .dataframe tbody tr th:only-of-type {\n",
       "        vertical-align: middle;\n",
       "    }\n",
       "\n",
       "    .dataframe tbody tr th {\n",
       "        vertical-align: top;\n",
       "    }\n",
       "\n",
       "    .dataframe thead th {\n",
       "        text-align: right;\n",
       "    }\n",
       "</style>\n",
       "<table border=\"1\" class=\"dataframe\">\n",
       "  <thead>\n",
       "    <tr style=\"text-align: right;\">\n",
       "      <th></th>\n",
       "      <th>hypothesis</th>\n",
       "      <th>reach</th>\n",
       "      <th>impact</th>\n",
       "      <th>confidence</th>\n",
       "      <th>efforts</th>\n",
       "    </tr>\n",
       "  </thead>\n",
       "  <tbody>\n",
       "    <tr>\n",
       "      <th>0</th>\n",
       "      <td>Добавить два новых канала привлечения трафика, что позволит привлекать на 30% больше пользователей</td>\n",
       "      <td>3</td>\n",
       "      <td>10</td>\n",
       "      <td>8</td>\n",
       "      <td>6</td>\n",
       "    </tr>\n",
       "    <tr>\n",
       "      <th>1</th>\n",
       "      <td>Запустить собственную службу доставки, что сократит срок доставки заказов</td>\n",
       "      <td>2</td>\n",
       "      <td>5</td>\n",
       "      <td>4</td>\n",
       "      <td>10</td>\n",
       "    </tr>\n",
       "    <tr>\n",
       "      <th>2</th>\n",
       "      <td>Добавить блоки рекомендаций товаров на сайт интернет магазина, чтобы повысить конверсию и средний чек заказа</td>\n",
       "      <td>8</td>\n",
       "      <td>3</td>\n",
       "      <td>7</td>\n",
       "      <td>3</td>\n",
       "    </tr>\n",
       "    <tr>\n",
       "      <th>3</th>\n",
       "      <td>Изменить структура категорий, что увеличит конверсию, т.к. пользователи быстрее найдут нужный товар</td>\n",
       "      <td>8</td>\n",
       "      <td>3</td>\n",
       "      <td>3</td>\n",
       "      <td>8</td>\n",
       "    </tr>\n",
       "    <tr>\n",
       "      <th>4</th>\n",
       "      <td>Изменить цвет фона главной страницы, чтобы увеличить вовлеченность пользователей</td>\n",
       "      <td>3</td>\n",
       "      <td>1</td>\n",
       "      <td>1</td>\n",
       "      <td>1</td>\n",
       "    </tr>\n",
       "    <tr>\n",
       "      <th>5</th>\n",
       "      <td>Добавить страницу отзывов клиентов о магазине, что позволит увеличить количество заказов</td>\n",
       "      <td>3</td>\n",
       "      <td>2</td>\n",
       "      <td>2</td>\n",
       "      <td>3</td>\n",
       "    </tr>\n",
       "    <tr>\n",
       "      <th>6</th>\n",
       "      <td>Показать на главной странице баннеры с актуальными акциями и распродажами, чтобы увеличить конверсию</td>\n",
       "      <td>5</td>\n",
       "      <td>3</td>\n",
       "      <td>8</td>\n",
       "      <td>3</td>\n",
       "    </tr>\n",
       "    <tr>\n",
       "      <th>7</th>\n",
       "      <td>Добавить форму подписки на все основные страницы, чтобы собрать базу клиентов для email-рассылок</td>\n",
       "      <td>10</td>\n",
       "      <td>7</td>\n",
       "      <td>8</td>\n",
       "      <td>5</td>\n",
       "    </tr>\n",
       "    <tr>\n",
       "      <th>8</th>\n",
       "      <td>Запустить акцию, дающую скидку на товар в день рождения</td>\n",
       "      <td>1</td>\n",
       "      <td>9</td>\n",
       "      <td>9</td>\n",
       "      <td>5</td>\n",
       "    </tr>\n",
       "  </tbody>\n",
       "</table>\n",
       "</div>"
      ],
      "text/plain": [
       "                                                                                                     hypothesis  \\\n",
       "0            Добавить два новых канала привлечения трафика, что позволит привлекать на 30% больше пользователей   \n",
       "1                                     Запустить собственную службу доставки, что сократит срок доставки заказов   \n",
       "2  Добавить блоки рекомендаций товаров на сайт интернет магазина, чтобы повысить конверсию и средний чек заказа   \n",
       "3           Изменить структура категорий, что увеличит конверсию, т.к. пользователи быстрее найдут нужный товар   \n",
       "4                              Изменить цвет фона главной страницы, чтобы увеличить вовлеченность пользователей   \n",
       "5                      Добавить страницу отзывов клиентов о магазине, что позволит увеличить количество заказов   \n",
       "6          Показать на главной странице баннеры с актуальными акциями и распродажами, чтобы увеличить конверсию   \n",
       "7              Добавить форму подписки на все основные страницы, чтобы собрать базу клиентов для email-рассылок   \n",
       "8                                                       Запустить акцию, дающую скидку на товар в день рождения   \n",
       "\n",
       "   reach  impact  confidence  efforts  \n",
       "0      3      10           8        6  \n",
       "1      2       5           4       10  \n",
       "2      8       3           7        3  \n",
       "3      8       3           3        8  \n",
       "4      3       1           1        1  \n",
       "5      3       2           2        3  \n",
       "6      5       3           8        3  \n",
       "7     10       7           8        5  \n",
       "8      1       9           9        5  "
      ]
     },
     "metadata": {},
     "output_type": "display_data"
    }
   ],
   "source": [
    "display(hypothesis)"
   ]
  },
  {
   "cell_type": "markdown",
   "metadata": {},
   "source": [
    "#### приоритизация гипотез методом ICE"
   ]
  },
  {
   "cell_type": "code",
   "execution_count": 15,
   "metadata": {},
   "outputs": [
    {
     "data": {
      "text/html": [
       "<div>\n",
       "<style scoped>\n",
       "    .dataframe tbody tr th:only-of-type {\n",
       "        vertical-align: middle;\n",
       "    }\n",
       "\n",
       "    .dataframe tbody tr th {\n",
       "        vertical-align: top;\n",
       "    }\n",
       "\n",
       "    .dataframe thead th {\n",
       "        text-align: right;\n",
       "    }\n",
       "</style>\n",
       "<table border=\"1\" class=\"dataframe\">\n",
       "  <thead>\n",
       "    <tr style=\"text-align: right;\">\n",
       "      <th></th>\n",
       "      <th>hypothesis</th>\n",
       "      <th>ICE</th>\n",
       "    </tr>\n",
       "  </thead>\n",
       "  <tbody>\n",
       "    <tr>\n",
       "      <th>8</th>\n",
       "      <td>Запустить акцию, дающую скидку на товар в день рождения</td>\n",
       "      <td>16.200</td>\n",
       "    </tr>\n",
       "    <tr>\n",
       "      <th>0</th>\n",
       "      <td>Добавить два новых канала привлечения трафика, что позволит привлекать на 30% больше пользователей</td>\n",
       "      <td>13.333</td>\n",
       "    </tr>\n",
       "    <tr>\n",
       "      <th>7</th>\n",
       "      <td>Добавить форму подписки на все основные страницы, чтобы собрать базу клиентов для email-рассылок</td>\n",
       "      <td>11.200</td>\n",
       "    </tr>\n",
       "    <tr>\n",
       "      <th>6</th>\n",
       "      <td>Показать на главной странице баннеры с актуальными акциями и распродажами, чтобы увеличить конверсию</td>\n",
       "      <td>8.000</td>\n",
       "    </tr>\n",
       "    <tr>\n",
       "      <th>2</th>\n",
       "      <td>Добавить блоки рекомендаций товаров на сайт интернет магазина, чтобы повысить конверсию и средний чек заказа</td>\n",
       "      <td>7.000</td>\n",
       "    </tr>\n",
       "    <tr>\n",
       "      <th>1</th>\n",
       "      <td>Запустить собственную службу доставки, что сократит срок доставки заказов</td>\n",
       "      <td>2.000</td>\n",
       "    </tr>\n",
       "    <tr>\n",
       "      <th>5</th>\n",
       "      <td>Добавить страницу отзывов клиентов о магазине, что позволит увеличить количество заказов</td>\n",
       "      <td>1.333</td>\n",
       "    </tr>\n",
       "    <tr>\n",
       "      <th>3</th>\n",
       "      <td>Изменить структура категорий, что увеличит конверсию, т.к. пользователи быстрее найдут нужный товар</td>\n",
       "      <td>1.125</td>\n",
       "    </tr>\n",
       "    <tr>\n",
       "      <th>4</th>\n",
       "      <td>Изменить цвет фона главной страницы, чтобы увеличить вовлеченность пользователей</td>\n",
       "      <td>1.000</td>\n",
       "    </tr>\n",
       "  </tbody>\n",
       "</table>\n",
       "</div>"
      ],
      "text/plain": [
       "                                                                                                     hypothesis  \\\n",
       "8                                                       Запустить акцию, дающую скидку на товар в день рождения   \n",
       "0            Добавить два новых канала привлечения трафика, что позволит привлекать на 30% больше пользователей   \n",
       "7              Добавить форму подписки на все основные страницы, чтобы собрать базу клиентов для email-рассылок   \n",
       "6          Показать на главной странице баннеры с актуальными акциями и распродажами, чтобы увеличить конверсию   \n",
       "2  Добавить блоки рекомендаций товаров на сайт интернет магазина, чтобы повысить конверсию и средний чек заказа   \n",
       "1                                     Запустить собственную службу доставки, что сократит срок доставки заказов   \n",
       "5                      Добавить страницу отзывов клиентов о магазине, что позволит увеличить количество заказов   \n",
       "3           Изменить структура категорий, что увеличит конверсию, т.к. пользователи быстрее найдут нужный товар   \n",
       "4                              Изменить цвет фона главной страницы, чтобы увеличить вовлеченность пользователей   \n",
       "\n",
       "     ICE  \n",
       "8 16.200  \n",
       "0 13.333  \n",
       "7 11.200  \n",
       "6  8.000  \n",
       "2  7.000  \n",
       "1  2.000  \n",
       "5  1.333  \n",
       "3  1.125  \n",
       "4  1.000  "
      ]
     },
     "metadata": {},
     "output_type": "display_data"
    }
   ],
   "source": [
    "# создадим колонки ICE с результатами расчета фреймворка\n",
    "hypothesis['ICE'] = hypothesis['impact'] * hypothesis['confidence'] / hypothesis['efforts']\n",
    "\n",
    "display(hypothesis[['hypothesis', 'ICE']].sort_values(by='ICE', ascending=False))"
   ]
  },
  {
   "cell_type": "markdown",
   "metadata": {},
   "source": [
    "#### приоритизация гипотез методом RICE"
   ]
  },
  {
   "cell_type": "code",
   "execution_count": 16,
   "metadata": {},
   "outputs": [
    {
     "data": {
      "text/html": [
       "<div>\n",
       "<style scoped>\n",
       "    .dataframe tbody tr th:only-of-type {\n",
       "        vertical-align: middle;\n",
       "    }\n",
       "\n",
       "    .dataframe tbody tr th {\n",
       "        vertical-align: top;\n",
       "    }\n",
       "\n",
       "    .dataframe thead th {\n",
       "        text-align: right;\n",
       "    }\n",
       "</style>\n",
       "<table border=\"1\" class=\"dataframe\">\n",
       "  <thead>\n",
       "    <tr style=\"text-align: right;\">\n",
       "      <th></th>\n",
       "      <th>hypothesis</th>\n",
       "      <th>RICE</th>\n",
       "    </tr>\n",
       "  </thead>\n",
       "  <tbody>\n",
       "    <tr>\n",
       "      <th>7</th>\n",
       "      <td>Добавить форму подписки на все основные страницы, чтобы собрать базу клиентов для email-рассылок</td>\n",
       "      <td>112.000</td>\n",
       "    </tr>\n",
       "    <tr>\n",
       "      <th>2</th>\n",
       "      <td>Добавить блоки рекомендаций товаров на сайт интернет магазина, чтобы повысить конверсию и средний чек заказа</td>\n",
       "      <td>56.000</td>\n",
       "    </tr>\n",
       "    <tr>\n",
       "      <th>0</th>\n",
       "      <td>Добавить два новых канала привлечения трафика, что позволит привлекать на 30% больше пользователей</td>\n",
       "      <td>40.000</td>\n",
       "    </tr>\n",
       "    <tr>\n",
       "      <th>6</th>\n",
       "      <td>Показать на главной странице баннеры с актуальными акциями и распродажами, чтобы увеличить конверсию</td>\n",
       "      <td>40.000</td>\n",
       "    </tr>\n",
       "    <tr>\n",
       "      <th>8</th>\n",
       "      <td>Запустить акцию, дающую скидку на товар в день рождения</td>\n",
       "      <td>16.200</td>\n",
       "    </tr>\n",
       "    <tr>\n",
       "      <th>3</th>\n",
       "      <td>Изменить структура категорий, что увеличит конверсию, т.к. пользователи быстрее найдут нужный товар</td>\n",
       "      <td>9.000</td>\n",
       "    </tr>\n",
       "    <tr>\n",
       "      <th>1</th>\n",
       "      <td>Запустить собственную службу доставки, что сократит срок доставки заказов</td>\n",
       "      <td>4.000</td>\n",
       "    </tr>\n",
       "    <tr>\n",
       "      <th>5</th>\n",
       "      <td>Добавить страницу отзывов клиентов о магазине, что позволит увеличить количество заказов</td>\n",
       "      <td>4.000</td>\n",
       "    </tr>\n",
       "    <tr>\n",
       "      <th>4</th>\n",
       "      <td>Изменить цвет фона главной страницы, чтобы увеличить вовлеченность пользователей</td>\n",
       "      <td>3.000</td>\n",
       "    </tr>\n",
       "  </tbody>\n",
       "</table>\n",
       "</div>"
      ],
      "text/plain": [
       "                                                                                                     hypothesis  \\\n",
       "7              Добавить форму подписки на все основные страницы, чтобы собрать базу клиентов для email-рассылок   \n",
       "2  Добавить блоки рекомендаций товаров на сайт интернет магазина, чтобы повысить конверсию и средний чек заказа   \n",
       "0            Добавить два новых канала привлечения трафика, что позволит привлекать на 30% больше пользователей   \n",
       "6          Показать на главной странице баннеры с актуальными акциями и распродажами, чтобы увеличить конверсию   \n",
       "8                                                       Запустить акцию, дающую скидку на товар в день рождения   \n",
       "3           Изменить структура категорий, что увеличит конверсию, т.к. пользователи быстрее найдут нужный товар   \n",
       "1                                     Запустить собственную службу доставки, что сократит срок доставки заказов   \n",
       "5                      Добавить страницу отзывов клиентов о магазине, что позволит увеличить количество заказов   \n",
       "4                              Изменить цвет фона главной страницы, чтобы увеличить вовлеченность пользователей   \n",
       "\n",
       "     RICE  \n",
       "7 112.000  \n",
       "2  56.000  \n",
       "0  40.000  \n",
       "6  40.000  \n",
       "8  16.200  \n",
       "3   9.000  \n",
       "1   4.000  \n",
       "5   4.000  \n",
       "4   3.000  "
      ]
     },
     "metadata": {},
     "output_type": "display_data"
    }
   ],
   "source": [
    "# создадим колонки RICE с результатами расчета фреймворка\n",
    "hypothesis['RICE'] = hypothesis['reach'] * hypothesis['impact'] * hypothesis['confidence'] / hypothesis['efforts']\n",
    "\n",
    "display(hypothesis[['hypothesis', 'RICE']].sort_values(by='RICE', ascending=False))"
   ]
  },
  {
   "cell_type": "markdown",
   "metadata": {},
   "source": [
    "#### Объяснение изменений приоритезации гипотез при применении RICE вместо ICE"
   ]
  },
  {
   "cell_type": "markdown",
   "metadata": {},
   "source": [
    "По методу ICE приоритетными стали гипотезы № 8, 0, 7, а по RICE гипотезы № 7, 2, 0. Все поменялось потому, что параметр Reach, который отвечает за охват аудитории, оказался выше у лидирующих гипотез (по фреймворку RICE), а метод ICE не учитывает этот параметр.\n",
    "Также рекомедую тестировать гипотезу под номером 7, так как ее оценка в 2 раза прев"
   ]
  },
  {
   "cell_type": "markdown",
   "metadata": {},
   "source": [
    "#### Вывод"
   ]
  },
  {
   "cell_type": "markdown",
   "metadata": {},
   "source": [
    "- Используя метод ICE на первое место встала гипотеза №8: Запустить акцию, дающую скидку на товар в день рождения.\n",
    "- Используя метод RICE на первое место встала гипотеза №7: Добавить форму подписки на все основные страницы, чтобы собрать базу клиентов для email-рассылок.\n",
    "- По методу ICE приоритетными стали гипотезы № 8, 0, 7, а по RICE гипотезы № 7, 2, 0. Все поменялось потому, что параметр Reach, который отвечает за охват аудитории, оказался выше у лидирующих гипотез (по фреймворку RICE), а метод ICE не учитывает этот параметр."
   ]
  },
  {
   "cell_type": "markdown",
   "metadata": {},
   "source": [
    "**Вывод**"
   ]
  },
  {
   "cell_type": "markdown",
   "metadata": {},
   "source": [
    "### Анализ A/B-теста"
   ]
  },
  {
   "cell_type": "markdown",
   "metadata": {},
   "source": [
    "1. Постройте график кумулятивной выручки по группам. Сделайте выводы и предположения.\n",
    "2. Постройте график кумулятивного среднего чека по группам. Сделайте выводы и предположения.\n",
    "3. Постройте график относительного изменения кумулятивного среднего чека группы B к группе A. Сделайте выводы и предположения.\n",
    "4. Постройте график кумулятивного среднего количества заказов на посетителя по группам. Сделайте выводы и предположения.\n",
    "5. Постройте график относительного изменения кумулятивного среднего количества заказов на посетителя группы B к группе A. Сделайте выводы и предположения.\n",
    "6. Постройте точечный график количества заказов по пользователям. Сделайте выводы и предположения.\n",
    "7. Посчитайте 95-й и 99-й перцентили количества заказов на пользователя. Выберите границу для определения аномальных пользователей.\n",
    "8. Постройте точечный график стоимостей заказов. Сделайте выводы и предположения.\n",
    "9. Посчитайте 95-й и 99-й перцентили стоимости заказов. Выберите границу для определения аномальных заказов.\n",
    "10. Посчитайте статистическую значимость различий в среднем количестве заказов на посетителя между группами по «сырым» данным. Сделайте выводы и предположения.\n",
    "11. Посчитайте статистическую значимость различий в среднем чеке заказа между группами по «сырым» данным. Сделайте выводы и предположения.\n",
    "12. Посчитайте статистическую значимость различий в среднем количестве заказов на посетителя между группами по «очищенным» данным. Сделайте выводы и предположения.\n",
    "13. Посчитайте статистическую значимость различий в среднем чеке заказа между группами по «очищенным» данным. Сделайте выводы и предположения.\n",
    "14. Примите решение по результатам теста и объясните его. Варианты решений:\n",
    "    1. Остановить тест, зафиксировать победу одной из групп.\n",
    "    2. Остановить тест, зафиксировать отсутствие различий между группами.\n",
    "    3. Продолжить тест."
   ]
  },
  {
   "cell_type": "markdown",
   "metadata": {},
   "source": [
    "Для того чтобы построить графики создадим датафрейм `cumulative_data`, в который будим собирать кумулятивные данные"
   ]
  },
  {
   "cell_type": "code",
   "execution_count": 17,
   "metadata": {},
   "outputs": [
    {
     "data": {
      "text/html": [
       "<div>\n",
       "<style scoped>\n",
       "    .dataframe tbody tr th:only-of-type {\n",
       "        vertical-align: middle;\n",
       "    }\n",
       "\n",
       "    .dataframe tbody tr th {\n",
       "        vertical-align: top;\n",
       "    }\n",
       "\n",
       "    .dataframe thead th {\n",
       "        text-align: right;\n",
       "    }\n",
       "</style>\n",
       "<table border=\"1\" class=\"dataframe\">\n",
       "  <thead>\n",
       "    <tr style=\"text-align: right;\">\n",
       "      <th></th>\n",
       "      <th>date</th>\n",
       "      <th>group</th>\n",
       "      <th>orders</th>\n",
       "      <th>buyers</th>\n",
       "      <th>revenue</th>\n",
       "      <th>visitors</th>\n",
       "    </tr>\n",
       "  </thead>\n",
       "  <tbody>\n",
       "    <tr>\n",
       "      <th>0</th>\n",
       "      <td>2019-08-01</td>\n",
       "      <td>A</td>\n",
       "      <td>20</td>\n",
       "      <td>24</td>\n",
       "      <td>148579</td>\n",
       "      <td>719</td>\n",
       "    </tr>\n",
       "    <tr>\n",
       "      <th>1</th>\n",
       "      <td>2019-08-01</td>\n",
       "      <td>B</td>\n",
       "      <td>20</td>\n",
       "      <td>21</td>\n",
       "      <td>101217</td>\n",
       "      <td>713</td>\n",
       "    </tr>\n",
       "    <tr>\n",
       "      <th>2</th>\n",
       "      <td>2019-08-02</td>\n",
       "      <td>A</td>\n",
       "      <td>38</td>\n",
       "      <td>44</td>\n",
       "      <td>242401</td>\n",
       "      <td>1338</td>\n",
       "    </tr>\n",
       "    <tr>\n",
       "      <th>3</th>\n",
       "      <td>2019-08-02</td>\n",
       "      <td>B</td>\n",
       "      <td>43</td>\n",
       "      <td>45</td>\n",
       "      <td>266748</td>\n",
       "      <td>1294</td>\n",
       "    </tr>\n",
       "    <tr>\n",
       "      <th>4</th>\n",
       "      <td>2019-08-03</td>\n",
       "      <td>A</td>\n",
       "      <td>62</td>\n",
       "      <td>68</td>\n",
       "      <td>354874</td>\n",
       "      <td>1845</td>\n",
       "    </tr>\n",
       "    <tr>\n",
       "      <th>5</th>\n",
       "      <td>2019-08-03</td>\n",
       "      <td>B</td>\n",
       "      <td>59</td>\n",
       "      <td>61</td>\n",
       "      <td>380996</td>\n",
       "      <td>1803</td>\n",
       "    </tr>\n",
       "    <tr>\n",
       "      <th>6</th>\n",
       "      <td>2019-08-04</td>\n",
       "      <td>A</td>\n",
       "      <td>77</td>\n",
       "      <td>84</td>\n",
       "      <td>425699</td>\n",
       "      <td>2562</td>\n",
       "    </tr>\n",
       "    <tr>\n",
       "      <th>7</th>\n",
       "      <td>2019-08-04</td>\n",
       "      <td>B</td>\n",
       "      <td>75</td>\n",
       "      <td>78</td>\n",
       "      <td>489567</td>\n",
       "      <td>2573</td>\n",
       "    </tr>\n",
       "    <tr>\n",
       "      <th>8</th>\n",
       "      <td>2019-08-05</td>\n",
       "      <td>A</td>\n",
       "      <td>100</td>\n",
       "      <td>109</td>\n",
       "      <td>549917</td>\n",
       "      <td>3318</td>\n",
       "    </tr>\n",
       "    <tr>\n",
       "      <th>9</th>\n",
       "      <td>2019-08-05</td>\n",
       "      <td>B</td>\n",
       "      <td>98</td>\n",
       "      <td>101</td>\n",
       "      <td>581995</td>\n",
       "      <td>3280</td>\n",
       "    </tr>\n",
       "  </tbody>\n",
       "</table>\n",
       "</div>"
      ],
      "text/plain": [
       "        date group  orders  buyers  revenue  visitors\n",
       "0 2019-08-01     A      20      24   148579       719\n",
       "1 2019-08-01     B      20      21   101217       713\n",
       "2 2019-08-02     A      38      44   242401      1338\n",
       "3 2019-08-02     B      43      45   266748      1294\n",
       "4 2019-08-03     A      62      68   354874      1845\n",
       "5 2019-08-03     B      59      61   380996      1803\n",
       "6 2019-08-04     A      77      84   425699      2562\n",
       "7 2019-08-04     B      75      78   489567      2573\n",
       "8 2019-08-05     A     100     109   549917      3318\n",
       "9 2019-08-05     B      98     101   581995      3280"
      ]
     },
     "metadata": {},
     "output_type": "display_data"
    }
   ],
   "source": [
    "# создадим массив уникальных пар значений дат и групп теста\n",
    "dates_groups = orders[['date','group']].drop_duplicates()\n",
    "\n",
    "# получим агрегированные кумулятивные по дням данные о заказах \n",
    "orders_aggregated = (dates_groups.apply(lambda x: orders[np.logical_and(orders['date'] <= x['date'], orders['group'] == x['group'])]\n",
    "                                 .agg({'date': 'max', 'group': 'max', 'visitorid': 'nunique', 'transactionid': 'nunique', 'revenue': 'sum'}), axis=1)\n",
    "                                 .sort_values(by=['date','group']))\n",
    "\n",
    "# получим агрегированные кумулятивные по дням данные о посетителях интернет-магазина \n",
    "visitors_aggregated = (dates_groups.apply(lambda x: visitors[np.logical_and(visitors['date'] <= x['date'], visitors['group'] == x['group'])]\n",
    "                                   .agg({'date' : 'max', 'group' : 'max', 'visitors' : 'sum'}), axis=1)\n",
    "                                   .sort_values(by=['date','group']))\n",
    "\n",
    "# объединим кумулятивные данные в одной таблице и присв ее столбцам понятные названия\n",
    "cumulative_data = orders_aggregated.merge(visitors_aggregated, on=['date', 'group'])\n",
    "cumulative_data.columns = ['date', 'group', 'orders', 'buyers', 'revenue', 'visitors'] \n",
    "\n",
    "display(cumulative_data.head(10))"
   ]
  },
  {
   "cell_type": "markdown",
   "metadata": {},
   "source": [
    "Также проверим минимальные и максимальные значения даты"
   ]
  },
  {
   "cell_type": "code",
   "execution_count": 18,
   "metadata": {},
   "outputs": [
    {
     "name": "stdout",
     "output_type": "stream",
     "text": [
      "2019-08-01 00:00:00\n",
      "2019-08-01 00:00:00\n",
      "2019-08-01 00:00:00\n"
     ]
    }
   ],
   "source": [
    "# проверим минимальные значения даты\n",
    "print(orders['date'].min())\n",
    "print(visitors['date'].min())\n",
    "print(cumulative_data['date'].min())"
   ]
  },
  {
   "cell_type": "code",
   "execution_count": 19,
   "metadata": {},
   "outputs": [
    {
     "name": "stdout",
     "output_type": "stream",
     "text": [
      "2019-08-31 00:00:00\n",
      "2019-08-31 00:00:00\n",
      "2019-08-31 00:00:00\n"
     ]
    }
   ],
   "source": [
    "# проверим максимальные значения даты\n",
    "print(orders['date'].max())\n",
    "print(visitors['date'].max())\n",
    "print(cumulative_data['date'].max())"
   ]
  },
  {
   "cell_type": "code",
   "execution_count": 20,
   "metadata": {},
   "outputs": [
    {
     "name": "stdout",
     "output_type": "stream",
     "text": [
      "p-значение:  0.7301376549390499\n",
      "Разница в количестве посетителей групп A и B статистически не значительна\n",
      "\n"
     ]
    }
   ],
   "source": [
    "alpha = 0.05#\n",
    "\n",
    "results = st.mannwhitneyu(visitors[visitors['group']=='A']['visitors'], visitors[visitors['group']=='B']['visitors'])\n",
    "\n",
    "print('p-значение: ', results.pvalue)\n",
    "if results.pvalue < alpha:\n",
    "    print('Разница в количестве посетителей групп A и B статистически значительна\\n')\n",
    "else:\n",
    "    print('Разница в количестве посетителей групп A и B статистически не значительна\\n')"
   ]
  },
  {
   "cell_type": "markdown",
   "metadata": {},
   "source": [
    "#### Построение графика кумулятивной выручки по группам"
   ]
  },
  {
   "cell_type": "code",
   "execution_count": 21,
   "metadata": {},
   "outputs": [],
   "source": [
    "# датафрейм с кумулятивным количеством заказов и кумулятивной выручкой по дням в группе А\n",
    "cumulative_revenue_a = cumulative_data[cumulative_data['group']=='A'][['date','revenue', 'orders']]\n",
    "\n",
    "# датафрейм с кумулятивным количеством заказов и кумулятивной выручкой по дням в группе B\n",
    "cumulative_revenue_b = cumulative_data[cumulative_data['group']=='B'][['date','revenue', 'orders']]"
   ]
  },
  {
   "cell_type": "code",
   "execution_count": 22,
   "metadata": {},
   "outputs": [
    {
     "data": {
      "image/png": "[encoded data removed]",
      "text/plain": [
       "<Figure size 1200x500 with 1 Axes>"
      ]
     },
     "metadata": {},
     "output_type": "display_data"
    }
   ],
   "source": [
    "# Строим график выручки группы А\n",
    "plt.figure(figsize=(12, 5))\n",
    "plt.xticks(rotation=45)\n",
    "\n",
    "plt.plot(cumulative_revenue_a['date'], cumulative_revenue_a['revenue'], label='А', color='blue')\n",
    "\n",
    "# Строим график выручки группы B\n",
    "plt.plot(cumulative_revenue_b['date'], cumulative_revenue_b['revenue'], label='B', color='red')\n",
    "\n",
    "plt.ylabel('Кумулятивная выручка')\n",
    "plt.xlabel('Дата')\n",
    "plt.title('Кумулятивная выручка по группам A/B-теста', fontsize=16)\n",
    "plt.legend()\n",
    "plt.grid()\n",
    "plt.show()"
   ]
  },
  {
   "cell_type": "markdown",
   "metadata": {},
   "source": [
    "- На проятжении всего рассматриваемого периода в обеих группах прибыль растет. Однако прибыль группы B растет быстрее группы А.\n",
    "- Также мозно заметить резкии всплески выручки в группе B. Этот скачок может быть связан с большим числом заказов или же с дорогими заказами."
   ]
  },
  {
   "cell_type": "markdown",
   "metadata": {},
   "source": [
    "#### Построение графика кумулятивного среднего чека по группам"
   ]
  },
  {
   "cell_type": "code",
   "execution_count": 23,
   "metadata": {},
   "outputs": [
    {
     "data": {
      "image/png": "[encoded data removed]",
      "text/plain": [
       "<Figure size 1200x500 with 1 Axes>"
      ]
     },
     "metadata": {},
     "output_type": "display_data"
    }
   ],
   "source": [
    "# Строим график выручки группы А\n",
    "plt.figure(figsize=(12, 5))\n",
    "plt.xticks(rotation=45)\n",
    "\n",
    "plt.plot(cumulative_revenue_a['date'], cumulative_revenue_a['revenue']/cumulative_revenue_a['orders'],\n",
    "         label='А', color='blue')\n",
    "\n",
    "# Строим график выручки группы B\n",
    "plt.plot(cumulative_revenue_b['date'], cumulative_revenue_b['revenue']/cumulative_revenue_b['orders'],\n",
    "         label='B', color='red')\n",
    "\n",
    "plt.ylabel('Кумулятивная выручка')\n",
    "plt.xlabel('Дата')\n",
    "plt.title('Кумулятивный средний чек по группам A/B-теста', fontsize=16)\n",
    "plt.legend()\n",
    "plt.grid()\n",
    "plt.show()"
   ]
  },
  {
   "cell_type": "markdown",
   "metadata": {},
   "source": [
    "- На этом графике скачок в группе B еще более резкий. После него наблюдаеся падение размера среднего чека, а в группе A заметин рост.\n",
    "- Необходимо больше данных для того, чтобы график среднего чека пришел к реальному значению."
   ]
  },
  {
   "cell_type": "markdown",
   "metadata": {},
   "source": [
    "#### Построение графика относительного изменения кумулятивного среднего чека группы B к группе A."
   ]
  },
  {
   "cell_type": "code",
   "execution_count": 24,
   "metadata": {},
   "outputs": [
    {
     "data": {
      "text/html": [
       "<div>\n",
       "<style scoped>\n",
       "    .dataframe tbody tr th:only-of-type {\n",
       "        vertical-align: middle;\n",
       "    }\n",
       "\n",
       "    .dataframe tbody tr th {\n",
       "        vertical-align: top;\n",
       "    }\n",
       "\n",
       "    .dataframe thead th {\n",
       "        text-align: right;\n",
       "    }\n",
       "</style>\n",
       "<table border=\"1\" class=\"dataframe\">\n",
       "  <thead>\n",
       "    <tr style=\"text-align: right;\">\n",
       "      <th></th>\n",
       "      <th>date</th>\n",
       "      <th>revenueA</th>\n",
       "      <th>ordersA</th>\n",
       "      <th>revenueB</th>\n",
       "      <th>ordersB</th>\n",
       "    </tr>\n",
       "  </thead>\n",
       "  <tbody>\n",
       "    <tr>\n",
       "      <th>15</th>\n",
       "      <td>2019-08-16</td>\n",
       "      <td>2078908</td>\n",
       "      <td>277</td>\n",
       "      <td>2539635</td>\n",
       "      <td>336</td>\n",
       "    </tr>\n",
       "    <tr>\n",
       "      <th>12</th>\n",
       "      <td>2019-08-13</td>\n",
       "      <td>1826511</td>\n",
       "      <td>223</td>\n",
       "      <td>1853738</td>\n",
       "      <td>268</td>\n",
       "    </tr>\n",
       "    <tr>\n",
       "      <th>9</th>\n",
       "      <td>2019-08-10</td>\n",
       "      <td>1236098</td>\n",
       "      <td>175</td>\n",
       "      <td>1539203</td>\n",
       "      <td>215</td>\n",
       "    </tr>\n",
       "  </tbody>\n",
       "</table>\n",
       "</div>"
      ],
      "text/plain": [
       "         date  revenueA  ordersA  revenueB  ordersB\n",
       "15 2019-08-16   2078908      277   2539635      336\n",
       "12 2019-08-13   1826511      223   1853738      268\n",
       "9  2019-08-10   1236098      175   1539203      215"
      ]
     },
     "execution_count": 24,
     "metadata": {},
     "output_type": "execute_result"
    }
   ],
   "source": [
    "cumulative_revenue = cumulative_revenue_a.merge(cumulative_revenue_b, on='date', suffixes=['A', 'B'])\n",
    "\n",
    "cumulative_revenue.sample(3)"
   ]
  },
  {
   "cell_type": "code",
   "execution_count": 25,
   "metadata": {},
   "outputs": [
    {
     "data": {
      "image/png": "[encoded data removed]",
      "text/plain": [
       "<Figure size 1200x500 with 1 Axes>"
      ]
     },
     "metadata": {},
     "output_type": "display_data"
    }
   ],
   "source": [
    "plt.figure(figsize=(12, 5))\n",
    "plt.xticks(rotation=45)\n",
    "\n",
    "# cтроим отношение средних чеков\n",
    "plt.plot(cumulative_revenue['date'], (cumulative_revenue['revenueB']/cumulative_revenue['ordersB'])/\n",
    "                                     (cumulative_revenue['revenueA']/cumulative_revenue['ordersA'])-1,\n",
    "         label='B', color='blue')\n",
    "\n",
    "# добавляем ось X\n",
    "plt.axhline(y=0, color='black', linestyle='--')\n",
    "\n",
    "plt.ylabel('Отношение кумулятивных средних чеков')\n",
    "plt.xlabel('Дата')\n",
    "plt.title('Относительное изменение кумулятивного среднего чека группы B к группе A', fontsize=16)\n",
    "plt.legend()\n",
    "plt.grid()\n",
    "plt.show()"
   ]
  },
  {
   "cell_type": "markdown",
   "metadata": {},
   "source": [
    "- На этом графике видно падение выручки в группе B отно сительно группы A.\n",
    "- В дальнейшем средний чек группы B показал стабильное падение, а чек группы А рост."
   ]
  },
  {
   "cell_type": "markdown",
   "metadata": {},
   "source": [
    "#### Построение графика кумулятивного среднего количества заказов на посетителя по группам"
   ]
  },
  {
   "cell_type": "code",
   "execution_count": 26,
   "metadata": {
    "scrolled": true
   },
   "outputs": [
    {
     "data": {
      "image/png": "[encoded data removed]",
      "text/plain": [
       "<Figure size 1200x400 with 1 Axes>"
      ]
     },
     "metadata": {},
     "output_type": "display_data"
    }
   ],
   "source": [
    "# создаем новую колонку с расчетом кумулятивой конверсии\n",
    "cumulative_data['conversion'] = cumulative_data['orders']/cumulative_data['visitors']\n",
    "\n",
    "# отделяем данные по группе A\n",
    "cumulative_data_a = cumulative_data[cumulative_data['group']=='A']\n",
    "\n",
    "# отделяем данные по группе B\n",
    "cumulative_data_b = cumulative_data[cumulative_data['group']=='B']\n",
    "\n",
    "# строим графики\n",
    "plt.figure(figsize=(12, 4))\n",
    "plt.xticks(rotation=45)\n",
    "\n",
    "plt.plot(cumulative_data_a['date'], cumulative_data_a['conversion'], label='A', color='blue')\n",
    "plt.plot(cumulative_data_b['date'], cumulative_data_b['conversion'], label='B', color='red')\n",
    "\n",
    "# задаем масштаб осей\n",
    "plt.axis([pd.to_datetime(\"2019-08-01\"), pd.to_datetime('2019-08-31'), 0, 0.037])\n",
    "\n",
    "plt.ylabel('Кумулятивное количество заказов на пользователя')\n",
    "plt.xlabel('Дата')\n",
    "plt.title('Кумулятивное количество заказов на пользователя по группам A/B-теста', fontsize=16)\n",
    "plt.legend()\n",
    "plt.grid()\n",
    "plt.show()"
   ]
  },
  {
   "cell_type": "markdown",
   "metadata": {},
   "source": [
    "Динамика стабилизировалась с 10 августа. Небольшое преимущество за группой В."
   ]
  },
  {
   "cell_type": "markdown",
   "metadata": {},
   "source": [
    "#### Построение графика относительного изменения кумулятивного среднего количества заказов на посетителей группы B к группе A"
   ]
  },
  {
   "cell_type": "code",
   "execution_count": 27,
   "metadata": {},
   "outputs": [
    {
     "data": {
      "image/png": "[encoded data removed]",
      "text/plain": [
       "<Figure size 1400x500 with 1 Axes>"
      ]
     },
     "metadata": {},
     "output_type": "display_data"
    }
   ],
   "source": [
    "cumulative_conversions = (cumulative_data_a[['date','conversion']].merge(cumulative_data_b[['date','conversion']],\n",
    "                                                                         on='date', suffixes=['A', 'B']))\n",
    "\n",
    "plt.figure(figsize=(14, 5))\n",
    "plt.xticks(rotation=45)\n",
    "\n",
    "plt.plot(cumulative_conversions['date'], \n",
    "         cumulative_conversions['conversionB']/cumulative_conversions['conversionA']-1, label='В', color='blue')\n",
    "plt.ylabel('Кумулятивное количество заказов на пользователя')\n",
    "plt.xlabel('Дата')\n",
    "plt.title('Относительное изменение кумулятивного количества заказов на пользователя группы B к группе A', fontsize=16)\n",
    "plt.legend()\n",
    "\n",
    "plt.axhline(y=0.15, color='gray', linestyle='--')\n",
    "plt.axhline(y=0, color='black', linestyle='--')\n",
    "plt.axis([pd.to_datetime(\"2019-08-01\"), pd.to_datetime('2019-09-01'), -0.05, 0.25])\n",
    "plt.grid()\n",
    "plt.show()"
   ]
  },
  {
   "cell_type": "markdown",
   "metadata": {},
   "source": [
    "- Количество заказов на пользователя в группе В обогнало группу А на 20-24% к середине августа, затем, после постепенного снижения, привысило на 10-15% в последний период.\n",
    "- Метрика лучше в группе В практически на всем рассматриваемом периоде, кроме первых 6 дней. К концу периода заметно снижение роста и выход на плато."
   ]
  },
  {
   "cell_type": "markdown",
   "metadata": {},
   "source": [
    "#### Построение точечного графика количества заказов по пользователям"
   ]
  },
  {
   "cell_type": "code",
   "execution_count": 28,
   "metadata": {},
   "outputs": [
    {
     "data": {
      "image/png": "[encoded data removed]",
      "text/plain": [
       "<Figure size 1200x500 with 1 Axes>"
      ]
     },
     "metadata": {},
     "output_type": "display_data"
    }
   ],
   "source": [
    "# подсчитаем количество заказов каждого пользователям \n",
    "orders_agg = (orders\n",
    "              .groupby(by=['visitorid'])\n",
    "              .agg({'transactionid': 'count'})\n",
    "              .rename(columns={'transactionid': 'orders_cnt'})\n",
    "              .reset_index()\n",
    ")\n",
    "\n",
    "plt.figure(figsize=(12, 5))\n",
    "\n",
    "# укажем серию из чисел от 0 до количества наблюдений в orders_agg\n",
    "x_values = pd.Series(range(0, len(orders_agg['orders_cnt'])))\n",
    "plt.scatter(x_values, orders_agg['orders_cnt'])\n",
    "\n",
    "# построим точечный график количества заказов по пользователям\n",
    "plt.title('График количества заказов по пользователям', fontsize=20)\n",
    "plt.ylabel('Заказы', fontsize=15)\n",
    "plt.xlabel('Пользователи', fontsize=15)\n",
    "\n",
    "plt.xticks(fontsize=12)\n",
    "plt.yticks(np.arange(min(orders_agg['orders_cnt'])-1, max(orders_agg['orders_cnt'])+2, 1))\n",
    "plt.yticks(fontsize=12)\n",
    "plt.grid()\n",
    "plt.show()"
   ]
  },
  {
   "cell_type": "markdown",
   "metadata": {},
   "source": [
    "- Как и предполагалось в количестве заказов есть аномальные значения. Было по 8, 9 и 11 заказоб, но подавляющая часть делала по 1-2 заказ."
   ]
  },
  {
   "cell_type": "markdown",
   "metadata": {},
   "source": [
    "#### Подсчет 95-ого и 99-ого перцентилей количества заказов на пользователя"
   ]
  },
  {
   "cell_type": "code",
   "execution_count": 29,
   "metadata": {},
   "outputs": [
    {
     "name": "stdout",
     "output_type": "stream",
     "text": [
      "95-й прецентиль количества заказов на пользователя:  2.0\n",
      "99-й прецентиль количества заказов на пользователя:  4.0\n"
     ]
    }
   ],
   "source": [
    "percent = np.percentile(orders_agg['orders_cnt'], [95, 99])\n",
    "print('95-й прецентиль количества заказов на пользователя: ', percent[0])\n",
    "print('99-й прецентиль количества заказов на пользователя: ', percent[1])"
   ]
  },
  {
   "cell_type": "markdown",
   "metadata": {},
   "source": [
    "- Возьмем за опорную границу 3 заказа. Будем отсекать значения количества заказов больше 2."
   ]
  },
  {
   "cell_type": "markdown",
   "metadata": {},
   "source": [
    "#### Построение точечного графика стоимостей заказов"
   ]
  },
  {
   "cell_type": "code",
   "execution_count": 30,
   "metadata": {},
   "outputs": [
    {
     "data": {
      "image/png": "[encoded data removed]",
      "text/plain": [
       "<Figure size 1400x800 with 1 Axes>"
      ]
     },
     "metadata": {},
     "output_type": "display_data"
    },
    {
     "data": {
      "text/plain": [
       "count       1,197.000\n",
       "mean        8,348.006\n",
       "std        39,191.132\n",
       "min            50.000\n",
       "25%         1,220.000\n",
       "50%         2,978.000\n",
       "75%         8,290.000\n",
       "max     1,294,500.000\n",
       "Name: revenue, dtype: float64"
      ]
     },
     "execution_count": 30,
     "metadata": {},
     "output_type": "execute_result"
    }
   ],
   "source": [
    "# серия из чисел от 0 до количества наблюдений в orders\n",
    "x_values = pd.Series(range(0,len(orders)))\n",
    "\n",
    "# построим точечный график стоимостей заказов\n",
    "plt.figure(figsize=(14, 8))\n",
    "plt.scatter(x_values, orders['revenue'])\n",
    "plt.xlabel('Заказы')\n",
    "plt.ylabel('Стоимости заказов')\n",
    "plt.title('Cтоимости заказов', fontsize=16)\n",
    "plt.yticks(np.arange(0, max(orders['revenue']), 10000))\n",
    "plt.axis([0, 1200, 0, 100000])\n",
    "plt.grid()\n",
    "plt.show()\n",
    "orders['revenue'].describe()"
   ]
  },
  {
   "cell_type": "markdown",
   "metadata": {},
   "source": [
    "- Большая часть заказов стоит меньше 10 000. Есть и аномальные заказы, такие как за 1 294 500. Они искажают средние значения.\n"
   ]
  },
  {
   "cell_type": "markdown",
   "metadata": {},
   "source": [
    "#### Посчет 95-ого и 99-ого перцентилей стоимости заказов"
   ]
  },
  {
   "cell_type": "code",
   "execution_count": 31,
   "metadata": {},
   "outputs": [
    {
     "name": "stdout",
     "output_type": "stream",
     "text": [
      "95-й перцентиль стоимости заказов: 28000\n",
      "99-й перцентиль стоимости заказов: 58233\n"
     ]
    }
   ],
   "source": [
    "percent = np.percentile(orders['revenue'], [95, 99])\n",
    "print('95-й перцентиль стоимости заказов: {:.0f}'.format(percent[0]))\n",
    "print('99-й перцентиль стоимости заказов: {:.0f}'.format(percent[1]))"
   ]
  },
  {
   "cell_type": "markdown",
   "metadata": {},
   "source": [
    "- 95% заказов меньше 28 000. \n",
    "- Поэтому заказы дороже 28 000 будем считать аномальными."
   ]
  },
  {
   "cell_type": "markdown",
   "metadata": {},
   "source": [
    "#### Создание датафрейма с «сырыми» данными."
   ]
  },
  {
   "cell_type": "code",
   "execution_count": 32,
   "metadata": {},
   "outputs": [
    {
     "data": {
      "text/html": [
       "<div>\n",
       "<style scoped>\n",
       "    .dataframe tbody tr th:only-of-type {\n",
       "        vertical-align: middle;\n",
       "    }\n",
       "\n",
       "    .dataframe tbody tr th {\n",
       "        vertical-align: top;\n",
       "    }\n",
       "\n",
       "    .dataframe thead th {\n",
       "        text-align: right;\n",
       "    }\n",
       "</style>\n",
       "<table border=\"1\" class=\"dataframe\">\n",
       "  <thead>\n",
       "    <tr style=\"text-align: right;\">\n",
       "      <th></th>\n",
       "      <th>date</th>\n",
       "      <th>orders_per_date_a</th>\n",
       "      <th>revenue_per_date_a</th>\n",
       "      <th>orders_per_date_b</th>\n",
       "      <th>revenue_per_date_b</th>\n",
       "      <th>visitors_per_date_a</th>\n",
       "      <th>visitors_per_date_b</th>\n",
       "      <th>visitors_cummulative_a</th>\n",
       "      <th>visitors_cummulative_b</th>\n",
       "    </tr>\n",
       "  </thead>\n",
       "  <tbody>\n",
       "    <tr>\n",
       "      <th>0</th>\n",
       "      <td>2019-08-01</td>\n",
       "      <td>24</td>\n",
       "      <td>148579</td>\n",
       "      <td>21</td>\n",
       "      <td>101217</td>\n",
       "      <td>719</td>\n",
       "      <td>713</td>\n",
       "      <td>719</td>\n",
       "      <td>713</td>\n",
       "    </tr>\n",
       "    <tr>\n",
       "      <th>1</th>\n",
       "      <td>2019-08-02</td>\n",
       "      <td>20</td>\n",
       "      <td>93822</td>\n",
       "      <td>24</td>\n",
       "      <td>165531</td>\n",
       "      <td>619</td>\n",
       "      <td>581</td>\n",
       "      <td>1338</td>\n",
       "      <td>1294</td>\n",
       "    </tr>\n",
       "    <tr>\n",
       "      <th>2</th>\n",
       "      <td>2019-08-03</td>\n",
       "      <td>24</td>\n",
       "      <td>112473</td>\n",
       "      <td>16</td>\n",
       "      <td>114248</td>\n",
       "      <td>507</td>\n",
       "      <td>509</td>\n",
       "      <td>1845</td>\n",
       "      <td>1803</td>\n",
       "    </tr>\n",
       "  </tbody>\n",
       "</table>\n",
       "</div>"
      ],
      "text/plain": [
       "        date  orders_per_date_a  revenue_per_date_a  orders_per_date_b  \\\n",
       "0 2019-08-01                 24              148579                 21   \n",
       "1 2019-08-02                 20               93822                 24   \n",
       "2 2019-08-03                 24              112473                 16   \n",
       "\n",
       "   revenue_per_date_b  visitors_per_date_a  visitors_per_date_b  \\\n",
       "0              101217                  719                  713   \n",
       "1              165531                  619                  581   \n",
       "2              114248                  507                  509   \n",
       "\n",
       "   visitors_cummulative_a  visitors_cummulative_b  \n",
       "0                     719                     713  \n",
       "1                    1338                    1294  \n",
       "2                    1845                    1803  "
      ]
     },
     "execution_count": 32,
     "metadata": {},
     "output_type": "execute_result"
    }
   ],
   "source": [
    "# количество пользователей в выбранную дату в группе A\n",
    "visitors_a_daily = visitors[visitors['group']=='A'][['date', 'visitors']]\n",
    "visitors_a_daily.columns = ['date', 'visitors_per_date_a']\n",
    "\n",
    "# количество пользователей до выбранной даты включительно в группе A\n",
    "visitors_a_cummulative = visitors_a_daily.apply(lambda x: visitors_a_daily[visitors_a_daily['date'] <=x['date']]\n",
    "                                                .agg({'date' : 'max', 'visitors_per_date_a' : 'sum'}), axis=1)\n",
    "visitors_a_cummulative.columns = ['date', 'visitors_cummulative_a']\n",
    "\n",
    "# количество пользователей в выбранную дату в группе B\n",
    "visitors_b_daily = visitors[visitors['group']=='B'][['date', 'visitors']]\n",
    "visitors_b_daily.columns = ['date', 'visitors_per_date_b']\n",
    "\n",
    "# количество пользователей до выбранной даты включительно в группе В\n",
    "visitors_b_cummulative = visitors_b_daily.apply(lambda x: visitors_b_daily[visitors_b_daily['date'] <=x['date']]\\\n",
    "                                     .agg({'date' : 'max', 'visitors_per_date_b' : 'sum'}), axis=1)\n",
    "visitors_b_cummulative.columns = ['date', 'visitors_cummulative_b']\n",
    "\n",
    "# количество заказов и суммарная выручка в выбранную дату в группе A\n",
    "orders_a_daily = (orders[orders['group']=='A'][['date', 'transactionid', 'visitorid', 'revenue']]\n",
    "                  .groupby('date', as_index=False)\n",
    "                  .agg({'transactionid' : pd.Series.nunique, 'revenue' : 'sum'}))\n",
    "orders_a_daily.columns = ['date', 'orders_per_date_a', 'revenue_per_date_a']\n",
    "\n",
    "# суммарное число заказов и суммарная выручка до выбранной даты включительно в группе A\n",
    "orders_a_cummulative = (orders_a_daily.apply(lambda x: orders_a_daily[orders_a_daily['date'] <= x['date']]\n",
    "                                      .agg({'date' : 'max', 'orders_per_date_a' : 'sum', 'revenue_per_date_a' : 'sum'}), axis=1)\n",
    "                                      .sort_values(by=['date']))\n",
    "orders_a_cummulative.columns = ['date', 'orders_cummulative_a', 'revenue_cummulative_a']\n",
    "\n",
    "# количество заказов и суммарная выручка в выбранную дату в группе B\n",
    "orders_b_daily = (orders[orders['group']=='B'][['date', 'transactionid', 'visitorid', 'revenue']]\n",
    "                  .groupby('date', as_index=False)\n",
    "                  .agg({'transactionid' : pd.Series.nunique, 'revenue' : 'sum'}))\n",
    "orders_b_daily.columns = ['date', 'orders_per_date_b', 'revenue_per_date_b']\n",
    "\n",
    "# объединение в один датафрейм data\n",
    "data = (orders_a_daily.merge(orders_b_daily, on='date', how='left')\n",
    "        .merge(visitors_a_daily, on='date', how='left')\n",
    "        .merge(visitors_b_daily, on='date', how='left')\n",
    "        .merge(visitors_a_cummulative, on='date', how='left')\n",
    "        .merge(visitors_b_cummulative, on='date', how='left'))\n",
    "\n",
    "data.head(3)"
   ]
  },
  {
   "cell_type": "code",
   "execution_count": 33,
   "metadata": {},
   "outputs": [],
   "source": [
    "# создадим переменные orders_by_users_a и orders_by_users_b со столбцами ['visitorid', 'transactionid']\n",
    "# в них для каждого пользователя, который сделал хотя бы 1 заказ будет указано количество совершённых заказов\n",
    "orders_by_users_a = orders[orders['group']=='A'].groupby('visitorid', as_index=False).agg({'transactionid' : pd.Series.nunique})\n",
    "orders_by_users_a.columns = ['visitorid', 'transactionid']\n",
    "\n",
    "orders_by_users_b = orders[orders['group']=='B'].groupby('visitorid', as_index=False).agg({'transactionid' : pd.Series.nunique})\n",
    "orders_by_users_b.columns = ['visitorid', 'transactionid']\n",
    "\n",
    "# объявим переменные sample_a и sample_b, в которых пользователям из каждой группы А/В теста \n",
    "# будет соответствовать количество совершённых заказов \n",
    "# тем, кто ничего не заказал, будут соответствовать нули\n",
    "sample_a = pd.concat([orders_by_users_a['transactionid'],pd.Series(0, index=np.arange(data['visitors_per_date_a'].sum()\n",
    "                                                                                      - len(orders_by_users_a['transactionid'])), name='orders')],axis=0)\n",
    "sample_b = pd.concat([orders_by_users_b['transactionid'],pd.Series(0, index=np.arange(data['visitors_per_date_b'].sum()\n",
    "                                                                                      - len(orders_by_users_b['transactionid'])), name='orders')],axis=0)"
   ]
  },
  {
   "cell_type": "markdown",
   "metadata": {},
   "source": [
    "#### Посчет статистической значимости различий в среднем количестве заказов на посетителя между группами по «сырым» данным"
   ]
  },
  {
   "cell_type": "markdown",
   "metadata": {},
   "source": [
    "Сформулируем статистические гипотезы:\n",
    "\n",
    "**H0** — Среднее количество заказов на посетителя групп A и B равны, статистически значимых отличий нет.\n",
    "\n",
    "**H1** — Среднем количество заказов на посетителя групп A и B различны, статистически значимые отличия есть.\n",
    "\n",
    "Применим статистический критерий Манна-Уитни к полученным выборкам."
   ]
  },
  {
   "cell_type": "code",
   "execution_count": 34,
   "metadata": {},
   "outputs": [
    {
     "name": "stdout",
     "output_type": "stream",
     "text": [
      "p-value: 0.017\n",
      "Отвергаем нулевую гипотезу.\n",
      "Относительный прирост группы В к группе А >= уровня значимости: 0.138\n"
     ]
    }
   ],
   "source": [
    "# критический уровень статистической значимости зададим 5% \n",
    "alpha = .05 \n",
    "\n",
    "# передадим критерию mannwhitneyu() данные\n",
    "pvalue = st.mannwhitneyu(sample_a, sample_b)[1]\n",
    "\n",
    "print('p-value:',\"{0:.3f}\".format(st.mannwhitneyu(sample_a, sample_b)[1]))\n",
    "\n",
    "if pvalue < alpha:\n",
    "    print('Отвергаем нулевую гипотезу.')\n",
    "else:\n",
    "    print('Не получилось отвергнуть нулевую гипотезу.')\n",
    "\n",
    "\n",
    "print('Относительный прирост группы В к группе А >= уровня значимости:',\"{0:.3f}\".format(sample_b.mean() / sample_a.mean() - 1))"
   ]
  },
  {
   "cell_type": "markdown",
   "metadata": {},
   "source": [
    "1. \"Сырые\" данные говорят о том, что в среднем количестве заказов между группами есть статистически значимые различия. \n",
    "2. Прирост среднего группы В к группе А равен 13.8%"
   ]
  },
  {
   "cell_type": "markdown",
   "metadata": {},
   "source": [
    "#### Посчет статистичесой значимости различий в среднем чеке заказа между группами по «сырым» данным"
   ]
  },
  {
   "cell_type": "markdown",
   "metadata": {},
   "source": [
    "Сформулируем статистические гипотезы:\n",
    "\n",
    "**H0** — средний чек в группе А и группе В одинаковый.\n",
    "\n",
    "**H1** — средний чек в группе А и группе В различается.\n",
    "\n",
    "Применим статистический критерий Уилкоксона-Манна-Уитни."
   ]
  },
  {
   "cell_type": "code",
   "execution_count": 35,
   "metadata": {},
   "outputs": [
    {
     "name": "stdout",
     "output_type": "stream",
     "text": [
      "p-value: 0.729\n",
      "Не получилось отвергнуть нулевую гипотезу.\n",
      "Относительный прирост группы В к группе А >= уровня значимости: 0.259\n"
     ]
    }
   ],
   "source": [
    "# передадим критерию mannwhitneyu() данные\n",
    "pvalue = st.mannwhitneyu(orders[orders['group']=='A']['revenue'], orders[orders['group']=='B']['revenue'])[1]\n",
    "\n",
    "print(\"p-value: {0:.3f}\".format(pvalue))\n",
    "\n",
    "if pvalue < alpha:\n",
    "    print('Отвергаем нулевую гипотезу.')\n",
    "else:\n",
    "    print('Не получилось отвергнуть нулевую гипотезу.')\n",
    "    \n",
    "# относительное различие в конверсии между группами\n",
    "print('Относительный прирост группы В к группе А >= уровня значимости: {0:.3f}'\n",
    "      .format(orders[orders['group']=='B']['revenue'].mean()/orders[orders['group']=='A']['revenue'].mean()-1)) "
   ]
  },
  {
   "cell_type": "markdown",
   "metadata": {},
   "source": [
    "1. \"Сырые\" данные говорят о том, что средний чек в группах А/В одинаковый\n",
    "2. Прирост среднего чека группы B по отношению к группе A равен 25,9%."
   ]
  },
  {
   "cell_type": "markdown",
   "metadata": {},
   "source": [
    "####  Создание датафрейма с «очищенными» данными."
   ]
  },
  {
   "cell_type": "code",
   "execution_count": 36,
   "metadata": {},
   "outputs": [
    {
     "name": "stdout",
     "output_type": "stream",
     "text": [
      "Всего аномальных пользователей: 74\n"
     ]
    }
   ],
   "source": [
    "# сделаем срез пользователей, совершивших заказы дороже 28 000 \n",
    "users_many_orders = pd.concat([orders_by_users_a[orders_by_users_a['transactionid'] > orders_by_users_a['transactionid'].quantile(0.95)]['visitorid'],\n",
    "                               orders_by_users_b[orders_by_users_b['transactionid'] > orders_by_users_b['transactionid'].quantile(0.95)]['visitorid']],\n",
    "                              axis = 0)\n",
    "\n",
    "# сделаем срезы пользователей с числом заказов больше 2\n",
    "users_expensive_orders = orders[orders['revenue'] > orders['revenue'].quantile(0.95)]['visitorid']\n",
    "\n",
    "# объединим их в таблице abnormal_date\n",
    "abnormal_date = pd.concat([users_many_orders, users_expensive_orders], axis=0).drop_duplicates().sort_values()\n",
    "\n",
    "# сколько всего аномальных пользователей\n",
    "print('Всего аномальных пользователей: {}'.format(len(abnormal_date))) "
   ]
  },
  {
   "cell_type": "code",
   "execution_count": 37,
   "metadata": {},
   "outputs": [],
   "source": [
    "# Подготовим выборки\n",
    "sample_a_filtered = pd.concat([orders_by_users_a[np.logical_not(orders_by_users_a['visitorid']\n",
    "                                                           .isin(abnormal_date))]['transactionid'], \n",
    "                               pd.Series(0, index=np.arange(data['visitors_per_date_a'].sum() \n",
    "                                                            - len(orders_by_users_a['transactionid'])), name='orders')],axis=0)\n",
    "\n",
    "sample_b_filtered = pd.concat([orders_by_users_b[np.logical_not(orders_by_users_b['visitorid']\n",
    "                                                                .isin(abnormal_date))]['transactionid'],\n",
    "                               pd.Series(0, index=np.arange(data['visitors_per_date_b'].sum()\n",
    "                                                            - len(orders_by_users_b['transactionid'])), name='orders')],axis=0)"
   ]
  },
  {
   "cell_type": "markdown",
   "metadata": {},
   "source": [
    "#### Посчет статистической значимости различий в среднем количестве заказов на посетителя между группами по «очищенным» данным"
   ]
  },
  {
   "cell_type": "markdown",
   "metadata": {},
   "source": [
    "Сформулируем статистические гипотезы:\n",
    "\n",
    "**H0** — Среднее количество заказов на посетителя групп A и B равны, статистически значимых отличий нет.\n",
    "\n",
    "**H1** — Среднем количество заказов на посетителя групп A и B различны, статистически значимые отличия есть.\n",
    "\n",
    "Применим статистический критерий Уилкоксона-Манна-Уитни."
   ]
  },
  {
   "cell_type": "code",
   "execution_count": 38,
   "metadata": {},
   "outputs": [
    {
     "name": "stdout",
     "output_type": "stream",
     "text": [
      "p-value: 0.013\n",
      "Отвергаем нулевую гипотезу.\n",
      "Относительный прирост группы В к группе А >= уровня значимости: 0.173\n"
     ]
    }
   ],
   "source": [
    "# передадим критерию mannwhitneyu() данные\n",
    "pvalue = st.mannwhitneyu(sample_a_filtered, sample_b_filtered)[1]\n",
    "\n",
    "print('p-value:',\"{0:.3f}\".format(pvalue))\n",
    "\n",
    "if pvalue < alpha:\n",
    "    print('Отвергаем нулевую гипотезу.')\n",
    "else:\n",
    "    print('Не получилось отвергнуть нулевую гипотезу.')\n",
    "\n",
    "\n",
    "print('Относительный прирост группы В к группе А >= уровня значимости:',\"{0:.3f}\".format(sample_b_filtered.mean() / sample_a_filtered.mean() - 1))"
   ]
  },
  {
   "cell_type": "markdown",
   "metadata": {},
   "source": [
    "- Среднем количество заказов на посетителя групп A и B различны, статистически значимые отличия есть.\n",
    "- Прирост группы В к группе А увеличился с 13.8% до 17.3%"
   ]
  },
  {
   "cell_type": "markdown",
   "metadata": {},
   "source": [
    "#### Посчет статистической значимости различий в среднем чеке заказа между группами по «очищенным» данным"
   ]
  },
  {
   "cell_type": "markdown",
   "metadata": {},
   "source": [
    "Сформулируем статистические гипотезы:\n",
    "\n",
    "**H0** — средний чек в группе А и группе В одинаковый.\n",
    "\n",
    "**H1** — средний чек в группе А и группе В различается.\n",
    "\n",
    "Применим статистический критерий Уилкоксона-Манна-Уитни."
   ]
  },
  {
   "cell_type": "code",
   "execution_count": 39,
   "metadata": {},
   "outputs": [
    {
     "name": "stdout",
     "output_type": "stream",
     "text": [
      "p-value: 0.738\n",
      "Не получилось отвергнуть нулевую гипотезу.\n",
      "Относительный прирост группы В к группе А >= уровня значимости: -0.020\n"
     ]
    }
   ],
   "source": [
    "pvalue = st.mannwhitneyu(orders[np.logical_and(orders['group']=='A', np.logical_not(orders['visitorid'].isin(abnormal_date)))]['revenue'], \n",
    "                         orders[np.logical_and(orders['group']=='B', np.logical_not(orders['visitorid'].isin(abnormal_date)))]['revenue'])[1]\n",
    "\n",
    "print('p-value:',\"{0:.3f}\".format(pvalue))\n",
    "\n",
    "if pvalue < alpha:\n",
    "    print('Отвергаем нулевую гипотезу.')\n",
    "else:\n",
    "    print('Не получилось отвергнуть нулевую гипотезу.')\n",
    "\n",
    "\n",
    "print('Относительный прирост группы В к группе А >= уровня значимости:',\"{0:.3f}\"\n",
    "      .format(orders[np.logical_and(orders['group']=='B', np.logical_not(\n",
    "                 orders['visitorid'].isin(abnormal_date)))]['revenue'].mean()/orders[np.logical_and(\n",
    "                    orders['group']=='A', np.logical_not(orders['visitorid'].isin(abnormal_date)))]['revenue'].mean() - 1))"
   ]
  },
  {
   "cell_type": "markdown",
   "metadata": {},
   "source": [
    "- Статистической разницы между \"очищенными\" и \"сырыми\" данными нет.\n",
    "- Относительный прирост группы В к группе А уменьшился с 25.9% до -2%"
   ]
  },
  {
   "cell_type": "markdown",
   "metadata": {},
   "source": [
    "### Общий вывод"
   ]
  },
  {
   "cell_type": "markdown",
   "metadata": {},
   "source": [
    "**1.Загрузка и подготовка данных к анализу.:**\n",
    "- Заменили тип данных колонок на соответствующий.\n",
    "- Переписали названия столбцов.\n",
    "- Нашли 0 пропусков и дубликатов в датафреймах.\n",
    "- Выявили 58 пользователей, которые попали в обе группы А/В теста\n",
    "\n",
    "**2.Приоритизация гипотез:**\n",
    "- Используя метод ICE на первое место встала гипотеза №8: Запустить акцию, дающую скидку на товар в день рождения.\n",
    "- Используя метод ICE на первое место встала гипотеза №7: Добавить форму подписки на все основные страницы, чтобы собрать базу клиентов для email-рассылок.\n",
    "- По методу ICE приоритетными стали гипотезы № 8, 0, 7, а по RICE гипотезы № 7, 2, 0. Все поменялось потому, что параметр Reach, который отвечает за охват аудитории, оказался выше у лидирующих гипотез (по фреймворку RICE), а метод ICE не учитывает этот параметр.\n",
    "\n",
    "**3.Анализ A/B-теста:**\n",
    " - По результатам теста двух групп A/B теста было принято решение **остановить тест**, так как среднее количество заказов имеет статистическую значимость. То есть разница получена не случайным образом, а она действительно присутствует. В группе В больше заказов, чем в группе А на 17.3%, поэтому мы можем зафиксировать победу группы В."
   ]
  }
 ],
 "metadata": {
  "ExecuteTimeLog": [
   {
    "duration": 1331,
    "start_time": "2024-08-25T08:03:26.212Z"
   },
   {
    "duration": 255,
    "start_time": "2024-08-25T08:03:27.545Z"
   },
   {
    "duration": 27,
    "start_time": "2024-08-25T08:15:41.798Z"
   },
   {
    "duration": 13,
    "start_time": "2024-08-25T10:05:02.552Z"
   },
   {
    "duration": 32,
    "start_time": "2024-08-25T10:31:05.134Z"
   },
   {
    "duration": 5,
    "start_time": "2024-08-25T14:06:14.110Z"
   },
   {
    "duration": 29,
    "start_time": "2024-08-25T14:06:20.819Z"
   },
   {
    "duration": 7,
    "start_time": "2024-08-25T14:09:07.958Z"
   },
   {
    "duration": 25,
    "start_time": "2024-08-25T14:09:27.418Z"
   },
   {
    "duration": 14,
    "start_time": "2024-08-25T16:04:02.222Z"
   },
   {
    "duration": 14,
    "start_time": "2024-08-25T16:04:15.030Z"
   },
   {
    "duration": 1040,
    "start_time": "2024-08-25T16:04:33.480Z"
   },
   {
    "duration": 88,
    "start_time": "2024-08-25T16:04:34.522Z"
   },
   {
    "duration": 20,
    "start_time": "2024-08-25T16:04:35.475Z"
   },
   {
    "duration": 9,
    "start_time": "2024-08-25T16:04:36.336Z"
   },
   {
    "duration": 12,
    "start_time": "2024-08-25T16:04:36.914Z"
   },
   {
    "duration": 24,
    "start_time": "2024-08-25T16:04:37.555Z"
   },
   {
    "duration": 4,
    "start_time": "2024-08-25T16:04:38.142Z"
   },
   {
    "duration": 6,
    "start_time": "2024-08-25T16:04:38.744Z"
   },
   {
    "duration": 24,
    "start_time": "2024-08-25T16:04:39.401Z"
   },
   {
    "duration": 88,
    "start_time": "2024-08-25T16:05:33.911Z"
   },
   {
    "duration": 11,
    "start_time": "2024-08-25T16:05:48.528Z"
   },
   {
    "duration": 8,
    "start_time": "2024-08-25T16:18:33.488Z"
   },
   {
    "duration": 64,
    "start_time": "2024-08-25T16:19:02.240Z"
   },
   {
    "duration": 66,
    "start_time": "2024-08-25T16:19:20.912Z"
   },
   {
    "duration": 4,
    "start_time": "2024-08-25T16:19:54.762Z"
   },
   {
    "duration": 7,
    "start_time": "2024-08-25T16:20:30.701Z"
   },
   {
    "duration": 22,
    "start_time": "2024-08-25T16:22:55.921Z"
   },
   {
    "duration": 12,
    "start_time": "2024-08-25T16:23:16.337Z"
   },
   {
    "duration": 12,
    "start_time": "2024-08-25T16:24:20.540Z"
   },
   {
    "duration": 9,
    "start_time": "2024-08-25T16:24:26.940Z"
   },
   {
    "duration": 69,
    "start_time": "2024-08-25T16:25:36.815Z"
   },
   {
    "duration": 59,
    "start_time": "2024-08-25T16:25:59.936Z"
   },
   {
    "duration": 61,
    "start_time": "2024-08-25T16:27:03.058Z"
   },
   {
    "duration": 8,
    "start_time": "2024-08-25T16:54:52.265Z"
   },
   {
    "duration": 2,
    "start_time": "2024-08-25T16:56:55.966Z"
   },
   {
    "duration": 10,
    "start_time": "2024-08-25T16:57:50.897Z"
   },
   {
    "duration": 11,
    "start_time": "2024-08-25T16:59:10.443Z"
   },
   {
    "duration": 3,
    "start_time": "2024-08-25T17:10:54.676Z"
   },
   {
    "duration": 4,
    "start_time": "2024-08-25T17:12:02.910Z"
   },
   {
    "duration": 3,
    "start_time": "2024-08-25T17:12:09.662Z"
   },
   {
    "duration": 9,
    "start_time": "2024-08-25T17:12:13.544Z"
   },
   {
    "duration": 8,
    "start_time": "2024-08-25T17:15:36.316Z"
   },
   {
    "duration": 4,
    "start_time": "2024-08-25T18:30:40.706Z"
   },
   {
    "duration": 75,
    "start_time": "2024-08-25T19:03:21.152Z"
   },
   {
    "duration": 66,
    "start_time": "2024-08-25T19:13:31.678Z"
   },
   {
    "duration": 29,
    "start_time": "2024-08-25T19:15:54.322Z"
   },
   {
    "duration": 23,
    "start_time": "2024-08-25T19:18:57.334Z"
   },
   {
    "duration": 255,
    "start_time": "2024-08-25T19:28:49.294Z"
   },
   {
    "duration": 248,
    "start_time": "2024-08-25T19:29:22.759Z"
   },
   {
    "duration": 294,
    "start_time": "2024-08-25T19:34:34.870Z"
   },
   {
    "duration": 218,
    "start_time": "2024-08-25T19:35:04.335Z"
   },
   {
    "duration": 220,
    "start_time": "2024-08-25T19:36:00.554Z"
   },
   {
    "duration": 219,
    "start_time": "2024-08-25T19:36:07.578Z"
   },
   {
    "duration": 223,
    "start_time": "2024-08-25T19:37:05.589Z"
   },
   {
    "duration": 170,
    "start_time": "2024-08-25T19:37:39.895Z"
   },
   {
    "duration": 173,
    "start_time": "2024-08-25T19:37:59.592Z"
   },
   {
    "duration": 288,
    "start_time": "2024-08-25T19:38:28.737Z"
   },
   {
    "duration": 6,
    "start_time": "2024-08-25T19:39:18.491Z"
   },
   {
    "duration": 58,
    "start_time": "2024-08-26T09:17:14.150Z"
   },
   {
    "duration": 1466,
    "start_time": "2024-08-26T09:17:31.265Z"
   },
   {
    "duration": 3,
    "start_time": "2024-08-26T09:17:32.733Z"
   },
   {
    "duration": 232,
    "start_time": "2024-08-26T09:17:32.738Z"
   },
   {
    "duration": 22,
    "start_time": "2024-08-26T09:17:32.972Z"
   },
   {
    "duration": 10,
    "start_time": "2024-08-26T09:17:32.996Z"
   },
   {
    "duration": 26,
    "start_time": "2024-08-26T09:17:33.008Z"
   },
   {
    "duration": 47,
    "start_time": "2024-08-26T09:17:33.036Z"
   },
   {
    "duration": 4,
    "start_time": "2024-08-26T09:17:33.085Z"
   },
   {
    "duration": 6,
    "start_time": "2024-08-26T09:17:33.232Z"
   },
   {
    "duration": 39,
    "start_time": "2024-08-26T09:17:33.447Z"
   },
   {
    "duration": 5,
    "start_time": "2024-08-26T09:17:33.681Z"
   },
   {
    "duration": 14,
    "start_time": "2024-08-26T09:17:33.937Z"
   },
   {
    "duration": 72,
    "start_time": "2024-08-26T09:17:34.171Z"
   },
   {
    "duration": 9,
    "start_time": "2024-08-26T09:17:35.111Z"
   },
   {
    "duration": 10,
    "start_time": "2024-08-26T09:17:35.676Z"
   },
   {
    "duration": 11,
    "start_time": "2024-08-26T09:17:36.174Z"
   },
   {
    "duration": 275,
    "start_time": "2024-08-26T09:17:43.207Z"
   },
   {
    "duration": 7,
    "start_time": "2024-08-26T09:17:43.640Z"
   },
   {
    "duration": 6,
    "start_time": "2024-08-26T09:17:44.452Z"
   },
   {
    "duration": 330,
    "start_time": "2024-08-26T09:17:44.933Z"
   },
   {
    "duration": 253,
    "start_time": "2024-08-26T09:17:46.420Z"
   },
   {
    "duration": 261,
    "start_time": "2024-08-26T09:18:45.927Z"
   },
   {
    "duration": 199,
    "start_time": "2024-08-26T09:19:03.111Z"
   },
   {
    "duration": 252,
    "start_time": "2024-08-26T09:19:57.905Z"
   },
   {
    "duration": 230,
    "start_time": "2024-08-26T09:20:07.337Z"
   },
   {
    "duration": 13,
    "start_time": "2024-08-26T09:22:35.744Z"
   },
   {
    "duration": 67,
    "start_time": "2024-08-26T09:25:00.901Z"
   },
   {
    "duration": 195,
    "start_time": "2024-08-26T09:25:08.772Z"
   },
   {
    "duration": 468,
    "start_time": "2024-08-26T09:26:28.360Z"
   },
   {
    "duration": 354,
    "start_time": "2024-08-26T09:26:41.864Z"
   },
   {
    "duration": 353,
    "start_time": "2024-08-26T09:27:24.426Z"
   },
   {
    "duration": 218,
    "start_time": "2024-08-26T09:31:19.820Z"
   },
   {
    "duration": 251,
    "start_time": "2024-08-26T09:31:33.748Z"
   },
   {
    "duration": 254,
    "start_time": "2024-08-26T09:31:54.541Z"
   },
   {
    "duration": 275,
    "start_time": "2024-08-26T09:33:14.607Z"
   },
   {
    "duration": 238,
    "start_time": "2024-08-26T09:33:32.972Z"
   },
   {
    "duration": 235,
    "start_time": "2024-08-26T09:33:54.042Z"
   },
   {
    "duration": 358,
    "start_time": "2024-08-26T09:40:51.921Z"
   },
   {
    "duration": 369,
    "start_time": "2024-08-26T09:41:21.937Z"
   },
   {
    "duration": 425,
    "start_time": "2024-08-26T09:41:28.402Z"
   },
   {
    "duration": 355,
    "start_time": "2024-08-26T09:42:20.356Z"
   },
   {
    "duration": 364,
    "start_time": "2024-08-26T09:42:28.332Z"
   },
   {
    "duration": 369,
    "start_time": "2024-08-26T09:42:36.852Z"
   },
   {
    "duration": 354,
    "start_time": "2024-08-26T09:42:51.590Z"
   },
   {
    "duration": 377,
    "start_time": "2024-08-26T09:44:41.818Z"
   },
   {
    "duration": 352,
    "start_time": "2024-08-26T09:45:12.659Z"
   },
   {
    "duration": 11,
    "start_time": "2024-08-26T09:45:23.195Z"
   },
   {
    "duration": 330,
    "start_time": "2024-08-26T09:45:57.300Z"
   },
   {
    "duration": 359,
    "start_time": "2024-08-26T09:53:16.605Z"
   },
   {
    "duration": 344,
    "start_time": "2024-08-26T09:54:08.791Z"
   },
   {
    "duration": 346,
    "start_time": "2024-08-26T09:54:13.014Z"
   },
   {
    "duration": 324,
    "start_time": "2024-08-26T09:54:22.303Z"
   },
   {
    "duration": 238,
    "start_time": "2024-08-26T09:54:44.272Z"
   },
   {
    "duration": 16,
    "start_time": "2024-08-26T09:56:13.484Z"
   },
   {
    "duration": 218,
    "start_time": "2024-08-26T09:56:32.700Z"
   },
   {
    "duration": 211,
    "start_time": "2024-08-26T09:57:30.094Z"
   },
   {
    "duration": 209,
    "start_time": "2024-08-26T09:57:36.414Z"
   },
   {
    "duration": 263,
    "start_time": "2024-08-26T09:58:49.625Z"
   },
   {
    "duration": 172,
    "start_time": "2024-08-26T10:04:13.134Z"
   },
   {
    "duration": 219,
    "start_time": "2024-08-26T10:04:18.405Z"
   },
   {
    "duration": 158,
    "start_time": "2024-08-26T10:04:40.070Z"
   },
   {
    "duration": 202,
    "start_time": "2024-08-26T10:04:54.823Z"
   },
   {
    "duration": 197,
    "start_time": "2024-08-26T10:05:03.735Z"
   },
   {
    "duration": 281,
    "start_time": "2024-08-26T10:05:17.719Z"
   },
   {
    "duration": 210,
    "start_time": "2024-08-26T10:05:30.592Z"
   },
   {
    "duration": 170,
    "start_time": "2024-08-26T10:05:44.113Z"
   },
   {
    "duration": 196,
    "start_time": "2024-08-26T10:05:57.329Z"
   },
   {
    "duration": 191,
    "start_time": "2024-08-26T10:06:17.146Z"
   },
   {
    "duration": 180,
    "start_time": "2024-08-26T10:07:02.027Z"
   },
   {
    "duration": 173,
    "start_time": "2024-08-26T10:07:08.524Z"
   },
   {
    "duration": 324,
    "start_time": "2024-08-26T10:07:22.205Z"
   },
   {
    "duration": 323,
    "start_time": "2024-08-26T10:07:31.404Z"
   },
   {
    "duration": 210,
    "start_time": "2024-08-26T10:07:44.413Z"
   },
   {
    "duration": 210,
    "start_time": "2024-08-26T10:07:48.253Z"
   },
   {
    "duration": 299,
    "start_time": "2024-08-26T10:07:55.420Z"
   },
   {
    "duration": 211,
    "start_time": "2024-08-26T10:08:09.374Z"
   },
   {
    "duration": 256,
    "start_time": "2024-08-26T10:08:15.854Z"
   },
   {
    "duration": 369,
    "start_time": "2024-08-26T10:08:31.054Z"
   },
   {
    "duration": 206,
    "start_time": "2024-08-26T10:08:46.592Z"
   },
   {
    "duration": 224,
    "start_time": "2024-08-26T10:08:56.920Z"
   },
   {
    "duration": 4,
    "start_time": "2024-08-26T10:11:33.349Z"
   },
   {
    "duration": 5,
    "start_time": "2024-08-26T10:14:30.980Z"
   },
   {
    "duration": 195,
    "start_time": "2024-08-26T10:43:55.903Z"
   },
   {
    "duration": 170,
    "start_time": "2024-08-26T11:06:06.881Z"
   },
   {
    "duration": 202,
    "start_time": "2024-08-26T11:07:19.308Z"
   },
   {
    "duration": 204,
    "start_time": "2024-08-26T11:07:26.347Z"
   },
   {
    "duration": 442,
    "start_time": "2024-08-26T11:08:04.372Z"
   },
   {
    "duration": 358,
    "start_time": "2024-08-26T11:08:17.646Z"
   },
   {
    "duration": 354,
    "start_time": "2024-08-26T11:08:22.326Z"
   },
   {
    "duration": 1621,
    "start_time": "2024-08-26T11:08:36.783Z"
   },
   {
    "duration": 343,
    "start_time": "2024-08-26T11:08:49.095Z"
   },
   {
    "duration": 364,
    "start_time": "2024-08-26T11:09:11.919Z"
   },
   {
    "duration": 149,
    "start_time": "2024-08-26T11:09:41.441Z"
   },
   {
    "duration": 444,
    "start_time": "2024-08-26T11:09:50.417Z"
   },
   {
    "duration": 5,
    "start_time": "2024-08-26T11:24:47.172Z"
   },
   {
    "duration": 12,
    "start_time": "2024-08-26T11:25:18.868Z"
   },
   {
    "duration": 5,
    "start_time": "2024-08-26T11:25:33.012Z"
   },
   {
    "duration": 112,
    "start_time": "2024-08-26T19:28:28.160Z"
   },
   {
    "duration": 98,
    "start_time": "2024-08-26T19:31:52.699Z"
   },
   {
    "duration": 120,
    "start_time": "2024-08-26T19:46:22.508Z"
   },
   {
    "duration": 250,
    "start_time": "2024-08-26T19:47:43.430Z"
   },
   {
    "duration": 176,
    "start_time": "2024-08-26T20:19:16.088Z"
   },
   {
    "duration": 17,
    "start_time": "2024-08-26T20:35:30.571Z"
   },
   {
    "duration": 10,
    "start_time": "2024-08-26T20:36:23.389Z"
   },
   {
    "duration": 51,
    "start_time": "2024-08-26T20:36:34.941Z"
   },
   {
    "duration": 46,
    "start_time": "2024-08-26T20:36:45.869Z"
   },
   {
    "duration": 32,
    "start_time": "2024-08-26T20:38:08.032Z"
   },
   {
    "duration": 30,
    "start_time": "2024-08-26T20:38:19.327Z"
   },
   {
    "duration": 11,
    "start_time": "2024-08-26T20:40:09.387Z"
   },
   {
    "duration": 12,
    "start_time": "2024-08-26T20:40:14.037Z"
   },
   {
    "duration": 42,
    "start_time": "2024-08-26T20:40:24.612Z"
   },
   {
    "duration": 10,
    "start_time": "2024-08-26T20:47:49.910Z"
   },
   {
    "duration": 11,
    "start_time": "2024-08-26T20:47:56.427Z"
   },
   {
    "duration": 51,
    "start_time": "2024-08-26T20:48:53.135Z"
   },
   {
    "duration": 13,
    "start_time": "2024-08-26T20:49:57.669Z"
   },
   {
    "duration": 930,
    "start_time": "2024-08-26T21:02:58.143Z"
   },
   {
    "duration": 880,
    "start_time": "2024-08-26T21:06:51.440Z"
   },
   {
    "duration": 12,
    "start_time": "2024-08-26T21:07:09.849Z"
   },
   {
    "duration": 12,
    "start_time": "2024-08-26T21:09:17.997Z"
   },
   {
    "duration": 8,
    "start_time": "2024-08-26T21:13:28.947Z"
   },
   {
    "duration": 43,
    "start_time": "2024-08-26T21:18:58.658Z"
   },
   {
    "duration": 24,
    "start_time": "2024-08-26T21:22:35.227Z"
   },
   {
    "duration": 9,
    "start_time": "2024-08-26T21:23:27.715Z"
   },
   {
    "duration": 24,
    "start_time": "2024-08-26T21:34:52.990Z"
   },
   {
    "duration": 11,
    "start_time": "2024-08-26T21:35:54.624Z"
   },
   {
    "duration": 14,
    "start_time": "2024-08-26T21:36:50.394Z"
   },
   {
    "duration": 13,
    "start_time": "2024-08-26T21:40:10.908Z"
   },
   {
    "duration": 59,
    "start_time": "2024-08-26T21:43:55.890Z"
   },
   {
    "duration": 24,
    "start_time": "2024-08-26T21:52:00.165Z"
   },
   {
    "duration": 24,
    "start_time": "2024-08-26T21:56:10.654Z"
   },
   {
    "duration": 23,
    "start_time": "2024-08-26T21:57:08.232Z"
   },
   {
    "duration": 1143,
    "start_time": "2024-08-26T22:17:04.534Z"
   },
   {
    "duration": 3,
    "start_time": "2024-08-26T22:17:05.679Z"
   },
   {
    "duration": 75,
    "start_time": "2024-08-26T22:17:08.347Z"
   },
   {
    "duration": 18,
    "start_time": "2024-08-26T22:17:09.171Z"
   },
   {
    "duration": 11,
    "start_time": "2024-08-26T22:17:09.788Z"
   },
   {
    "duration": 10,
    "start_time": "2024-08-26T22:17:10.336Z"
   },
   {
    "duration": 28,
    "start_time": "2024-08-26T22:17:10.855Z"
   },
   {
    "duration": 4,
    "start_time": "2024-08-26T22:17:11.345Z"
   },
   {
    "duration": 8,
    "start_time": "2024-08-26T22:17:11.899Z"
   },
   {
    "duration": 27,
    "start_time": "2024-08-26T22:17:12.421Z"
   },
   {
    "duration": 4,
    "start_time": "2024-08-26T22:17:12.951Z"
   },
   {
    "duration": 9,
    "start_time": "2024-08-26T22:17:13.412Z"
   },
   {
    "duration": 77,
    "start_time": "2024-08-26T22:17:13.861Z"
   },
   {
    "duration": 8,
    "start_time": "2024-08-26T22:17:15.457Z"
   },
   {
    "duration": 10,
    "start_time": "2024-08-26T22:17:16.200Z"
   },
   {
    "duration": 11,
    "start_time": "2024-08-26T22:17:16.804Z"
   },
   {
    "duration": 276,
    "start_time": "2024-08-26T22:17:19.258Z"
   },
   {
    "duration": 7,
    "start_time": "2024-08-26T22:17:19.547Z"
   },
   {
    "duration": 7,
    "start_time": "2024-08-26T22:17:20.133Z"
   },
   {
    "duration": 279,
    "start_time": "2024-08-26T22:17:20.440Z"
   },
   {
    "duration": 214,
    "start_time": "2024-08-26T22:17:21.491Z"
   },
   {
    "duration": 12,
    "start_time": "2024-08-26T22:17:22.724Z"
   },
   {
    "duration": 314,
    "start_time": "2024-08-26T22:17:23.028Z"
   },
   {
    "duration": 208,
    "start_time": "2024-08-26T22:17:24.532Z"
   },
   {
    "duration": 349,
    "start_time": "2024-08-26T22:17:27.131Z"
   },
   {
    "duration": 180,
    "start_time": "2024-08-26T22:17:29.096Z"
   },
   {
    "duration": 4,
    "start_time": "2024-08-26T22:17:30.675Z"
   },
   {
    "duration": 428,
    "start_time": "2024-08-26T22:17:31.784Z"
   },
   {
    "duration": 4,
    "start_time": "2024-08-26T22:17:33.166Z"
   },
   {
    "duration": 217,
    "start_time": "2024-08-26T22:17:34.307Z"
   },
   {
    "duration": 172,
    "start_time": "2024-08-26T22:17:34.957Z"
   },
   {
    "duration": 43,
    "start_time": "2024-08-26T22:17:36.064Z"
   },
   {
    "duration": 10,
    "start_time": "2024-08-26T22:17:37.430Z"
   },
   {
    "duration": 10,
    "start_time": "2024-08-26T22:17:38.458Z"
   },
   {
    "duration": 8,
    "start_time": "2024-08-26T22:17:38.922Z"
   },
   {
    "duration": 24,
    "start_time": "2024-08-26T22:17:39.952Z"
   },
   {
    "duration": 14,
    "start_time": "2024-08-26T22:17:41.273Z"
   },
   {
    "duration": 1306,
    "start_time": "2024-08-27T05:02:06.782Z"
   },
   {
    "duration": 4,
    "start_time": "2024-08-27T05:02:08.091Z"
   },
   {
    "duration": 90,
    "start_time": "2024-08-27T05:02:08.098Z"
   },
   {
    "duration": 30,
    "start_time": "2024-08-27T05:02:08.192Z"
   },
   {
    "duration": 19,
    "start_time": "2024-08-27T05:02:08.224Z"
   },
   {
    "duration": 13,
    "start_time": "2024-08-27T05:02:08.245Z"
   },
   {
    "duration": 41,
    "start_time": "2024-08-27T05:02:08.259Z"
   },
   {
    "duration": 5,
    "start_time": "2024-08-27T05:02:08.302Z"
   },
   {
    "duration": 47,
    "start_time": "2024-08-27T05:02:08.308Z"
   },
   {
    "duration": 63,
    "start_time": "2024-08-27T05:02:08.358Z"
   },
   {
    "duration": 5,
    "start_time": "2024-08-27T05:02:08.423Z"
   },
   {
    "duration": 67,
    "start_time": "2024-08-27T05:02:08.430Z"
   },
   {
    "duration": 86,
    "start_time": "2024-08-27T05:02:08.501Z"
   },
   {
    "duration": 9,
    "start_time": "2024-08-27T05:02:08.590Z"
   },
   {
    "duration": 12,
    "start_time": "2024-08-27T05:02:08.601Z"
   },
   {
    "duration": 103,
    "start_time": "2024-08-27T05:02:08.614Z"
   },
   {
    "duration": 300,
    "start_time": "2024-08-27T05:02:08.719Z"
   },
   {
    "duration": 8,
    "start_time": "2024-08-27T05:02:09.021Z"
   },
   {
    "duration": 68,
    "start_time": "2024-08-27T05:02:09.030Z"
   },
   {
    "duration": 355,
    "start_time": "2024-08-27T05:02:09.100Z"
   },
   {
    "duration": 253,
    "start_time": "2024-08-27T05:02:09.457Z"
   },
   {
    "duration": 12,
    "start_time": "2024-08-27T05:02:09.712Z"
   },
   {
    "duration": 398,
    "start_time": "2024-08-27T05:02:09.726Z"
   },
   {
    "duration": 248,
    "start_time": "2024-08-27T05:02:10.126Z"
   },
   {
    "duration": 348,
    "start_time": "2024-08-27T05:02:10.376Z"
   },
   {
    "duration": 211,
    "start_time": "2024-08-27T05:02:10.726Z"
   },
   {
    "duration": 5,
    "start_time": "2024-08-27T05:02:10.939Z"
   },
   {
    "duration": 520,
    "start_time": "2024-08-27T05:02:10.954Z"
   },
   {
    "duration": 5,
    "start_time": "2024-08-27T05:02:11.476Z"
   },
   {
    "duration": 282,
    "start_time": "2024-08-27T05:02:11.482Z"
   },
   {
    "duration": 178,
    "start_time": "2024-08-27T05:02:11.767Z"
   },
   {
    "duration": 66,
    "start_time": "2024-08-27T05:02:11.947Z"
   },
   {
    "duration": 12,
    "start_time": "2024-08-27T05:02:12.015Z"
   },
   {
    "duration": 12,
    "start_time": "2024-08-27T05:02:12.028Z"
   },
   {
    "duration": 28,
    "start_time": "2024-08-27T05:02:12.042Z"
   },
   {
    "duration": 31,
    "start_time": "2024-08-27T05:02:12.072Z"
   },
   {
    "duration": 15,
    "start_time": "2024-08-27T05:02:12.105Z"
   },
   {
    "duration": 68,
    "start_time": "2024-08-27T09:26:44.631Z"
   },
   {
    "duration": 49,
    "start_time": "2024-08-27T09:30:12.359Z"
   },
   {
    "duration": 1319,
    "start_time": "2024-08-27T09:30:53.270Z"
   },
   {
    "duration": 4,
    "start_time": "2024-08-27T09:30:54.591Z"
   },
   {
    "duration": 247,
    "start_time": "2024-08-27T09:30:54.597Z"
   },
   {
    "duration": 20,
    "start_time": "2024-08-27T09:30:54.846Z"
   },
   {
    "duration": 9,
    "start_time": "2024-08-27T09:30:54.867Z"
   },
   {
    "duration": 11,
    "start_time": "2024-08-27T09:30:54.877Z"
   },
   {
    "duration": 46,
    "start_time": "2024-08-27T09:30:54.908Z"
   },
   {
    "duration": 4,
    "start_time": "2024-08-27T09:30:55.070Z"
   },
   {
    "duration": 5,
    "start_time": "2024-08-27T09:30:55.231Z"
   },
   {
    "duration": 36,
    "start_time": "2024-08-27T09:30:55.571Z"
   },
   {
    "duration": 4,
    "start_time": "2024-08-27T09:30:55.915Z"
   },
   {
    "duration": 9,
    "start_time": "2024-08-27T09:30:56.083Z"
   },
   {
    "duration": 67,
    "start_time": "2024-08-27T09:30:56.251Z"
   },
   {
    "duration": 10,
    "start_time": "2024-08-27T09:30:57.231Z"
   },
   {
    "duration": 11,
    "start_time": "2024-08-27T09:30:57.599Z"
   },
   {
    "duration": 10,
    "start_time": "2024-08-27T09:30:58.149Z"
   },
   {
    "duration": 279,
    "start_time": "2024-08-27T09:31:00.297Z"
   },
   {
    "duration": 8,
    "start_time": "2024-08-27T09:31:00.935Z"
   },
   {
    "duration": 6,
    "start_time": "2024-08-27T09:31:01.378Z"
   },
   {
    "duration": 297,
    "start_time": "2024-08-27T09:31:03.233Z"
   },
   {
    "duration": 241,
    "start_time": "2024-08-27T09:31:04.843Z"
   },
   {
    "duration": 10,
    "start_time": "2024-08-27T09:31:05.855Z"
   },
   {
    "duration": 390,
    "start_time": "2024-08-27T09:31:06.136Z"
   },
   {
    "duration": 216,
    "start_time": "2024-08-27T09:31:07.581Z"
   },
   {
    "duration": 352,
    "start_time": "2024-08-27T09:31:09.073Z"
   },
   {
    "duration": 181,
    "start_time": "2024-08-27T09:31:10.521Z"
   },
   {
    "duration": 5,
    "start_time": "2024-08-27T09:31:11.517Z"
   },
   {
    "duration": 417,
    "start_time": "2024-08-27T09:31:12.899Z"
   },
   {
    "duration": 4,
    "start_time": "2024-08-27T09:31:13.657Z"
   },
   {
    "duration": 172,
    "start_time": "2024-08-27T09:31:14.560Z"
   },
   {
    "duration": 149,
    "start_time": "2024-08-27T09:31:48.170Z"
   },
   {
    "duration": 374,
    "start_time": "2024-08-27T09:32:46.233Z"
   },
   {
    "duration": 1071,
    "start_time": "2024-08-27T09:34:47.885Z"
   },
   {
    "duration": 3,
    "start_time": "2024-08-27T09:34:56.293Z"
   },
   {
    "duration": 3,
    "start_time": "2024-08-27T09:35:18.503Z"
   },
   {
    "duration": 8,
    "start_time": "2024-08-27T09:36:40.257Z"
   },
   {
    "duration": 4,
    "start_time": "2024-08-27T09:36:54.602Z"
   },
   {
    "duration": 6,
    "start_time": "2024-08-27T09:37:53.268Z"
   },
   {
    "duration": 5,
    "start_time": "2024-08-27T09:37:56.956Z"
   },
   {
    "duration": 1442,
    "start_time": "2024-08-27T15:30:56.757Z"
   },
   {
    "duration": 3,
    "start_time": "2024-08-27T15:30:58.201Z"
   },
   {
    "duration": 231,
    "start_time": "2024-08-27T15:30:58.206Z"
   },
   {
    "duration": 29,
    "start_time": "2024-08-27T15:30:58.439Z"
   },
   {
    "duration": 10,
    "start_time": "2024-08-27T15:30:58.469Z"
   },
   {
    "duration": 10,
    "start_time": "2024-08-27T15:30:58.481Z"
   },
   {
    "duration": 56,
    "start_time": "2024-08-27T15:30:58.493Z"
   },
   {
    "duration": 7,
    "start_time": "2024-08-27T15:30:58.551Z"
   },
   {
    "duration": 19,
    "start_time": "2024-08-27T15:30:58.560Z"
   },
   {
    "duration": 50,
    "start_time": "2024-08-27T15:30:58.582Z"
   },
   {
    "duration": 13,
    "start_time": "2024-08-27T15:30:58.646Z"
   },
   {
    "duration": 17,
    "start_time": "2024-08-27T15:30:58.661Z"
   },
   {
    "duration": 119,
    "start_time": "2024-08-27T15:30:58.679Z"
   },
   {
    "duration": 8,
    "start_time": "2024-08-27T15:30:58.800Z"
   },
   {
    "duration": 10,
    "start_time": "2024-08-27T15:30:58.809Z"
   },
   {
    "duration": 40,
    "start_time": "2024-08-27T15:30:58.821Z"
   },
   {
    "duration": 303,
    "start_time": "2024-08-27T15:30:58.863Z"
   },
   {
    "duration": 6,
    "start_time": "2024-08-27T15:30:59.167Z"
   },
   {
    "duration": 16,
    "start_time": "2024-08-27T15:30:59.174Z"
   },
   {
    "duration": 28,
    "start_time": "2024-08-27T15:30:59.192Z"
   },
   {
    "duration": 22,
    "start_time": "2024-08-27T15:30:59.222Z"
   },
   {
    "duration": 347,
    "start_time": "2024-08-27T15:30:59.246Z"
   },
   {
    "duration": 238,
    "start_time": "2024-08-27T15:30:59.594Z"
   },
   {
    "duration": 30,
    "start_time": "2024-08-27T15:30:59.834Z"
   },
   {
    "duration": 410,
    "start_time": "2024-08-27T15:30:59.866Z"
   },
   {
    "duration": 260,
    "start_time": "2024-08-27T15:31:00.278Z"
   },
   {
    "duration": 382,
    "start_time": "2024-08-27T15:31:00.545Z"
   },
   {
    "duration": 212,
    "start_time": "2024-08-27T15:31:00.931Z"
   },
   {
    "duration": 10,
    "start_time": "2024-08-27T15:31:01.145Z"
   },
   {
    "duration": 469,
    "start_time": "2024-08-27T15:31:01.157Z"
   },
   {
    "duration": 5,
    "start_time": "2024-08-27T15:31:01.627Z"
   },
   {
    "duration": 192,
    "start_time": "2024-08-27T15:31:01.633Z"
   },
   {
    "duration": 151,
    "start_time": "2024-08-27T15:31:01.826Z"
   },
   {
    "duration": 44,
    "start_time": "2024-08-27T15:31:01.979Z"
   },
   {
    "duration": 34,
    "start_time": "2024-08-27T15:31:02.025Z"
   },
   {
    "duration": 12,
    "start_time": "2024-08-27T15:31:02.061Z"
   },
   {
    "duration": 8,
    "start_time": "2024-08-27T15:31:02.074Z"
   },
   {
    "duration": 53,
    "start_time": "2024-08-27T15:31:02.083Z"
   },
   {
    "duration": 45,
    "start_time": "2024-08-27T15:31:02.138Z"
   }
  ],
  "kernelspec": {
   "display_name": "Python 3 (ipykernel)",
   "language": "python",
   "name": "python3"
  },
  "language_info": {
   "codemirror_mode": {
    "name": "ipython",
    "version": 3
   },
   "file_extension": ".py",
   "mimetype": "text/x-python",
   "name": "python",
   "nbconvert_exporter": "python",
   "pygments_lexer": "ipython3",
   "version": "3.11.7"
  },
  "toc": {
   "base_numbering": 1,
   "nav_menu": {},
   "number_sections": true,
   "sideBar": true,
   "skip_h1_title": true,
   "title_cell": "Table of Contents",
   "title_sidebar": "Contents",
   "toc_cell": false,
   "toc_position": {
    "height": "calc(100% - 180px)",
    "left": "10px",
    "top": "150px",
    "width": "349.091px"
   },
   "toc_section_display": true,
   "toc_window_display": false
  }
 },
 "nbformat": 4,
 "nbformat_minor": 4
}
