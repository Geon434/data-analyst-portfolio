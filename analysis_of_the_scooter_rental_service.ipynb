{
 "cells": [
  {
   "cell_type": "markdown",
   "id": "54746225",
   "metadata": {},
   "source": [
    "# Анализ сервиса аренды самокатов"
   ]
  },
  {
   "cell_type": "markdown",
   "id": "43389034",
   "metadata": {},
   "source": [
    "Сервис по аренде самокатов GoFast попросил меня проанализировать данные и проверить некоторые гипотезы, которые могут помочь бизнесу вырасти. Я сделал все возможное, чтобы провести всесторонний, но не исчерпывающий анализ данных.\n",
    "\n",
    "Чтобы совершать поездки по городу, пользователи сервиса GoFast пользуются мобильным приложением. Сервисом можно пользоваться:\n",
    "без подписки\n",
    "- абонентская плата отсутствует;\n",
    "    - стоимость одной минуты поездки — 8 рублей;\n",
    "    - стоимость старта (начала поездки) — 50 рублей;\n",
    "- с подпиской Ultra\n",
    "    - абонентская плата — 199 рублей в месяц;\n",
    "    - стоимость одной минуты поездки — 6 рублей;\n",
    "    - стоимость старта — бесплатно.\n",
    "    \n",
    "Моя работа по анализу данных GoFast состоит из следующих шагов:\n",
    "1. Загрузка данных.\n",
    "2. Предобработка данных.\n",
    "3. Исследовательский анализ данных.\n",
    "4. Объединение данных.\n",
    "5. Подсчёт выручки.\n",
    "6. Проверка гипотез.\n",
    "7. Общие выводы."
   ]
  },
  {
   "cell_type": "code",
   "execution_count": 1,
   "id": "7bbc31b9",
   "metadata": {},
   "outputs": [],
   "source": [
    "# Импортируем все нужные библиотеки для работы\n",
    "import pandas as pd\n",
    "import matplotlib.pyplot as plt\n",
    "import numpy as np\n",
    "from scipy import stats as st"
   ]
  },
  {
   "cell_type": "markdown",
   "id": "31f4fe92",
   "metadata": {},
   "source": [
    "#### Шаг 1. Загрузка данных"
   ]
  },
  {
   "cell_type": "markdown",
   "id": "f2ef682a",
   "metadata": {},
   "source": [
    "##### Считаем CSV-файлы с данными с помощью библиотеки pandas и сохраним их в датафреймы"
   ]
  },
  {
   "cell_type": "code",
   "execution_count": 2,
   "id": "b75ba037",
   "metadata": {},
   "outputs": [],
   "source": [
    "try:\n",
    "    user_go = pd.read_csv('/datasets/users_go.csv')\n",
    "    rides_go = pd.read_csv('/datasets/rides_go.csv')\n",
    "    subscriptions_go = pd.read_csv('/datasets/subscriptions_go.csv')\n",
    "except:\n",
    "    user_go = pd.read_csv('https://code.s3.yandex.net/datasets/users_go.csv')\n",
    "    rides_go = pd.read_csv('https://code.s3.yandex.net/datasets/rides_go.csv')\n",
    "    subscriptions_go = pd.read_csv('https://code.s3.yandex.net/datasets/subscriptions_go.csv')"
   ]
  },
  {
   "cell_type": "markdown",
   "id": "252af33b",
   "metadata": {},
   "source": [
    "##### Выведим первые строки каждого набора данных. Изучим общую информацию о каждом датафрейме."
   ]
  },
  {
   "cell_type": "code",
   "execution_count": 3,
   "id": "21add83b",
   "metadata": {},
   "outputs": [
    {
     "data": {
      "text/html": [
       "<div>\n",
       "<style scoped>\n",
       "    .dataframe tbody tr th:only-of-type {\n",
       "        vertical-align: middle;\n",
       "    }\n",
       "\n",
       "    .dataframe tbody tr th {\n",
       "        vertical-align: top;\n",
       "    }\n",
       "\n",
       "    .dataframe thead th {\n",
       "        text-align: right;\n",
       "    }\n",
       "</style>\n",
       "<table border=\"1\" class=\"dataframe\">\n",
       "  <thead>\n",
       "    <tr style=\"text-align: right;\">\n",
       "      <th></th>\n",
       "      <th>user_id</th>\n",
       "      <th>name</th>\n",
       "      <th>age</th>\n",
       "      <th>city</th>\n",
       "      <th>subscription_type</th>\n",
       "    </tr>\n",
       "  </thead>\n",
       "  <tbody>\n",
       "    <tr>\n",
       "      <th>0</th>\n",
       "      <td>1</td>\n",
       "      <td>Кира</td>\n",
       "      <td>22</td>\n",
       "      <td>Тюмень</td>\n",
       "      <td>ultra</td>\n",
       "    </tr>\n",
       "    <tr>\n",
       "      <th>1</th>\n",
       "      <td>2</td>\n",
       "      <td>Станислав</td>\n",
       "      <td>31</td>\n",
       "      <td>Омск</td>\n",
       "      <td>ultra</td>\n",
       "    </tr>\n",
       "    <tr>\n",
       "      <th>2</th>\n",
       "      <td>3</td>\n",
       "      <td>Алексей</td>\n",
       "      <td>20</td>\n",
       "      <td>Москва</td>\n",
       "      <td>ultra</td>\n",
       "    </tr>\n",
       "    <tr>\n",
       "      <th>3</th>\n",
       "      <td>4</td>\n",
       "      <td>Константин</td>\n",
       "      <td>26</td>\n",
       "      <td>Ростов-на-Дону</td>\n",
       "      <td>ultra</td>\n",
       "    </tr>\n",
       "    <tr>\n",
       "      <th>4</th>\n",
       "      <td>5</td>\n",
       "      <td>Адель</td>\n",
       "      <td>28</td>\n",
       "      <td>Омск</td>\n",
       "      <td>ultra</td>\n",
       "    </tr>\n",
       "  </tbody>\n",
       "</table>\n",
       "</div>"
      ],
      "text/plain": [
       "   user_id        name  age            city subscription_type\n",
       "0        1        Кира   22          Тюмень             ultra\n",
       "1        2   Станислав   31            Омск             ultra\n",
       "2        3     Алексей   20          Москва             ultra\n",
       "3        4  Константин   26  Ростов-на-Дону             ultra\n",
       "4        5       Адель   28            Омск             ultra"
      ]
     },
     "metadata": {},
     "output_type": "display_data"
    },
    {
     "name": "stdout",
     "output_type": "stream",
     "text": [
      "<class 'pandas.core.frame.DataFrame'>\n",
      "RangeIndex: 1565 entries, 0 to 1564\n",
      "Data columns (total 5 columns):\n",
      " #   Column             Non-Null Count  Dtype \n",
      "---  ------             --------------  ----- \n",
      " 0   user_id            1565 non-null   int64 \n",
      " 1   name               1565 non-null   object\n",
      " 2   age                1565 non-null   int64 \n",
      " 3   city               1565 non-null   object\n",
      " 4   subscription_type  1565 non-null   object\n",
      "dtypes: int64(2), object(3)\n",
      "memory usage: 61.3+ KB\n"
     ]
    },
    {
     "data": {
      "text/plain": [
       "None"
      ]
     },
     "metadata": {},
     "output_type": "display_data"
    },
    {
     "name": "stdout",
     "output_type": "stream",
     "text": [
      "Количество дубликатов 31\n"
     ]
    }
   ],
   "source": [
    "display(user_go.head())\n",
    "display(user_go.info())\n",
    "print('Количество дубликатов', user_go.duplicated().sum())"
   ]
  },
  {
   "cell_type": "code",
   "execution_count": 4,
   "id": "e0449700",
   "metadata": {},
   "outputs": [
    {
     "data": {
      "text/html": [
       "<div>\n",
       "<style scoped>\n",
       "    .dataframe tbody tr th:only-of-type {\n",
       "        vertical-align: middle;\n",
       "    }\n",
       "\n",
       "    .dataframe tbody tr th {\n",
       "        vertical-align: top;\n",
       "    }\n",
       "\n",
       "    .dataframe thead th {\n",
       "        text-align: right;\n",
       "    }\n",
       "</style>\n",
       "<table border=\"1\" class=\"dataframe\">\n",
       "  <thead>\n",
       "    <tr style=\"text-align: right;\">\n",
       "      <th></th>\n",
       "      <th>user_id</th>\n",
       "      <th>distance</th>\n",
       "      <th>duration</th>\n",
       "      <th>date</th>\n",
       "    </tr>\n",
       "  </thead>\n",
       "  <tbody>\n",
       "    <tr>\n",
       "      <th>0</th>\n",
       "      <td>1</td>\n",
       "      <td>4409.919140</td>\n",
       "      <td>25.599769</td>\n",
       "      <td>2021-01-01</td>\n",
       "    </tr>\n",
       "    <tr>\n",
       "      <th>1</th>\n",
       "      <td>1</td>\n",
       "      <td>2617.592153</td>\n",
       "      <td>15.816871</td>\n",
       "      <td>2021-01-18</td>\n",
       "    </tr>\n",
       "    <tr>\n",
       "      <th>2</th>\n",
       "      <td>1</td>\n",
       "      <td>754.159807</td>\n",
       "      <td>6.232113</td>\n",
       "      <td>2021-04-20</td>\n",
       "    </tr>\n",
       "    <tr>\n",
       "      <th>3</th>\n",
       "      <td>1</td>\n",
       "      <td>2694.783254</td>\n",
       "      <td>18.511000</td>\n",
       "      <td>2021-08-11</td>\n",
       "    </tr>\n",
       "    <tr>\n",
       "      <th>4</th>\n",
       "      <td>1</td>\n",
       "      <td>4028.687306</td>\n",
       "      <td>26.265803</td>\n",
       "      <td>2021-08-28</td>\n",
       "    </tr>\n",
       "  </tbody>\n",
       "</table>\n",
       "</div>"
      ],
      "text/plain": [
       "   user_id     distance   duration        date\n",
       "0        1  4409.919140  25.599769  2021-01-01\n",
       "1        1  2617.592153  15.816871  2021-01-18\n",
       "2        1   754.159807   6.232113  2021-04-20\n",
       "3        1  2694.783254  18.511000  2021-08-11\n",
       "4        1  4028.687306  26.265803  2021-08-28"
      ]
     },
     "metadata": {},
     "output_type": "display_data"
    },
    {
     "name": "stdout",
     "output_type": "stream",
     "text": [
      "<class 'pandas.core.frame.DataFrame'>\n",
      "RangeIndex: 18068 entries, 0 to 18067\n",
      "Data columns (total 4 columns):\n",
      " #   Column    Non-Null Count  Dtype  \n",
      "---  ------    --------------  -----  \n",
      " 0   user_id   18068 non-null  int64  \n",
      " 1   distance  18068 non-null  float64\n",
      " 2   duration  18068 non-null  float64\n",
      " 3   date      18068 non-null  object \n",
      "dtypes: float64(2), int64(1), object(1)\n",
      "memory usage: 564.8+ KB\n"
     ]
    },
    {
     "data": {
      "text/plain": [
       "None"
      ]
     },
     "metadata": {},
     "output_type": "display_data"
    },
    {
     "name": "stdout",
     "output_type": "stream",
     "text": [
      "Количество дубликатов 0\n"
     ]
    }
   ],
   "source": [
    "display(rides_go.head())\n",
    "display(rides_go.info())\n",
    "print('Количество дубликатов', rides_go.duplicated().sum())"
   ]
  },
  {
   "cell_type": "code",
   "execution_count": 5,
   "id": "ef273094",
   "metadata": {},
   "outputs": [
    {
     "data": {
      "text/html": [
       "<div>\n",
       "<style scoped>\n",
       "    .dataframe tbody tr th:only-of-type {\n",
       "        vertical-align: middle;\n",
       "    }\n",
       "\n",
       "    .dataframe tbody tr th {\n",
       "        vertical-align: top;\n",
       "    }\n",
       "\n",
       "    .dataframe thead th {\n",
       "        text-align: right;\n",
       "    }\n",
       "</style>\n",
       "<table border=\"1\" class=\"dataframe\">\n",
       "  <thead>\n",
       "    <tr style=\"text-align: right;\">\n",
       "      <th></th>\n",
       "      <th>subscription_type</th>\n",
       "      <th>minute_price</th>\n",
       "      <th>start_ride_price</th>\n",
       "      <th>subscription_fee</th>\n",
       "    </tr>\n",
       "  </thead>\n",
       "  <tbody>\n",
       "    <tr>\n",
       "      <th>0</th>\n",
       "      <td>free</td>\n",
       "      <td>8</td>\n",
       "      <td>50</td>\n",
       "      <td>0</td>\n",
       "    </tr>\n",
       "    <tr>\n",
       "      <th>1</th>\n",
       "      <td>ultra</td>\n",
       "      <td>6</td>\n",
       "      <td>0</td>\n",
       "      <td>199</td>\n",
       "    </tr>\n",
       "  </tbody>\n",
       "</table>\n",
       "</div>"
      ],
      "text/plain": [
       "  subscription_type  minute_price  start_ride_price  subscription_fee\n",
       "0              free             8                50                 0\n",
       "1             ultra             6                 0               199"
      ]
     },
     "metadata": {},
     "output_type": "display_data"
    },
    {
     "name": "stdout",
     "output_type": "stream",
     "text": [
      "<class 'pandas.core.frame.DataFrame'>\n",
      "RangeIndex: 2 entries, 0 to 1\n",
      "Data columns (total 4 columns):\n",
      " #   Column             Non-Null Count  Dtype \n",
      "---  ------             --------------  ----- \n",
      " 0   subscription_type  2 non-null      object\n",
      " 1   minute_price       2 non-null      int64 \n",
      " 2   start_ride_price   2 non-null      int64 \n",
      " 3   subscription_fee   2 non-null      int64 \n",
      "dtypes: int64(3), object(1)\n",
      "memory usage: 196.0+ bytes\n"
     ]
    },
    {
     "data": {
      "text/plain": [
       "None"
      ]
     },
     "metadata": {},
     "output_type": "display_data"
    },
    {
     "name": "stdout",
     "output_type": "stream",
     "text": [
      "Количество дубликатов 0\n"
     ]
    }
   ],
   "source": [
    "display(subscriptions_go.head())\n",
    "display(subscriptions_go.info())\n",
    "print('Количество дубликатов', subscriptions_go.duplicated().sum())"
   ]
  },
  {
   "cell_type": "markdown",
   "id": "bb51dd55",
   "metadata": {},
   "source": [
    "Вывод: В данных нет пропусков и все столбцы именованы корректрно, однако в данных 'user_go' 31 дубликат.\n"
   ]
  },
  {
   "cell_type": "markdown",
   "id": "ed846891",
   "metadata": {},
   "source": [
    "#### Шаг 2. Предобработка данных"
   ]
  },
  {
   "cell_type": "markdown",
   "id": "004a5101",
   "metadata": {},
   "source": [
    "##### Приводим столбец date к типу даты pandas."
   ]
  },
  {
   "cell_type": "code",
   "execution_count": 6,
   "id": "659aa49b",
   "metadata": {},
   "outputs": [],
   "source": [
    "rides_go['date'] = pd.to_datetime(rides_go['date'], format='%Y-%m-%d')"
   ]
  },
  {
   "cell_type": "markdown",
   "id": "17a7abf6",
   "metadata": {},
   "source": [
    "##### Создадим новый столбец с номером месяца на основе столбца date."
   ]
  },
  {
   "cell_type": "code",
   "execution_count": 7,
   "id": "399f7cb0",
   "metadata": {},
   "outputs": [],
   "source": [
    "rides_go['month'] = rides_go['date'].dt.month"
   ]
  },
  {
   "cell_type": "markdown",
   "id": "9cef72c4",
   "metadata": {},
   "source": [
    "##### Обработаем дубликаты."
   ]
  },
  {
   "cell_type": "code",
   "execution_count": 8,
   "id": "24353ee8",
   "metadata": {},
   "outputs": [],
   "source": [
    "user_go = user_go.drop_duplicates()"
   ]
  },
  {
   "cell_type": "code",
   "execution_count": 9,
   "id": "583af7f1",
   "metadata": {},
   "outputs": [
    {
     "name": "stdout",
     "output_type": "stream",
     "text": [
      "Количество дубликатов 0\n"
     ]
    }
   ],
   "source": [
    "print('Количество дубликатов', user_go.duplicated().sum())"
   ]
  },
  {
   "cell_type": "markdown",
   "id": "3ab9299a",
   "metadata": {},
   "source": [
    "Вывыод:\n",
    "1. Удалили дубликаты\n",
    "2. Создали столбец в 'rides_go'\n",
    "3. Привели столбца 'date' к типу данных даты"
   ]
  },
  {
   "cell_type": "markdown",
   "id": "1a665eb7",
   "metadata": {},
   "source": [
    "#### Шаг 3. Исследовательский анализ данных"
   ]
  },
  {
   "cell_type": "markdown",
   "id": "85d31fe4",
   "metadata": {},
   "source": [
    "##### Частота встречаемости городов."
   ]
  },
  {
   "cell_type": "code",
   "execution_count": 10,
   "id": "01527d04",
   "metadata": {},
   "outputs": [
    {
     "data": {
      "text/plain": [
       "Text(0, 0.5, 'Количество')"
      ]
     },
     "execution_count": 10,
     "metadata": {},
     "output_type": "execute_result"
    },
    {
     "data": {
      "image/png": "[encoded data removed]",
      "text/plain": [
       "<Figure size 1000x500 with 1 Axes>"
      ]
     },
     "metadata": {},
     "output_type": "display_data"
    }
   ],
   "source": [
    "user_go['city'].value_counts().plot(kind='bar',\n",
    "                                    title='Количество пользователей разных городов', \n",
    "                                    grid=True,\n",
    "                                    figsize=(10, 5))\n",
    "\n",
    "plt.xlabel('возраст (года)')\n",
    "plt.ylabel('Количество')"
   ]
  },
  {
   "cell_type": "markdown",
   "id": "f3b1d651",
   "metadata": {},
   "source": [
    "##### Соотношение пользователей с подпиской и без подписки"
   ]
  },
  {
   "cell_type": "code",
   "execution_count": 11,
   "id": "407f59a6",
   "metadata": {},
   "outputs": [
    {
     "data": {
      "text/plain": [
       "<Axes: title={'center': 'Возраст пользователей'}, ylabel='subscription_type'>"
      ]
     },
     "execution_count": 11,
     "metadata": {},
     "output_type": "execute_result"
    },
    {
     "data": {
      "image/png": "[encoded data removed]",
      "text/plain": [
       "<Figure size 900x500 with 1 Axes>"
      ]
     },
     "metadata": {},
     "output_type": "display_data"
    }
   ],
   "source": [
    "user_go.groupby(by='subscription_type')['subscription_type'].count().plot(kind='pie', autopct='%1.0f%%', title='Возраст пользователей', figsize=(9, 5))"
   ]
  },
  {
   "cell_type": "markdown",
   "id": "c7e7797d",
   "metadata": {},
   "source": [
    "##### Возраст пользователей."
   ]
  },
  {
   "cell_type": "code",
   "execution_count": 12,
   "id": "465ce4b4",
   "metadata": {},
   "outputs": [
    {
     "data": {
      "text/plain": [
       "Text(0, 0.5, 'Количество')"
      ]
     },
     "execution_count": 12,
     "metadata": {},
     "output_type": "execute_result"
    },
    {
     "data": {
      "image/png": "[encoded data removed]",
      "text/plain": [
       "<Figure size 640x480 with 1 Axes>"
      ]
     },
     "metadata": {},
     "output_type": "display_data"
    }
   ],
   "source": [
    "plt.hist(user_go['age'], bins=32)\n",
    "plt.grid(which='major')\n",
    "plt.title('Возраст пользователей')\n",
    "plt.xlabel('возраст (года)')\n",
    "plt.ylabel('Количество')"
   ]
  },
  {
   "cell_type": "code",
   "execution_count": 13,
   "id": "2f0155bf",
   "metadata": {},
   "outputs": [
    {
     "data": {
      "text/plain": [
       "count    1534.000000\n",
       "mean       24.903520\n",
       "std         4.572367\n",
       "min        12.000000\n",
       "25%        22.000000\n",
       "50%        25.000000\n",
       "75%        28.000000\n",
       "max        43.000000\n",
       "Name: age, dtype: float64"
      ]
     },
     "execution_count": 13,
     "metadata": {},
     "output_type": "execute_result"
    }
   ],
   "source": [
    "user_go['age'].describe()"
   ]
  },
  {
   "cell_type": "markdown",
   "id": "2c681ab4",
   "metadata": {},
   "source": [
    "##### Расстояние, которое пользователь преодолел за одну поездку."
   ]
  },
  {
   "cell_type": "code",
   "execution_count": 14,
   "id": "e94543b4",
   "metadata": {},
   "outputs": [
    {
     "data": {
      "text/plain": [
       "Text(0, 0.5, 'Количество')"
      ]
     },
     "execution_count": 14,
     "metadata": {},
     "output_type": "execute_result"
    },
    {
     "data": {
      "image/png": "[encoded data removed]",
      "text/plain": [
       "<Figure size 640x480 with 1 Axes>"
      ]
     },
     "metadata": {},
     "output_type": "display_data"
    }
   ],
   "source": [
    "plt.hist(rides_go['distance'], bins=100)\n",
    "plt.grid(which='major')\n",
    "plt.title('Расстояние, которое пользователь преодолел за одну поездку')\n",
    "plt.xlabel('Растояние (метры)')\n",
    "plt.ylabel('Количество')"
   ]
  },
  {
   "cell_type": "code",
   "execution_count": 15,
   "id": "4d806cdd",
   "metadata": {},
   "outputs": [
    {
     "data": {
      "text/plain": [
       "count    18068.000000\n",
       "mean      3070.659976\n",
       "std       1116.831209\n",
       "min          0.855683\n",
       "25%       2543.226360\n",
       "50%       3133.609994\n",
       "75%       3776.222735\n",
       "max       7211.007745\n",
       "Name: distance, dtype: float64"
      ]
     },
     "execution_count": 15,
     "metadata": {},
     "output_type": "execute_result"
    }
   ],
   "source": [
    "rides_go['distance'].describe()"
   ]
  },
  {
   "cell_type": "markdown",
   "id": "924994dc",
   "metadata": {},
   "source": [
    "##### Продолжительность поездок."
   ]
  },
  {
   "cell_type": "code",
   "execution_count": 16,
   "id": "f9ee2a83",
   "metadata": {},
   "outputs": [
    {
     "data": {
      "text/plain": [
       "Text(0, 0.5, 'Количество')"
      ]
     },
     "execution_count": 16,
     "metadata": {},
     "output_type": "execute_result"
    },
    {
     "data": {
      "image/png": "[encoded data removed]",
      "text/plain": [
       "<Figure size 640x480 with 1 Axes>"
      ]
     },
     "metadata": {},
     "output_type": "display_data"
    }
   ],
   "source": [
    "plt.hist(rides_go['duration'], bins=100)\n",
    "plt.grid(which='major')\n",
    "plt.title('Продолжительность поездок')\n",
    "plt.xlabel('Время(минуты)')\n",
    "plt.ylabel('Количество')"
   ]
  },
  {
   "cell_type": "code",
   "execution_count": 17,
   "id": "6d739167",
   "metadata": {},
   "outputs": [
    {
     "data": {
      "text/plain": [
       "Text(0, 0.5, 'Количество')"
      ]
     },
     "execution_count": 17,
     "metadata": {},
     "output_type": "execute_result"
    },
    {
     "data": {
      "image/png": "[encoded data removed]",
      "text/plain": [
       "<Figure size 700x500 with 1 Axes>"
      ]
     },
     "metadata": {},
     "output_type": "display_data"
    }
   ],
   "source": [
    "# \n",
    "rides_go[rides_go['duration'] < 2].hist('distance', figsize=(7, 5))\n",
    "plt.xlabel('Растояние (метры)')\n",
    "plt.ylabel('Количество')"
   ]
  },
  {
   "cell_type": "code",
   "execution_count": 18,
   "id": "747bec58",
   "metadata": {},
   "outputs": [
    {
     "data": {
      "text/plain": [
       "count    18068.000000\n",
       "mean        17.805011\n",
       "std          6.091051\n",
       "min          0.500000\n",
       "25%         13.597563\n",
       "50%         17.678395\n",
       "75%         21.724800\n",
       "max         40.823963\n",
       "Name: duration, dtype: float64"
      ]
     },
     "execution_count": 18,
     "metadata": {},
     "output_type": "execute_result"
    }
   ],
   "source": [
    "rides_go['duration'].describe()"
   ]
  },
  {
   "cell_type": "code",
   "execution_count": 19,
   "id": "ce6e03eb",
   "metadata": {},
   "outputs": [],
   "source": [
    "#rides_go = rides_go[rides_go['duration'] > 2]"
   ]
  },
  {
   "cell_type": "code",
   "execution_count": 20,
   "id": "362f0ab5",
   "metadata": {},
   "outputs": [
    {
     "data": {
      "text/plain": [
       "Text(0, 0.5, 'Количество')"
      ]
     },
     "execution_count": 20,
     "metadata": {},
     "output_type": "execute_result"
    },
    {
     "data": {
      "image/png": "[encoded data removed]",
      "text/plain": [
       "<Figure size 640x480 with 1 Axes>"
      ]
     },
     "metadata": {},
     "output_type": "display_data"
    }
   ],
   "source": [
    "plt.hist(rides_go['duration'], bins=100)\n",
    "plt.grid(which='major')\n",
    "plt.title('Продолжительность поездок')\n",
    "plt.xlabel('Время(минуты)')\n",
    "plt.ylabel('Количество')"
   ]
  },
  {
   "cell_type": "markdown",
   "id": "495766db",
   "metadata": {},
   "source": [
    "Вывод: \n",
    "1. Услугами сервиса аренды самокатов пользуются больше всего в Пятигорске, на второй месте оказался Екатеринбург.\n",
    "2. Людей без подписки на 8% больше чем с подпиской.\n",
    "3. Основная группа людей пользующаяся прокатом самокатов это люди от 22 до 28 лет\n",
    "4. Медиана поездок находится на 3133 метров первый квартиль находится на значении 2543 метра, третий квартиль на 3776 метров. Можно предположить, что люди пользуются самокатами не только на длинные маршруты, но и на короткие растояния(напрмер: когда устали ходить пешком)\n",
    "5. Медиана поездок находится на 18 мин первый квартиль находится на значении 14 мин, третий квартиль на 22 мин. Были замечены аномальные значения(при поездках меньше 2 минут растояние 4-7 км)"
   ]
  },
  {
   "cell_type": "markdown",
   "id": "0be299a6",
   "metadata": {},
   "source": [
    "#### Шаг 4. Объединение данных"
   ]
  },
  {
   "cell_type": "markdown",
   "id": "c707ab6d",
   "metadata": {},
   "source": [
    "##### Объединим данные о пользователях, поездках и подписках в один датафрейм. "
   ]
  },
  {
   "cell_type": "code",
   "execution_count": 21,
   "id": "286308c9",
   "metadata": {},
   "outputs": [],
   "source": [
    "data_go = pd.merge(user_go, rides_go, how='left')\n",
    "data_go = pd.merge(data_go, subscriptions_go, how='left')"
   ]
  },
  {
   "cell_type": "code",
   "execution_count": 22,
   "id": "4c74d1ef",
   "metadata": {},
   "outputs": [
    {
     "data": {
      "text/html": [
       "<div>\n",
       "<style scoped>\n",
       "    .dataframe tbody tr th:only-of-type {\n",
       "        vertical-align: middle;\n",
       "    }\n",
       "\n",
       "    .dataframe tbody tr th {\n",
       "        vertical-align: top;\n",
       "    }\n",
       "\n",
       "    .dataframe thead th {\n",
       "        text-align: right;\n",
       "    }\n",
       "</style>\n",
       "<table border=\"1\" class=\"dataframe\">\n",
       "  <thead>\n",
       "    <tr style=\"text-align: right;\">\n",
       "      <th></th>\n",
       "      <th>user_id</th>\n",
       "      <th>name</th>\n",
       "      <th>age</th>\n",
       "      <th>city</th>\n",
       "      <th>subscription_type</th>\n",
       "      <th>distance</th>\n",
       "      <th>duration</th>\n",
       "      <th>date</th>\n",
       "      <th>month</th>\n",
       "      <th>minute_price</th>\n",
       "      <th>start_ride_price</th>\n",
       "      <th>subscription_fee</th>\n",
       "    </tr>\n",
       "  </thead>\n",
       "  <tbody>\n",
       "    <tr>\n",
       "      <th>0</th>\n",
       "      <td>1</td>\n",
       "      <td>Кира</td>\n",
       "      <td>22</td>\n",
       "      <td>Тюмень</td>\n",
       "      <td>ultra</td>\n",
       "      <td>4409.919140</td>\n",
       "      <td>25.599769</td>\n",
       "      <td>2021-01-01</td>\n",
       "      <td>1</td>\n",
       "      <td>6</td>\n",
       "      <td>0</td>\n",
       "      <td>199</td>\n",
       "    </tr>\n",
       "    <tr>\n",
       "      <th>1</th>\n",
       "      <td>1</td>\n",
       "      <td>Кира</td>\n",
       "      <td>22</td>\n",
       "      <td>Тюмень</td>\n",
       "      <td>ultra</td>\n",
       "      <td>2617.592153</td>\n",
       "      <td>15.816871</td>\n",
       "      <td>2021-01-18</td>\n",
       "      <td>1</td>\n",
       "      <td>6</td>\n",
       "      <td>0</td>\n",
       "      <td>199</td>\n",
       "    </tr>\n",
       "    <tr>\n",
       "      <th>2</th>\n",
       "      <td>1</td>\n",
       "      <td>Кира</td>\n",
       "      <td>22</td>\n",
       "      <td>Тюмень</td>\n",
       "      <td>ultra</td>\n",
       "      <td>754.159807</td>\n",
       "      <td>6.232113</td>\n",
       "      <td>2021-04-20</td>\n",
       "      <td>4</td>\n",
       "      <td>6</td>\n",
       "      <td>0</td>\n",
       "      <td>199</td>\n",
       "    </tr>\n",
       "    <tr>\n",
       "      <th>3</th>\n",
       "      <td>1</td>\n",
       "      <td>Кира</td>\n",
       "      <td>22</td>\n",
       "      <td>Тюмень</td>\n",
       "      <td>ultra</td>\n",
       "      <td>2694.783254</td>\n",
       "      <td>18.511000</td>\n",
       "      <td>2021-08-11</td>\n",
       "      <td>8</td>\n",
       "      <td>6</td>\n",
       "      <td>0</td>\n",
       "      <td>199</td>\n",
       "    </tr>\n",
       "    <tr>\n",
       "      <th>4</th>\n",
       "      <td>1</td>\n",
       "      <td>Кира</td>\n",
       "      <td>22</td>\n",
       "      <td>Тюмень</td>\n",
       "      <td>ultra</td>\n",
       "      <td>4028.687306</td>\n",
       "      <td>26.265803</td>\n",
       "      <td>2021-08-28</td>\n",
       "      <td>8</td>\n",
       "      <td>6</td>\n",
       "      <td>0</td>\n",
       "      <td>199</td>\n",
       "    </tr>\n",
       "  </tbody>\n",
       "</table>\n",
       "</div>"
      ],
      "text/plain": [
       "   user_id  name  age    city subscription_type     distance   duration  \\\n",
       "0        1  Кира   22  Тюмень             ultra  4409.919140  25.599769   \n",
       "1        1  Кира   22  Тюмень             ultra  2617.592153  15.816871   \n",
       "2        1  Кира   22  Тюмень             ultra   754.159807   6.232113   \n",
       "3        1  Кира   22  Тюмень             ultra  2694.783254  18.511000   \n",
       "4        1  Кира   22  Тюмень             ultra  4028.687306  26.265803   \n",
       "\n",
       "        date  month  minute_price  start_ride_price  subscription_fee  \n",
       "0 2021-01-01      1             6                 0               199  \n",
       "1 2021-01-18      1             6                 0               199  \n",
       "2 2021-04-20      4             6                 0               199  \n",
       "3 2021-08-11      8             6                 0               199  \n",
       "4 2021-08-28      8             6                 0               199  "
      ]
     },
     "execution_count": 22,
     "metadata": {},
     "output_type": "execute_result"
    }
   ],
   "source": [
    "data_go.head()"
   ]
  },
  {
   "cell_type": "code",
   "execution_count": 23,
   "id": "ca031a83",
   "metadata": {},
   "outputs": [
    {
     "data": {
      "text/plain": [
       "user_id              0\n",
       "name                 0\n",
       "age                  0\n",
       "city                 0\n",
       "subscription_type    0\n",
       "distance             0\n",
       "duration             0\n",
       "date                 0\n",
       "month                0\n",
       "minute_price         0\n",
       "start_ride_price     0\n",
       "subscription_fee     0\n",
       "dtype: int64"
      ]
     },
     "execution_count": 23,
     "metadata": {},
     "output_type": "execute_result"
    }
   ],
   "source": [
    "data_go.isna().sum()"
   ]
  },
  {
   "cell_type": "code",
   "execution_count": 24,
   "id": "42216a65",
   "metadata": {},
   "outputs": [
    {
     "name": "stdout",
     "output_type": "stream",
     "text": [
      "<class 'pandas.core.frame.DataFrame'>\n",
      "RangeIndex: 18068 entries, 0 to 18067\n",
      "Data columns (total 12 columns):\n",
      " #   Column             Non-Null Count  Dtype         \n",
      "---  ------             --------------  -----         \n",
      " 0   user_id            18068 non-null  int64         \n",
      " 1   name               18068 non-null  object        \n",
      " 2   age                18068 non-null  int64         \n",
      " 3   city               18068 non-null  object        \n",
      " 4   subscription_type  18068 non-null  object        \n",
      " 5   distance           18068 non-null  float64       \n",
      " 6   duration           18068 non-null  float64       \n",
      " 7   date               18068 non-null  datetime64[ns]\n",
      " 8   month              18068 non-null  int32         \n",
      " 9   minute_price       18068 non-null  int64         \n",
      " 10  start_ride_price   18068 non-null  int64         \n",
      " 11  subscription_fee   18068 non-null  int64         \n",
      "dtypes: datetime64[ns](1), float64(2), int32(1), int64(5), object(3)\n",
      "memory usage: 1.6+ MB\n"
     ]
    }
   ],
   "source": [
    "data_go.info()"
   ]
  },
  {
   "cell_type": "markdown",
   "id": "2df01aad",
   "metadata": {},
   "source": [
    "##### Создадим ещё два датафрейма с подпиской и без."
   ]
  },
  {
   "cell_type": "code",
   "execution_count": 25,
   "id": "a61619fa",
   "metadata": {},
   "outputs": [],
   "source": [
    "#Датафрейм с подпиской.\n",
    "subscription_on = data_go[data_go['subscription_type'] == 'ultra']"
   ]
  },
  {
   "cell_type": "code",
   "execution_count": 26,
   "id": "6b78ea8b",
   "metadata": {},
   "outputs": [],
   "source": [
    "#Датафрейм безподписки.\n",
    "subscription_off = data_go[data_go['subscription_type'] == 'free']"
   ]
  },
  {
   "cell_type": "markdown",
   "id": "be413cc2",
   "metadata": {},
   "source": [
    "##### Визуализируем информацию о расстоянии и времени поездок для пользователей обеих категорий."
   ]
  },
  {
   "cell_type": "code",
   "execution_count": 27,
   "id": "d09cd3c6",
   "metadata": {},
   "outputs": [
    {
     "data": {
      "text/plain": [
       "Text(0, 0.5, 'Количество')"
      ]
     },
     "execution_count": 27,
     "metadata": {},
     "output_type": "execute_result"
    },
    {
     "data": {
      "image/png": "[encoded data removed]",
      "text/plain": [
       "<Figure size 1000x500 with 1 Axes>"
      ]
     },
     "metadata": {},
     "output_type": "display_data"
    }
   ],
   "source": [
    "# Оранжевый без подписки, синий с подпиской\n",
    "subscription_on['distance'].plot(kind='hist', bins=100,\n",
    "                                 title='Продолжительность, которое пользователь преодолел за одну поездку с подпиской и без подписки',\n",
    "                                 figsize=(10, 5), alpha = 0.7, color='blue' )\n",
    "\n",
    "subscription_off['distance'].plot(kind='hist', bins=100,\n",
    "                                  figsize=(10, 5), alpha = 0.3, color='orange')\n",
    "\n",
    "plt.legend([\"С подпиской\", \"Без подписки\"], loc=\"upper right\")\n",
    "plt.xlabel('Растояние (метры)')\n",
    "plt.ylabel('Количество')"
   ]
  },
  {
   "cell_type": "code",
   "execution_count": 28,
   "id": "f84722e0",
   "metadata": {},
   "outputs": [
    {
     "data": {
      "text/plain": [
       "count    6500.000000\n",
       "mean     3115.445388\n",
       "std       836.895330\n",
       "min       244.210438\n",
       "25%      2785.444017\n",
       "50%      3148.637229\n",
       "75%      3560.574425\n",
       "max      5699.769662\n",
       "Name: distance, dtype: float64"
      ]
     },
     "execution_count": 28,
     "metadata": {},
     "output_type": "execute_result"
    }
   ],
   "source": [
    "subscription_on['distance'].describe()"
   ]
  },
  {
   "cell_type": "code",
   "execution_count": 29,
   "id": "1ea2f31e",
   "metadata": {},
   "outputs": [
    {
     "data": {
      "text/plain": [
       "count    11568.000000\n",
       "mean      3045.495282\n",
       "std       1246.173806\n",
       "min          0.855683\n",
       "25%       2366.562689\n",
       "50%       3114.648465\n",
       "75%       3905.697894\n",
       "max       7211.007745\n",
       "Name: distance, dtype: float64"
      ]
     },
     "execution_count": 29,
     "metadata": {},
     "output_type": "execute_result"
    }
   ],
   "source": [
    "subscription_off['distance'].describe()"
   ]
  },
  {
   "cell_type": "code",
   "execution_count": 30,
   "id": "d5c34dbe",
   "metadata": {},
   "outputs": [
    {
     "data": {
      "text/plain": [
       "Text(0, 0.5, 'Количество')"
      ]
     },
     "execution_count": 30,
     "metadata": {},
     "output_type": "execute_result"
    },
    {
     "data": {
      "image/png": "[encoded data removed]",
      "text/plain": [
       "<Figure size 1000x500 with 1 Axes>"
      ]
     },
     "metadata": {},
     "output_type": "display_data"
    }
   ],
   "source": [
    "# Оранжевый без подписки, синий с подпиской\n",
    "subscription_on['duration'].plot(kind='hist', bins=100,\n",
    "                                 title='Расстояние, которое пользователь преодолел за одну поездку  с подпиской и без подписки',\n",
    "                                 figsize=(10, 5), alpha = 0.7, color='blue' )\n",
    "\n",
    "subscription_off['duration'].plot(kind='hist', bins=100,\n",
    "                                  figsize=(10, 5), alpha = 0.3, color='orange')\n",
    "plt.legend([\"С подпиской\", \"Без подписки\"], loc=\"upper right\")\n",
    "plt.xlabel('Время (минуты)')\n",
    "plt.ylabel('Количество')"
   ]
  },
  {
   "cell_type": "code",
   "execution_count": 31,
   "id": "ccafdd92",
   "metadata": {},
   "outputs": [
    {
     "data": {
      "text/plain": [
       "count    6500.000000\n",
       "mean       18.541985\n",
       "std         5.572048\n",
       "min         3.760353\n",
       "25%        14.524654\n",
       "50%        18.178153\n",
       "75%        21.884129\n",
       "max        40.823963\n",
       "Name: duration, dtype: float64"
      ]
     },
     "execution_count": 31,
     "metadata": {},
     "output_type": "execute_result"
    }
   ],
   "source": [
    "subscription_on['duration'].describe()"
   ]
  },
  {
   "cell_type": "code",
   "execution_count": 32,
   "id": "95c2f3c0",
   "metadata": {},
   "outputs": [
    {
     "data": {
      "text/plain": [
       "count    11568.000000\n",
       "mean        17.390909\n",
       "std          6.326803\n",
       "min          0.500000\n",
       "25%         12.958437\n",
       "50%         17.326890\n",
       "75%         21.594071\n",
       "max         34.948498\n",
       "Name: duration, dtype: float64"
      ]
     },
     "execution_count": 32,
     "metadata": {},
     "output_type": "execute_result"
    }
   ],
   "source": [
    "subscription_off['duration'].describe()"
   ]
  },
  {
   "cell_type": "markdown",
   "id": "c51f1940",
   "metadata": {},
   "source": [
    "Вывод:Данные указывают на то, что люди с подпиской чаще едут дальше на 46 метров, и на 1 минуту дольше."
   ]
  },
  {
   "cell_type": "markdown",
   "id": "38b7d4c9",
   "metadata": {},
   "source": [
    "#### Шаг 5. Подсчёт выручки"
   ]
  },
  {
   "cell_type": "markdown",
   "id": "7a1e4db5",
   "metadata": {},
   "source": [
    "##### Создадим датафрейм с агрегированными данными о поездках и найдем суммарное расстояние, количество поездок и суммарное время для каждого пользователя за каждый месяц."
   ]
  },
  {
   "cell_type": "code",
   "execution_count": 33,
   "id": "de4379d9",
   "metadata": {},
   "outputs": [],
   "source": [
    "data_go['duration'] = np.ceil(data_go['duration']) "
   ]
  },
  {
   "cell_type": "code",
   "execution_count": 34,
   "id": "6b6b74b2",
   "metadata": {},
   "outputs": [],
   "source": [
    "user_month = data_go.pivot_table(\n",
    "    index=('user_id', 'month'), \n",
    "    values=(\n",
    "        'distance', \n",
    "        'duration', \n",
    "        'minute_price', \n",
    "        'start_ride_price', \n",
    "        'subscription_fee',),\n",
    "    aggfunc=({'distance':{'count', 'sum'}, \n",
    "             'duration':'sum',\n",
    "             'minute_price': 'mean',\n",
    "             'start_ride_price':'mean',\n",
    "             'subscription_fee':'mean'})\n",
    ")\n",
    "\n",
    "user_month.columns = [\n",
    "    'count', 'distance', \n",
    "    'duration', \n",
    "    'minute_price',\n",
    "    'start_ride_price', \n",
    "    'subscription_fee']\n"
   ]
  },
  {
   "cell_type": "code",
   "execution_count": 35,
   "id": "4d488ff8",
   "metadata": {},
   "outputs": [
    {
     "data": {
      "text/html": [
       "<div>\n",
       "<style scoped>\n",
       "    .dataframe tbody tr th:only-of-type {\n",
       "        vertical-align: middle;\n",
       "    }\n",
       "\n",
       "    .dataframe tbody tr th {\n",
       "        vertical-align: top;\n",
       "    }\n",
       "\n",
       "    .dataframe thead th {\n",
       "        text-align: right;\n",
       "    }\n",
       "</style>\n",
       "<table border=\"1\" class=\"dataframe\">\n",
       "  <thead>\n",
       "    <tr style=\"text-align: right;\">\n",
       "      <th></th>\n",
       "      <th></th>\n",
       "      <th>count</th>\n",
       "      <th>distance</th>\n",
       "      <th>duration</th>\n",
       "      <th>minute_price</th>\n",
       "      <th>start_ride_price</th>\n",
       "      <th>subscription_fee</th>\n",
       "    </tr>\n",
       "    <tr>\n",
       "      <th>user_id</th>\n",
       "      <th>month</th>\n",
       "      <th></th>\n",
       "      <th></th>\n",
       "      <th></th>\n",
       "      <th></th>\n",
       "      <th></th>\n",
       "      <th></th>\n",
       "    </tr>\n",
       "  </thead>\n",
       "  <tbody>\n",
       "    <tr>\n",
       "      <th rowspan=\"5\" valign=\"top\">1</th>\n",
       "      <th>1</th>\n",
       "      <td>2</td>\n",
       "      <td>7027.511294</td>\n",
       "      <td>42.0</td>\n",
       "      <td>6.0</td>\n",
       "      <td>0.0</td>\n",
       "      <td>199.0</td>\n",
       "    </tr>\n",
       "    <tr>\n",
       "      <th>4</th>\n",
       "      <td>1</td>\n",
       "      <td>754.159807</td>\n",
       "      <td>7.0</td>\n",
       "      <td>6.0</td>\n",
       "      <td>0.0</td>\n",
       "      <td>199.0</td>\n",
       "    </tr>\n",
       "    <tr>\n",
       "      <th>8</th>\n",
       "      <td>2</td>\n",
       "      <td>6723.470560</td>\n",
       "      <td>46.0</td>\n",
       "      <td>6.0</td>\n",
       "      <td>0.0</td>\n",
       "      <td>199.0</td>\n",
       "    </tr>\n",
       "    <tr>\n",
       "      <th>10</th>\n",
       "      <td>2</td>\n",
       "      <td>5809.911100</td>\n",
       "      <td>32.0</td>\n",
       "      <td>6.0</td>\n",
       "      <td>0.0</td>\n",
       "      <td>199.0</td>\n",
       "    </tr>\n",
       "    <tr>\n",
       "      <th>11</th>\n",
       "      <td>3</td>\n",
       "      <td>7003.499363</td>\n",
       "      <td>56.0</td>\n",
       "      <td>6.0</td>\n",
       "      <td>0.0</td>\n",
       "      <td>199.0</td>\n",
       "    </tr>\n",
       "  </tbody>\n",
       "</table>\n",
       "</div>"
      ],
      "text/plain": [
       "               count     distance  duration  minute_price  start_ride_price  \\\n",
       "user_id month                                                                 \n",
       "1       1          2  7027.511294      42.0           6.0               0.0   \n",
       "        4          1   754.159807       7.0           6.0               0.0   \n",
       "        8          2  6723.470560      46.0           6.0               0.0   \n",
       "        10         2  5809.911100      32.0           6.0               0.0   \n",
       "        11         3  7003.499363      56.0           6.0               0.0   \n",
       "\n",
       "               subscription_fee  \n",
       "user_id month                    \n",
       "1       1                 199.0  \n",
       "        4                 199.0  \n",
       "        8                 199.0  \n",
       "        10                199.0  \n",
       "        11                199.0  "
      ]
     },
     "execution_count": 35,
     "metadata": {},
     "output_type": "execute_result"
    }
   ],
   "source": [
    "user_month.head()"
   ]
  },
  {
   "cell_type": "code",
   "execution_count": 36,
   "id": "a320f5bf",
   "metadata": {},
   "outputs": [
    {
     "data": {
      "text/html": [
       "<div>\n",
       "<style scoped>\n",
       "    .dataframe tbody tr th:only-of-type {\n",
       "        vertical-align: middle;\n",
       "    }\n",
       "\n",
       "    .dataframe tbody tr th {\n",
       "        vertical-align: top;\n",
       "    }\n",
       "\n",
       "    .dataframe thead th {\n",
       "        text-align: right;\n",
       "    }\n",
       "</style>\n",
       "<table border=\"1\" class=\"dataframe\">\n",
       "  <thead>\n",
       "    <tr style=\"text-align: right;\">\n",
       "      <th></th>\n",
       "      <th>user_id</th>\n",
       "      <th>name</th>\n",
       "      <th>age</th>\n",
       "      <th>city</th>\n",
       "      <th>subscription_type</th>\n",
       "      <th>distance</th>\n",
       "      <th>duration</th>\n",
       "      <th>date</th>\n",
       "      <th>month</th>\n",
       "      <th>minute_price</th>\n",
       "      <th>start_ride_price</th>\n",
       "      <th>subscription_fee</th>\n",
       "    </tr>\n",
       "  </thead>\n",
       "  <tbody>\n",
       "    <tr>\n",
       "      <th>0</th>\n",
       "      <td>1</td>\n",
       "      <td>Кира</td>\n",
       "      <td>22</td>\n",
       "      <td>Тюмень</td>\n",
       "      <td>ultra</td>\n",
       "      <td>4409.919140</td>\n",
       "      <td>26.0</td>\n",
       "      <td>2021-01-01</td>\n",
       "      <td>1</td>\n",
       "      <td>6</td>\n",
       "      <td>0</td>\n",
       "      <td>199</td>\n",
       "    </tr>\n",
       "    <tr>\n",
       "      <th>1</th>\n",
       "      <td>1</td>\n",
       "      <td>Кира</td>\n",
       "      <td>22</td>\n",
       "      <td>Тюмень</td>\n",
       "      <td>ultra</td>\n",
       "      <td>2617.592153</td>\n",
       "      <td>16.0</td>\n",
       "      <td>2021-01-18</td>\n",
       "      <td>1</td>\n",
       "      <td>6</td>\n",
       "      <td>0</td>\n",
       "      <td>199</td>\n",
       "    </tr>\n",
       "    <tr>\n",
       "      <th>2</th>\n",
       "      <td>1</td>\n",
       "      <td>Кира</td>\n",
       "      <td>22</td>\n",
       "      <td>Тюмень</td>\n",
       "      <td>ultra</td>\n",
       "      <td>754.159807</td>\n",
       "      <td>7.0</td>\n",
       "      <td>2021-04-20</td>\n",
       "      <td>4</td>\n",
       "      <td>6</td>\n",
       "      <td>0</td>\n",
       "      <td>199</td>\n",
       "    </tr>\n",
       "    <tr>\n",
       "      <th>3</th>\n",
       "      <td>1</td>\n",
       "      <td>Кира</td>\n",
       "      <td>22</td>\n",
       "      <td>Тюмень</td>\n",
       "      <td>ultra</td>\n",
       "      <td>2694.783254</td>\n",
       "      <td>19.0</td>\n",
       "      <td>2021-08-11</td>\n",
       "      <td>8</td>\n",
       "      <td>6</td>\n",
       "      <td>0</td>\n",
       "      <td>199</td>\n",
       "    </tr>\n",
       "    <tr>\n",
       "      <th>4</th>\n",
       "      <td>1</td>\n",
       "      <td>Кира</td>\n",
       "      <td>22</td>\n",
       "      <td>Тюмень</td>\n",
       "      <td>ultra</td>\n",
       "      <td>4028.687306</td>\n",
       "      <td>27.0</td>\n",
       "      <td>2021-08-28</td>\n",
       "      <td>8</td>\n",
       "      <td>6</td>\n",
       "      <td>0</td>\n",
       "      <td>199</td>\n",
       "    </tr>\n",
       "  </tbody>\n",
       "</table>\n",
       "</div>"
      ],
      "text/plain": [
       "   user_id  name  age    city subscription_type     distance  duration  \\\n",
       "0        1  Кира   22  Тюмень             ultra  4409.919140      26.0   \n",
       "1        1  Кира   22  Тюмень             ultra  2617.592153      16.0   \n",
       "2        1  Кира   22  Тюмень             ultra   754.159807       7.0   \n",
       "3        1  Кира   22  Тюмень             ultra  2694.783254      19.0   \n",
       "4        1  Кира   22  Тюмень             ultra  4028.687306      27.0   \n",
       "\n",
       "        date  month  minute_price  start_ride_price  subscription_fee  \n",
       "0 2021-01-01      1             6                 0               199  \n",
       "1 2021-01-18      1             6                 0               199  \n",
       "2 2021-04-20      4             6                 0               199  \n",
       "3 2021-08-11      8             6                 0               199  \n",
       "4 2021-08-28      8             6                 0               199  "
      ]
     },
     "execution_count": 36,
     "metadata": {},
     "output_type": "execute_result"
    }
   ],
   "source": [
    "data_go.head()"
   ]
  },
  {
   "cell_type": "markdown",
   "id": "cd4f5539",
   "metadata": {},
   "source": [
    "##### В этот же датафрейм добавим столбец с помесячной выручкой, которую принёс каждый пользователь."
   ]
  },
  {
   "cell_type": "code",
   "execution_count": 37,
   "id": "00d85041",
   "metadata": {},
   "outputs": [],
   "source": [
    "user_month['revenue'] = user_month['start_ride_price']*user_month['count'] + user_month['minute_price'] * user_month['duration'] + user_month['subscription_fee']"
   ]
  },
  {
   "cell_type": "code",
   "execution_count": 38,
   "id": "a0a880ca",
   "metadata": {},
   "outputs": [
    {
     "name": "stdout",
     "output_type": "stream",
     "text": [
      "Выручка за 2021 год составила : 3878641.0 руб.\n"
     ]
    }
   ],
   "source": [
    "print('Выручка за 2021 год составила :',user_month['revenue'].sum(), 'руб.')"
   ]
  },
  {
   "cell_type": "markdown",
   "id": "4dcbf1cd",
   "metadata": {},
   "source": [
    "#### Шаг 6. Проверка гипотез"
   ]
  },
  {
   "cell_type": "markdown",
   "id": "9204f691",
   "metadata": {},
   "source": [
    "##### Тратят ли пользователи с подпиской больше времени на поездки?"
   ]
  },
  {
   "cell_type": "markdown",
   "id": "ac933ae4",
   "metadata": {},
   "source": [
    "Выдвинем гипотезы:\n",
    "\n",
    "- Н0: Средняя продолжительность поездок с подпиской ultra и без free равна\n",
    "- Н1: Средняя продолжительность поездок с подпиской ultra больше продолжительности поездок без подписок free"
   ]
  },
  {
   "cell_type": "code",
   "execution_count": 39,
   "id": "3bfd7427",
   "metadata": {},
   "outputs": [
    {
     "name": "stdout",
     "output_type": "stream",
     "text": [
      "1.2804098316645618e-34\n",
      "Отвергаем нулевую гипотезу\n"
     ]
    }
   ],
   "source": [
    "alpha = 0.05\n",
    "\n",
    "results = st.ttest_ind(\n",
    "    subscription_on['duration'], \n",
    "    subscription_off['duration'], \n",
    "    equal_var=True, \n",
    "    alternative='greater')\n",
    "\n",
    "print(results.pvalue)\n",
    "\n",
    "if results.pvalue < alpha:\n",
    "    print('Отвергаем нулевую гипотезу')\n",
    "else:\n",
    "    print('Не получилось отвергнуть нулевую гипотезу')"
   ]
  },
  {
   "cell_type": "markdown",
   "id": "be3f5b70",
   "metadata": {},
   "source": [
    "Вывод: Нулевая гипотеза отвергнута, вероятно средняя продолжительность поездки с подпиской больше продолжительности поездок без подписки."
   ]
  },
  {
   "cell_type": "markdown",
   "id": "c1f966a0",
   "metadata": {},
   "source": [
    "#####  Можно ли сказать, что среднее расстояние, которое проезжают пользователи с подпиской за одну поездку, не превышает 3130 метров? "
   ]
  },
  {
   "cell_type": "markdown",
   "id": "272a1370",
   "metadata": {},
   "source": [
    "Выдвинем гипотезы:\n",
    "\n",
    "- Н0: Среднее расстояние поездок с подпиской ultra равно оптимальному расстоянию в 3130 метров.\n",
    "- Н1: Среднее расстояние поездок с подпиской ultra больше оптимального в 3130 метров."
   ]
  },
  {
   "cell_type": "code",
   "execution_count": 40,
   "id": "f6501550",
   "metadata": {},
   "outputs": [
    {
     "name": "stdout",
     "output_type": "stream",
     "text": [
      "0.9195368847849785\n",
      "Не получилось отвергнуть нулевую гипотезу\n"
     ]
    }
   ],
   "source": [
    "distance = 3130\n",
    "alpha = 0.05\n",
    "\n",
    "results = st.ttest_1samp(\n",
    "    subscription_on['distance'], \n",
    "    distance,\n",
    "    alternative='greater')\n",
    "\n",
    "print(results.pvalue)\n",
    "if results.pvalue < alpha:\n",
    "    print('Отвергаем нулевую гипотезу')\n",
    "else:\n",
    "    print('Не получилось отвергнуть нулевую гипотезу')"
   ]
  },
  {
   "cell_type": "markdown",
   "id": "a08c18a4",
   "metadata": {},
   "source": [
    "Вывод: Нулевую гипотезу не получилось отвергнуть, есть основания утверждать, что среднее расстояние поездки,\n",
    "пользователей с подпиской, не превышает расстояние в 3130 метров с точки зрения износа самоката."
   ]
  },
  {
   "cell_type": "markdown",
   "id": "a008b917",
   "metadata": {},
   "source": [
    "##### Будет ли помесячная выручка от пользователей с подпиской по месяцам выше, чем выручка от пользователей без подписки. "
   ]
  },
  {
   "cell_type": "markdown",
   "id": "608749b0",
   "metadata": {},
   "source": [
    "Выдвинем гипотезы:\n",
    "\n",
    "- Н0: Помесячная средняя выручка от пользователей с подпиской равна помесячной средней выручке от пользователей без подписки.\n",
    "- Н1: Помесячная средняя выручка от пользователей с подпиской больше помесячной средней выручки от пользователей без подписки."
   ]
  },
  {
   "cell_type": "code",
   "execution_count": 41,
   "id": "64b2329f",
   "metadata": {},
   "outputs": [
    {
     "name": "stdout",
     "output_type": "stream",
     "text": [
      "1.8850394384715216e-31\n",
      "Отвергаем нулевую гипотезу\n"
     ]
    }
   ],
   "source": [
    "alpha = 0.05\n",
    "results = st.ttest_ind(\n",
    "    user_month.loc[user_month['subscription_fee'] > 0, 'revenue'], \n",
    "    user_month.loc[user_month['subscription_fee'] == 0, 'revenue'], \n",
    "    equal_var=True, \n",
    "    alternative='greater')\n",
    "\n",
    "print(results.pvalue)\n",
    "if results.pvalue < alpha:\n",
    "    print('Отвергаем нулевую гипотезу')\n",
    "else:\n",
    "    print('Не получилось отвергнуть нулевую гипотезу')"
   ]
  },
  {
   "cell_type": "markdown",
   "id": "1988f901",
   "metadata": {},
   "source": [
    "Вывод: Нулевая гипотеза отвергнута, есть основания утверждать, что средняя месячная выручка от пользователей с подпиской, больше средней месячной выручки от пользователей без подписки."
   ]
  },
  {
   "cell_type": "markdown",
   "id": "f8223a18",
   "metadata": {},
   "source": [
    "##### Разберем такую ситуацию: техническая команда сервиса обновила сервера, с которыми взаимодействует мобильное приложение. Она надеется, что из-за этого количество обращений в техподдержку значимо снизилось. Некоторый файл содержит для каждого пользователя данные о количестве обращений до обновления и после него. Какой тест нам  понадобился бы для проверки этой гипотезы?"
   ]
  },
  {
   "cell_type": "markdown",
   "id": "22505f1a",
   "metadata": {},
   "source": [
    "Это две зависимые выборки, поэтому можем использовать метод 'scipy.stats.ttest_rel()' при проверке на то что, истинное среднее значение генеральной выборки до изменения больше, чем истинное среднее значение генеральной совокупности."
   ]
  },
  {
   "cell_type": "markdown",
   "id": "e48b2851",
   "metadata": {},
   "source": [
    "#### Общий вывод:"
   ]
  },
  {
   "cell_type": "markdown",
   "id": "2c6202cf",
   "metadata": {},
   "source": [
    "\n",
    "- Изучены и описаны параметры:\n",
    "    - Услугами сервиса аренды самокатов пользуются больше всего в Пятигорске, на второй месте оказался Екатеринбург.\n",
    "    - Людей без подписки на 8% больше чем с подпиской.\n",
    "    - Основная группа людей пользующаяся прокатом самокатов это люди от 22 до 28 лет\n",
    "    - Медиана поездок находится на 3133 метров первый квартиль находится на значении 2543 метра, третий квартиль на 3776 метров. Можно предположить, что люди пользуются самокатами не только на длинные маршруты, но и на короткие растояния(напрмер: когда устали ходить пешком)\n",
    "    - Медиана поездок находится на 18 мин первый квартиль находится на значении 14 мин, третий квартиль на 22 мин. Были замечены аномальные значения(при поездках меньше 2 минут растояние 4-7 км)\n",
    "    - Люди с подпиской чаще едут дальше на 46 метров, и на 1 минуту дольше.\n",
    "\n",
    "- Подсчёт выручки:\n",
    "    - Выручка сервиса аренды самокатов \"GoFast\" за год составила 3 853 677.0руб.\n",
    "\n",
    "- Проверка гипотез\n",
    "\n",
    "    - Нулевая гипотеза отвергнута, вероятно средняя продолжительность поездки с подпиской больше продолжительности поездок без подписки.\n",
    "    - Нулевую гипотезу не получилось отвергнуть, есть основания утверждать, что среднее расстояние поездки, пользователей с подпиской, не превышает расстояние в 3130 метров с точки зрения износа самоката.\n",
    "    - Нулевая гипотеза отвергнута, есть основания утверждать, что средняя месячная выручка от пользователей с подпиской, больше средней месячной выручки от пользователей без подписки.\n",
    "    - Дано пояснение о необходимости применения метода scipy.stats.ttest_rel(), для сравнения зависимых выборок."
   ]
  }
 ],
 "metadata": {
  "ExecuteTimeLog": [
   {
    "duration": 1581,
    "start_time": "2024-07-11T19:59:49.805Z"
   },
   {
    "duration": 3,
    "start_time": "2024-07-11T20:04:58.320Z"
   },
   {
    "duration": 205,
    "start_time": "2024-07-11T20:10:51.345Z"
   },
   {
    "duration": 19,
    "start_time": "2024-07-11T20:10:53.004Z"
   },
   {
    "duration": 15,
    "start_time": "2024-07-11T20:11:09.499Z"
   },
   {
    "duration": 15,
    "start_time": "2024-07-11T20:11:50.549Z"
   },
   {
    "duration": 15,
    "start_time": "2024-07-11T20:11:54.974Z"
   },
   {
    "duration": 14,
    "start_time": "2024-07-11T20:12:01.991Z"
   },
   {
    "duration": 18,
    "start_time": "2024-07-11T20:12:12.287Z"
   },
   {
    "duration": 15,
    "start_time": "2024-07-11T20:14:10.689Z"
   },
   {
    "duration": 19,
    "start_time": "2024-07-11T20:14:13.507Z"
   },
   {
    "duration": 14,
    "start_time": "2024-07-11T20:14:14.343Z"
   },
   {
    "duration": 16,
    "start_time": "2024-07-11T20:16:50.929Z"
   },
   {
    "duration": 5,
    "start_time": "2024-07-11T20:17:08.922Z"
   },
   {
    "duration": 14,
    "start_time": "2024-07-11T20:18:37.301Z"
   },
   {
    "duration": 5,
    "start_time": "2024-07-11T20:18:41.115Z"
   },
   {
    "duration": 5,
    "start_time": "2024-07-11T20:18:57.754Z"
   },
   {
    "duration": 6,
    "start_time": "2024-07-11T20:19:01.176Z"
   },
   {
    "duration": 14,
    "start_time": "2024-07-11T20:19:22.309Z"
   },
   {
    "duration": 96,
    "start_time": "2024-07-11T20:20:25.553Z"
   },
   {
    "duration": 136,
    "start_time": "2024-07-11T20:22:25.022Z"
   },
   {
    "duration": 127,
    "start_time": "2024-07-11T20:24:28.026Z"
   },
   {
    "duration": 248,
    "start_time": "2024-07-11T20:24:32.804Z"
   },
   {
    "duration": 174,
    "start_time": "2024-07-11T20:24:44.923Z"
   },
   {
    "duration": 177,
    "start_time": "2024-07-11T20:24:50.306Z"
   },
   {
    "duration": 148,
    "start_time": "2024-07-11T20:25:12.227Z"
   },
   {
    "duration": 174,
    "start_time": "2024-07-11T20:25:39.997Z"
   },
   {
    "duration": 50,
    "start_time": "2024-07-11T20:26:41.747Z"
   },
   {
    "duration": 9,
    "start_time": "2024-07-11T20:26:47.023Z"
   },
   {
    "duration": 332,
    "start_time": "2024-07-11T20:27:00.792Z"
   },
   {
    "duration": 158,
    "start_time": "2024-07-11T20:27:32.513Z"
   },
   {
    "duration": 53,
    "start_time": "2024-07-11T20:27:46.409Z"
   },
   {
    "duration": 1060,
    "start_time": "2024-07-11T20:27:48.757Z"
   },
   {
    "duration": 69,
    "start_time": "2024-07-11T20:27:51.079Z"
   },
   {
    "duration": 17,
    "start_time": "2024-07-11T20:27:52.472Z"
   },
   {
    "duration": 170,
    "start_time": "2024-07-11T20:28:05.158Z"
   },
   {
    "duration": 166,
    "start_time": "2024-07-11T20:28:12.710Z"
   },
   {
    "duration": 244,
    "start_time": "2024-07-11T20:28:15.474Z"
   },
   {
    "duration": 5,
    "start_time": "2024-07-11T20:28:26.717Z"
   },
   {
    "duration": 7,
    "start_time": "2024-07-11T20:28:27.190Z"
   },
   {
    "duration": 18,
    "start_time": "2024-07-11T20:28:29.473Z"
   },
   {
    "duration": 15,
    "start_time": "2024-07-11T20:28:30.018Z"
   },
   {
    "duration": 180,
    "start_time": "2024-07-11T20:28:30.733Z"
   },
   {
    "duration": 160,
    "start_time": "2024-07-11T20:28:38.579Z"
   },
   {
    "duration": 154,
    "start_time": "2024-07-11T20:29:01.396Z"
   },
   {
    "duration": 160,
    "start_time": "2024-07-11T20:29:10.148Z"
   },
   {
    "duration": 54,
    "start_time": "2024-07-11T20:30:21.669Z"
   },
   {
    "duration": 153,
    "start_time": "2024-07-11T20:33:05.269Z"
   },
   {
    "duration": 252,
    "start_time": "2024-07-11T20:33:15.549Z"
   },
   {
    "duration": 282,
    "start_time": "2024-07-11T20:33:20.390Z"
   },
   {
    "duration": 187,
    "start_time": "2024-07-11T20:33:24.926Z"
   },
   {
    "duration": 53,
    "start_time": "2024-07-11T20:33:32.278Z"
   },
   {
    "duration": 53,
    "start_time": "2024-07-11T20:33:43.435Z"
   },
   {
    "duration": 169,
    "start_time": "2024-07-11T20:33:45.545Z"
   },
   {
    "duration": 56,
    "start_time": "2024-07-11T20:33:48.194Z"
   },
   {
    "duration": 65,
    "start_time": "2024-07-11T20:33:55.399Z"
   },
   {
    "duration": 168,
    "start_time": "2024-07-11T20:34:00.943Z"
   },
   {
    "duration": 255,
    "start_time": "2024-07-11T20:34:23.144Z"
   },
   {
    "duration": 75,
    "start_time": "2024-07-11T20:37:40.648Z"
   },
   {
    "duration": 11,
    "start_time": "2024-07-11T20:39:36.732Z"
   },
   {
    "duration": 134,
    "start_time": "2024-07-11T20:40:19.453Z"
   },
   {
    "duration": 127,
    "start_time": "2024-07-11T20:40:44.415Z"
   },
   {
    "duration": 126,
    "start_time": "2024-07-11T20:42:05.674Z"
   },
   {
    "duration": 238,
    "start_time": "2024-07-11T20:42:15.801Z"
   },
   {
    "duration": 145,
    "start_time": "2024-07-11T20:43:56.925Z"
   },
   {
    "duration": 252,
    "start_time": "2024-07-11T20:44:08.422Z"
   },
   {
    "duration": 258,
    "start_time": "2024-07-11T20:44:49.514Z"
   },
   {
    "duration": 145,
    "start_time": "2024-07-11T20:45:08.383Z"
   },
   {
    "duration": 158,
    "start_time": "2024-07-11T20:45:12.688Z"
   },
   {
    "duration": 187,
    "start_time": "2024-07-11T20:45:33.081Z"
   },
   {
    "duration": 4,
    "start_time": "2024-07-11T20:46:32.947Z"
   },
   {
    "duration": 4,
    "start_time": "2024-07-11T20:46:41.155Z"
   },
   {
    "duration": 4,
    "start_time": "2024-07-11T20:46:50.892Z"
   },
   {
    "duration": 164,
    "start_time": "2024-07-11T20:46:57.884Z"
   },
   {
    "duration": 158,
    "start_time": "2024-07-11T20:47:12.301Z"
   },
   {
    "duration": 266,
    "start_time": "2024-07-11T20:47:22.180Z"
   },
   {
    "duration": 172,
    "start_time": "2024-07-11T20:47:26.085Z"
   },
   {
    "duration": 16,
    "start_time": "2024-07-11T20:49:44.834Z"
   },
   {
    "duration": 13,
    "start_time": "2024-07-11T20:49:48.562Z"
   },
   {
    "duration": 4762,
    "start_time": "2024-07-11T20:50:31.902Z"
   },
   {
    "duration": 14,
    "start_time": "2024-07-11T20:51:10.549Z"
   },
   {
    "duration": 10,
    "start_time": "2024-07-11T20:51:23.533Z"
   },
   {
    "duration": 5,
    "start_time": "2024-07-11T20:56:00.729Z"
   },
   {
    "duration": 7,
    "start_time": "2024-07-11T21:00:31.762Z"
   },
   {
    "duration": 1198,
    "start_time": "2024-07-11T21:01:02.176Z"
   },
   {
    "duration": 72,
    "start_time": "2024-07-11T21:01:04.320Z"
   },
   {
    "duration": 18,
    "start_time": "2024-07-11T21:01:05.260Z"
   },
   {
    "duration": 5,
    "start_time": "2024-07-11T21:01:05.775Z"
   },
   {
    "duration": 6,
    "start_time": "2024-07-11T21:01:06.205Z"
   },
   {
    "duration": 25,
    "start_time": "2024-07-11T21:01:06.615Z"
   },
   {
    "duration": 14,
    "start_time": "2024-07-11T21:01:07.041Z"
   },
   {
    "duration": 177,
    "start_time": "2024-07-11T21:01:07.531Z"
   },
   {
    "duration": 135,
    "start_time": "2024-07-11T21:01:07.981Z"
   },
   {
    "duration": 258,
    "start_time": "2024-07-11T21:01:08.423Z"
   },
   {
    "duration": 249,
    "start_time": "2024-07-11T21:01:08.950Z"
   },
   {
    "duration": 7,
    "start_time": "2024-07-11T21:01:12.053Z"
   },
   {
    "duration": 1204,
    "start_time": "2024-07-11T21:01:24.080Z"
   },
   {
    "duration": 67,
    "start_time": "2024-07-11T21:01:25.862Z"
   },
   {
    "duration": 16,
    "start_time": "2024-07-11T21:01:26.562Z"
   },
   {
    "duration": 5,
    "start_time": "2024-07-11T21:01:26.988Z"
   },
   {
    "duration": 6,
    "start_time": "2024-07-11T21:01:27.380Z"
   },
   {
    "duration": 20,
    "start_time": "2024-07-11T21:01:27.718Z"
   },
   {
    "duration": 12,
    "start_time": "2024-07-11T21:01:27.993Z"
   },
   {
    "duration": 171,
    "start_time": "2024-07-11T21:01:28.272Z"
   },
   {
    "duration": 131,
    "start_time": "2024-07-11T21:01:28.736Z"
   },
   {
    "duration": 276,
    "start_time": "2024-07-11T21:01:29.208Z"
   },
   {
    "duration": 261,
    "start_time": "2024-07-11T21:01:30.240Z"
   },
   {
    "duration": 92,
    "start_time": "2024-07-11T21:01:34.464Z"
   },
   {
    "duration": 5,
    "start_time": "2024-07-11T21:01:48.646Z"
   },
   {
    "duration": 7,
    "start_time": "2024-07-11T21:02:16.182Z"
   },
   {
    "duration": 9,
    "start_time": "2024-07-11T21:10:24.033Z"
   },
   {
    "duration": 9,
    "start_time": "2024-07-11T21:10:36.001Z"
   },
   {
    "duration": 9,
    "start_time": "2024-07-11T21:10:45.369Z"
   },
   {
    "duration": 10,
    "start_time": "2024-07-11T21:10:48.281Z"
   },
   {
    "duration": 6,
    "start_time": "2024-07-11T21:13:38.025Z"
   },
   {
    "duration": 11,
    "start_time": "2024-07-11T21:13:56.312Z"
   },
   {
    "duration": 5,
    "start_time": "2024-07-11T21:17:38.951Z"
   },
   {
    "duration": 6,
    "start_time": "2024-07-11T21:17:39.654Z"
   },
   {
    "duration": 60,
    "start_time": "2024-07-12T06:18:55.645Z"
   },
   {
    "duration": 8,
    "start_time": "2024-07-12T06:19:07.019Z"
   },
   {
    "duration": 10,
    "start_time": "2024-07-12T06:19:44.725Z"
   },
   {
    "duration": 8,
    "start_time": "2024-07-12T06:19:55.790Z"
   },
   {
    "duration": 9,
    "start_time": "2024-07-12T06:21:26.035Z"
   },
   {
    "duration": 1321,
    "start_time": "2024-07-12T06:21:32.159Z"
   },
   {
    "duration": 199,
    "start_time": "2024-07-12T06:21:33.482Z"
   },
   {
    "duration": 17,
    "start_time": "2024-07-12T06:21:33.683Z"
   },
   {
    "duration": 6,
    "start_time": "2024-07-12T06:21:33.889Z"
   },
   {
    "duration": 20,
    "start_time": "2024-07-12T06:21:35.737Z"
   },
   {
    "duration": 13,
    "start_time": "2024-07-12T06:21:36.147Z"
   },
   {
    "duration": 172,
    "start_time": "2024-07-12T06:21:36.533Z"
   },
   {
    "duration": 240,
    "start_time": "2024-07-12T06:21:36.943Z"
   },
   {
    "duration": 246,
    "start_time": "2024-07-12T06:21:37.425Z"
   },
   {
    "duration": 6,
    "start_time": "2024-07-12T06:21:39.097Z"
   },
   {
    "duration": 7,
    "start_time": "2024-07-12T06:21:39.601Z"
   },
   {
    "duration": 6,
    "start_time": "2024-07-12T06:21:40.503Z"
   },
   {
    "duration": 6,
    "start_time": "2024-07-12T06:21:41.601Z"
   },
   {
    "duration": 6,
    "start_time": "2024-07-12T06:21:42.075Z"
   },
   {
    "duration": 142,
    "start_time": "2024-07-12T06:21:45.310Z"
   },
   {
    "duration": 59,
    "start_time": "2024-07-12T06:21:57.564Z"
   },
   {
    "duration": 181,
    "start_time": "2024-07-12T06:22:07.538Z"
   },
   {
    "duration": 133,
    "start_time": "2024-07-12T06:24:56.952Z"
   },
   {
    "duration": 3,
    "start_time": "2024-07-12T06:25:17.794Z"
   },
   {
    "duration": 159,
    "start_time": "2024-07-12T06:25:41.363Z"
   },
   {
    "duration": 4,
    "start_time": "2024-07-12T06:26:20.939Z"
   },
   {
    "duration": 355,
    "start_time": "2024-07-12T06:26:28.340Z"
   },
   {
    "duration": 83,
    "start_time": "2024-07-12T06:26:38.613Z"
   },
   {
    "duration": 194,
    "start_time": "2024-07-12T06:26:50.597Z"
   },
   {
    "duration": 296,
    "start_time": "2024-07-12T06:26:55.324Z"
   },
   {
    "duration": 262,
    "start_time": "2024-07-12T06:30:44.974Z"
   },
   {
    "duration": 53,
    "start_time": "2024-07-12T06:31:06.295Z"
   },
   {
    "duration": 268,
    "start_time": "2024-07-12T06:31:12.103Z"
   },
   {
    "duration": 254,
    "start_time": "2024-07-12T06:34:34.182Z"
   },
   {
    "duration": 373,
    "start_time": "2024-07-12T06:35:09.618Z"
   },
   {
    "duration": 269,
    "start_time": "2024-07-12T06:35:43.241Z"
   },
   {
    "duration": 188,
    "start_time": "2024-07-12T06:36:02.266Z"
   },
   {
    "duration": 15,
    "start_time": "2024-07-12T06:37:08.453Z"
   },
   {
    "duration": 13,
    "start_time": "2024-07-12T06:37:40.597Z"
   },
   {
    "duration": 8,
    "start_time": "2024-07-12T06:38:03.239Z"
   },
   {
    "duration": 140,
    "start_time": "2024-07-12T06:38:39.032Z"
   },
   {
    "duration": 129,
    "start_time": "2024-07-12T06:39:27.633Z"
   },
   {
    "duration": 28,
    "start_time": "2024-07-12T06:39:33.834Z"
   },
   {
    "duration": 127,
    "start_time": "2024-07-12T06:39:42.226Z"
   },
   {
    "duration": 129,
    "start_time": "2024-07-12T06:39:54.858Z"
   },
   {
    "duration": 8,
    "start_time": "2024-07-12T06:53:17.704Z"
   },
   {
    "duration": 10,
    "start_time": "2024-07-12T06:53:33.505Z"
   },
   {
    "duration": 17,
    "start_time": "2024-07-12T06:54:39.034Z"
   },
   {
    "duration": 12,
    "start_time": "2024-07-12T06:54:40.520Z"
   },
   {
    "duration": 8,
    "start_time": "2024-07-12T06:55:50.062Z"
   },
   {
    "duration": 9,
    "start_time": "2024-07-12T06:55:57.813Z"
   },
   {
    "duration": 15,
    "start_time": "2024-07-12T06:57:37.369Z"
   },
   {
    "duration": 253,
    "start_time": "2024-07-12T07:04:16.050Z"
   },
   {
    "duration": 373,
    "start_time": "2024-07-12T07:04:56.659Z"
   },
   {
    "duration": 7,
    "start_time": "2024-07-12T07:13:47.658Z"
   },
   {
    "duration": 6,
    "start_time": "2024-07-12T07:13:49.497Z"
   },
   {
    "duration": 249,
    "start_time": "2024-07-12T07:18:15.714Z"
   },
   {
    "duration": 263,
    "start_time": "2024-07-12T07:18:16.172Z"
   },
   {
    "duration": 266,
    "start_time": "2024-07-12T07:18:16.724Z"
   },
   {
    "duration": 255,
    "start_time": "2024-07-12T07:18:17.310Z"
   },
   {
    "duration": 8,
    "start_time": "2024-07-12T07:23:51.801Z"
   },
   {
    "duration": 10,
    "start_time": "2024-07-12T07:24:43.069Z"
   },
   {
    "duration": 255,
    "start_time": "2024-07-12T07:24:43.673Z"
   },
   {
    "duration": 9,
    "start_time": "2024-07-12T07:24:44.707Z"
   },
   {
    "duration": 397,
    "start_time": "2024-07-12T07:24:47.016Z"
   },
   {
    "duration": 9,
    "start_time": "2024-07-12T07:24:48.312Z"
   },
   {
    "duration": 86,
    "start_time": "2024-07-12T08:20:31.418Z"
   },
   {
    "duration": 54,
    "start_time": "2024-07-12T08:20:41.850Z"
   },
   {
    "duration": 57,
    "start_time": "2024-07-12T08:20:49.953Z"
   },
   {
    "duration": 50,
    "start_time": "2024-07-12T08:21:12.516Z"
   },
   {
    "duration": 9,
    "start_time": "2024-07-12T08:22:07.486Z"
   },
   {
    "duration": 8,
    "start_time": "2024-07-12T08:22:23.701Z"
   },
   {
    "duration": 43,
    "start_time": "2024-07-12T08:22:45.101Z"
   },
   {
    "duration": 12,
    "start_time": "2024-07-12T08:22:45.605Z"
   },
   {
    "duration": 37,
    "start_time": "2024-07-12T08:31:16.386Z"
   },
   {
    "duration": 37,
    "start_time": "2024-07-12T08:31:19.842Z"
   },
   {
    "duration": 10,
    "start_time": "2024-07-12T08:31:20.428Z"
   },
   {
    "duration": 6,
    "start_time": "2024-07-12T08:34:51.784Z"
   },
   {
    "duration": 10,
    "start_time": "2024-07-12T08:34:52.394Z"
   },
   {
    "duration": 4,
    "start_time": "2024-07-12T08:35:03.339Z"
   },
   {
    "duration": 4,
    "start_time": "2024-07-12T08:38:07.004Z"
   },
   {
    "duration": 4,
    "start_time": "2024-07-12T08:38:07.525Z"
   },
   {
    "duration": 70,
    "start_time": "2024-07-12T08:55:10.585Z"
   },
   {
    "duration": 20,
    "start_time": "2024-07-12T09:42:41.818Z"
   },
   {
    "duration": 11,
    "start_time": "2024-07-12T09:42:52.329Z"
   },
   {
    "duration": 5,
    "start_time": "2024-07-12T09:43:57.363Z"
   },
   {
    "duration": 9,
    "start_time": "2024-07-12T09:44:57.693Z"
   },
   {
    "duration": 6,
    "start_time": "2024-07-12T09:45:30.873Z"
   },
   {
    "duration": 6,
    "start_time": "2024-07-12T09:45:38.023Z"
   },
   {
    "duration": 9,
    "start_time": "2024-07-12T09:46:36.785Z"
   },
   {
    "duration": 8,
    "start_time": "2024-07-12T09:47:50.717Z"
   },
   {
    "duration": 1151,
    "start_time": "2024-07-12T10:18:13.424Z"
   },
   {
    "duration": 67,
    "start_time": "2024-07-12T10:18:16.030Z"
   },
   {
    "duration": 17,
    "start_time": "2024-07-12T10:18:18.166Z"
   },
   {
    "duration": 7,
    "start_time": "2024-07-12T10:18:18.599Z"
   },
   {
    "duration": 20,
    "start_time": "2024-07-12T10:18:18.977Z"
   },
   {
    "duration": 14,
    "start_time": "2024-07-12T10:18:19.385Z"
   },
   {
    "duration": 7,
    "start_time": "2024-07-12T10:18:20.787Z"
   },
   {
    "duration": 7,
    "start_time": "2024-07-12T10:18:21.163Z"
   },
   {
    "duration": 6,
    "start_time": "2024-07-12T10:18:22.144Z"
   },
   {
    "duration": 5,
    "start_time": "2024-07-12T10:18:23.128Z"
   },
   {
    "duration": 5,
    "start_time": "2024-07-12T10:18:23.517Z"
   },
   {
    "duration": 162,
    "start_time": "2024-07-12T10:18:24.462Z"
   },
   {
    "duration": 129,
    "start_time": "2024-07-12T10:18:25.196Z"
   },
   {
    "duration": 196,
    "start_time": "2024-07-12T10:18:25.921Z"
   },
   {
    "duration": 279,
    "start_time": "2024-07-12T10:18:26.604Z"
   },
   {
    "duration": 256,
    "start_time": "2024-07-12T10:18:27.312Z"
   },
   {
    "duration": 26,
    "start_time": "2024-07-12T10:18:28.391Z"
   },
   {
    "duration": 14,
    "start_time": "2024-07-12T10:18:28.688Z"
   },
   {
    "duration": 10,
    "start_time": "2024-07-12T10:18:28.984Z"
   },
   {
    "duration": 14,
    "start_time": "2024-07-12T10:18:29.387Z"
   },
   {
    "duration": 7,
    "start_time": "2024-07-12T10:18:30.077Z"
   },
   {
    "duration": 6,
    "start_time": "2024-07-12T10:18:30.422Z"
   },
   {
    "duration": 287,
    "start_time": "2024-07-12T10:18:31.028Z"
   },
   {
    "duration": 8,
    "start_time": "2024-07-12T10:18:31.317Z"
   },
   {
    "duration": 335,
    "start_time": "2024-07-12T10:18:31.605Z"
   },
   {
    "duration": 9,
    "start_time": "2024-07-12T10:18:31.942Z"
   },
   {
    "duration": 305,
    "start_time": "2024-07-12T10:18:32.273Z"
   },
   {
    "duration": 10,
    "start_time": "2024-07-12T10:18:32.628Z"
   },
   {
    "duration": 254,
    "start_time": "2024-07-12T10:18:32.993Z"
   },
   {
    "duration": 9,
    "start_time": "2024-07-12T10:18:33.338Z"
   },
   {
    "duration": 38,
    "start_time": "2024-07-12T10:18:34.496Z"
   },
   {
    "duration": 9,
    "start_time": "2024-07-12T10:18:34.986Z"
   },
   {
    "duration": 5,
    "start_time": "2024-07-12T10:18:35.701Z"
   },
   {
    "duration": 5,
    "start_time": "2024-07-12T10:18:36.014Z"
   },
   {
    "duration": 4,
    "start_time": "2024-07-12T10:18:36.344Z"
   },
   {
    "duration": 6,
    "start_time": "2024-07-12T10:18:38.015Z"
   },
   {
    "duration": 6,
    "start_time": "2024-07-12T10:18:39.152Z"
   },
   {
    "duration": 8,
    "start_time": "2024-07-12T10:18:40.051Z"
   },
   {
    "duration": 1373,
    "start_time": "2024-07-12T11:38:14.350Z"
   },
   {
    "duration": 265,
    "start_time": "2024-07-12T11:38:15.725Z"
   },
   {
    "duration": 17,
    "start_time": "2024-07-12T11:38:15.992Z"
   },
   {
    "duration": 22,
    "start_time": "2024-07-12T11:38:16.011Z"
   },
   {
    "duration": 20,
    "start_time": "2024-07-12T11:38:16.035Z"
   },
   {
    "duration": 16,
    "start_time": "2024-07-12T11:38:16.056Z"
   },
   {
    "duration": 8,
    "start_time": "2024-07-12T11:38:16.074Z"
   },
   {
    "duration": 7,
    "start_time": "2024-07-12T11:38:16.083Z"
   },
   {
    "duration": 7,
    "start_time": "2024-07-12T11:38:16.091Z"
   },
   {
    "duration": 4,
    "start_time": "2024-07-12T11:38:16.101Z"
   },
   {
    "duration": 12,
    "start_time": "2024-07-12T11:38:16.106Z"
   },
   {
    "duration": 188,
    "start_time": "2024-07-12T11:38:16.120Z"
   },
   {
    "duration": 153,
    "start_time": "2024-07-12T11:38:16.310Z"
   },
   {
    "duration": 186,
    "start_time": "2024-07-12T11:38:16.464Z"
   },
   {
    "duration": 273,
    "start_time": "2024-07-12T11:38:16.655Z"
   },
   {
    "duration": 274,
    "start_time": "2024-07-12T11:38:16.930Z"
   },
   {
    "duration": 17,
    "start_time": "2024-07-12T11:38:17.205Z"
   },
   {
    "duration": 13,
    "start_time": "2024-07-12T11:38:17.224Z"
   },
   {
    "duration": 9,
    "start_time": "2024-07-12T11:38:17.255Z"
   },
   {
    "duration": 22,
    "start_time": "2024-07-12T11:38:17.266Z"
   },
   {
    "duration": 7,
    "start_time": "2024-07-12T11:38:17.290Z"
   },
   {
    "duration": 6,
    "start_time": "2024-07-12T11:38:17.298Z"
   },
   {
    "duration": 285,
    "start_time": "2024-07-12T11:38:17.305Z"
   },
   {
    "duration": 11,
    "start_time": "2024-07-12T11:38:17.592Z"
   },
   {
    "duration": 380,
    "start_time": "2024-07-12T11:38:17.605Z"
   },
   {
    "duration": 8,
    "start_time": "2024-07-12T11:38:17.986Z"
   },
   {
    "duration": 281,
    "start_time": "2024-07-12T11:38:17.995Z"
   },
   {
    "duration": 9,
    "start_time": "2024-07-12T11:38:18.279Z"
   },
   {
    "duration": 275,
    "start_time": "2024-07-12T11:38:18.290Z"
   },
   {
    "duration": 9,
    "start_time": "2024-07-12T11:38:18.566Z"
   },
   {
    "duration": 40,
    "start_time": "2024-07-12T11:38:18.576Z"
   },
   {
    "duration": 9,
    "start_time": "2024-07-12T11:38:18.617Z"
   },
   {
    "duration": 31,
    "start_time": "2024-07-12T11:38:18.627Z"
   },
   {
    "duration": 6,
    "start_time": "2024-07-12T11:38:18.659Z"
   },
   {
    "duration": 7,
    "start_time": "2024-07-12T11:38:18.666Z"
   },
   {
    "duration": 10,
    "start_time": "2024-07-12T11:38:18.674Z"
   },
   {
    "duration": 9,
    "start_time": "2024-07-12T11:38:18.685Z"
   },
   {
    "duration": 11,
    "start_time": "2024-07-12T11:38:18.696Z"
   },
   {
    "duration": 6,
    "start_time": "2024-07-12T11:48:05.270Z"
   },
   {
    "duration": 1296,
    "start_time": "2024-07-12T11:52:11.022Z"
   },
   {
    "duration": 66,
    "start_time": "2024-07-12T11:52:12.319Z"
   },
   {
    "duration": 18,
    "start_time": "2024-07-12T11:52:12.387Z"
   },
   {
    "duration": 5,
    "start_time": "2024-07-12T11:52:12.408Z"
   },
   {
    "duration": 20,
    "start_time": "2024-07-12T11:52:12.415Z"
   },
   {
    "duration": 27,
    "start_time": "2024-07-12T11:52:12.437Z"
   },
   {
    "duration": 7,
    "start_time": "2024-07-12T11:52:12.466Z"
   },
   {
    "duration": 10,
    "start_time": "2024-07-12T11:52:12.475Z"
   },
   {
    "duration": 6,
    "start_time": "2024-07-12T11:52:12.486Z"
   },
   {
    "duration": 5,
    "start_time": "2024-07-12T11:52:12.496Z"
   },
   {
    "duration": 7,
    "start_time": "2024-07-12T11:52:12.502Z"
   },
   {
    "duration": 199,
    "start_time": "2024-07-12T11:52:12.511Z"
   },
   {
    "duration": 137,
    "start_time": "2024-07-12T11:52:12.712Z"
   },
   {
    "duration": 178,
    "start_time": "2024-07-12T11:52:12.854Z"
   },
   {
    "duration": 291,
    "start_time": "2024-07-12T11:52:13.033Z"
   },
   {
    "duration": 285,
    "start_time": "2024-07-12T11:52:13.326Z"
   },
   {
    "duration": 17,
    "start_time": "2024-07-12T11:52:13.614Z"
   },
   {
    "duration": 24,
    "start_time": "2024-07-12T11:52:13.632Z"
   },
   {
    "duration": 9,
    "start_time": "2024-07-12T11:52:13.658Z"
   },
   {
    "duration": 15,
    "start_time": "2024-07-12T11:52:13.669Z"
   },
   {
    "duration": 7,
    "start_time": "2024-07-12T11:52:13.686Z"
   },
   {
    "duration": 9,
    "start_time": "2024-07-12T11:52:13.695Z"
   },
   {
    "duration": 277,
    "start_time": "2024-07-12T11:52:13.706Z"
   },
   {
    "duration": 8,
    "start_time": "2024-07-12T11:52:13.985Z"
   },
   {
    "duration": 343,
    "start_time": "2024-07-12T11:52:13.995Z"
   },
   {
    "duration": 16,
    "start_time": "2024-07-12T11:52:14.339Z"
   },
   {
    "duration": 271,
    "start_time": "2024-07-12T11:52:14.357Z"
   },
   {
    "duration": 8,
    "start_time": "2024-07-12T11:52:14.631Z"
   },
   {
    "duration": 285,
    "start_time": "2024-07-12T11:52:14.641Z"
   },
   {
    "duration": 9,
    "start_time": "2024-07-12T11:52:14.927Z"
   },
   {
    "duration": 46,
    "start_time": "2024-07-12T11:52:14.938Z"
   },
   {
    "duration": 10,
    "start_time": "2024-07-12T11:52:14.986Z"
   },
   {
    "duration": 7,
    "start_time": "2024-07-12T11:52:14.997Z"
   },
   {
    "duration": 54,
    "start_time": "2024-07-12T11:52:15.006Z"
   },
   {
    "duration": 36,
    "start_time": "2024-07-12T11:52:15.062Z"
   },
   {
    "duration": 56,
    "start_time": "2024-07-12T11:52:15.099Z"
   },
   {
    "duration": 60,
    "start_time": "2024-07-12T11:52:15.158Z"
   },
   {
    "duration": 12,
    "start_time": "2024-07-12T11:52:15.220Z"
   },
   {
    "duration": 53,
    "start_time": "2024-07-12T13:15:25.043Z"
   },
   {
    "duration": 6,
    "start_time": "2024-07-12T13:15:37.081Z"
   },
   {
    "duration": 7,
    "start_time": "2024-07-12T13:16:24.306Z"
   },
   {
    "duration": 8,
    "start_time": "2024-07-12T13:17:45.952Z"
   },
   {
    "duration": 1392,
    "start_time": "2024-07-12T13:17:52.593Z"
   },
   {
    "duration": 283,
    "start_time": "2024-07-12T13:17:54.230Z"
   },
   {
    "duration": 25,
    "start_time": "2024-07-12T13:18:13.695Z"
   },
   {
    "duration": 22,
    "start_time": "2024-07-12T13:18:37.017Z"
   },
   {
    "duration": 20,
    "start_time": "2024-07-12T13:18:41.528Z"
   },
   {
    "duration": 20,
    "start_time": "2024-07-12T13:18:52.385Z"
   },
   {
    "duration": 20,
    "start_time": "2024-07-12T13:19:14.617Z"
   },
   {
    "duration": 22,
    "start_time": "2024-07-12T13:19:26.889Z"
   },
   {
    "duration": 56,
    "start_time": "2024-07-12T13:19:47.595Z"
   },
   {
    "duration": 23,
    "start_time": "2024-07-12T13:19:55.975Z"
   },
   {
    "duration": 16,
    "start_time": "2024-07-12T13:20:17.995Z"
   },
   {
    "duration": 61,
    "start_time": "2024-07-12T13:22:58.585Z"
   },
   {
    "duration": 104,
    "start_time": "2024-07-12T13:24:02.108Z"
   },
   {
    "duration": 56,
    "start_time": "2024-07-12T13:26:08.720Z"
   },
   {
    "duration": 65,
    "start_time": "2024-07-12T13:30:28.642Z"
   },
   {
    "duration": 3,
    "start_time": "2024-07-12T13:32:30.718Z"
   },
   {
    "duration": 70,
    "start_time": "2024-07-12T13:32:34.681Z"
   },
   {
    "duration": 23,
    "start_time": "2024-07-12T13:32:36.851Z"
   },
   {
    "duration": 23,
    "start_time": "2024-07-12T13:33:08.126Z"
   },
   {
    "duration": 16,
    "start_time": "2024-07-12T13:33:10.401Z"
   },
   {
    "duration": 57,
    "start_time": "2024-07-12T13:38:43.021Z"
   },
   {
    "duration": 161,
    "start_time": "2024-07-12T13:41:11.786Z"
   },
   {
    "duration": 145,
    "start_time": "2024-07-12T13:41:26.331Z"
   },
   {
    "duration": 137,
    "start_time": "2024-07-12T13:41:29.330Z"
   },
   {
    "duration": 79,
    "start_time": "2024-07-12T13:43:43.463Z"
   },
   {
    "duration": 82,
    "start_time": "2024-07-12T13:45:07.876Z"
   },
   {
    "duration": 152,
    "start_time": "2024-07-12T13:47:34.225Z"
   },
   {
    "duration": 7,
    "start_time": "2024-07-12T13:48:43.195Z"
   },
   {
    "duration": 9,
    "start_time": "2024-07-12T13:49:49.478Z"
   },
   {
    "duration": 8,
    "start_time": "2024-07-12T13:50:04.998Z"
   },
   {
    "duration": 50,
    "start_time": "2024-07-12T14:03:30.683Z"
   },
   {
    "duration": 7,
    "start_time": "2024-07-12T14:03:30.859Z"
   },
   {
    "duration": 6,
    "start_time": "2024-07-12T14:03:31.713Z"
   },
   {
    "duration": 6,
    "start_time": "2024-07-12T14:03:31.891Z"
   },
   {
    "duration": 6,
    "start_time": "2024-07-12T14:03:32.093Z"
   },
   {
    "duration": 6,
    "start_time": "2024-07-12T14:03:32.277Z"
   },
   {
    "duration": 8,
    "start_time": "2024-07-12T14:03:32.833Z"
   },
   {
    "duration": 6,
    "start_time": "2024-07-12T14:03:33.028Z"
   },
   {
    "duration": 6,
    "start_time": "2024-07-12T14:03:33.607Z"
   },
   {
    "duration": 7,
    "start_time": "2024-07-12T14:03:33.801Z"
   },
   {
    "duration": 7,
    "start_time": "2024-07-12T14:03:34.003Z"
   },
   {
    "duration": 6,
    "start_time": "2024-07-12T14:03:34.413Z"
   },
   {
    "duration": 6,
    "start_time": "2024-07-12T14:03:34.598Z"
   },
   {
    "duration": 9,
    "start_time": "2024-07-12T14:03:34.799Z"
   },
   {
    "duration": 7,
    "start_time": "2024-07-12T14:03:34.975Z"
   },
   {
    "duration": 5,
    "start_time": "2024-07-12T14:03:35.357Z"
   },
   {
    "duration": 8,
    "start_time": "2024-07-12T14:03:36.321Z"
   },
   {
    "duration": 5,
    "start_time": "2024-07-12T14:03:36.530Z"
   },
   {
    "duration": 6,
    "start_time": "2024-07-12T14:03:37.099Z"
   },
   {
    "duration": 7,
    "start_time": "2024-07-12T14:03:37.299Z"
   },
   {
    "duration": 7,
    "start_time": "2024-07-12T14:03:37.491Z"
   },
   {
    "duration": 7,
    "start_time": "2024-07-12T14:03:37.710Z"
   },
   {
    "duration": 8,
    "start_time": "2024-07-12T14:03:38.933Z"
   },
   {
    "duration": 7,
    "start_time": "2024-07-12T14:03:39.975Z"
   },
   {
    "duration": 9,
    "start_time": "2024-07-12T14:03:41.263Z"
   },
   {
    "duration": 1177,
    "start_time": "2024-07-12T14:04:01.080Z"
   },
   {
    "duration": 1132,
    "start_time": "2024-07-12T14:04:13.211Z"
   },
   {
    "duration": 76,
    "start_time": "2024-07-12T14:04:17.437Z"
   },
   {
    "duration": 24,
    "start_time": "2024-07-12T14:04:18.563Z"
   },
   {
    "duration": 25,
    "start_time": "2024-07-12T14:04:19.887Z"
   },
   {
    "duration": 20,
    "start_time": "2024-07-12T14:04:20.290Z"
   },
   {
    "duration": 9,
    "start_time": "2024-07-12T14:04:22.845Z"
   },
   {
    "duration": 5,
    "start_time": "2024-07-12T14:04:23.543Z"
   },
   {
    "duration": 5,
    "start_time": "2024-07-12T14:04:24.193Z"
   },
   {
    "duration": 7,
    "start_time": "2024-07-12T14:04:24.585Z"
   },
   {
    "duration": 178,
    "start_time": "2024-07-12T14:04:26.408Z"
   },
   {
    "duration": 82,
    "start_time": "2024-07-12T14:04:27.718Z"
   },
   {
    "duration": 187,
    "start_time": "2024-07-12T14:04:28.840Z"
   },
   {
    "duration": 8,
    "start_time": "2024-07-12T14:04:29.348Z"
   },
   {
    "duration": 276,
    "start_time": "2024-07-12T14:04:30.468Z"
   },
   {
    "duration": 8,
    "start_time": "2024-07-12T14:04:30.802Z"
   },
   {
    "duration": 268,
    "start_time": "2024-07-12T14:04:31.803Z"
   },
   {
    "duration": 10,
    "start_time": "2024-07-12T14:04:32.073Z"
   },
   {
    "duration": 17,
    "start_time": "2024-07-12T14:04:33.803Z"
   },
   {
    "duration": 17,
    "start_time": "2024-07-12T14:04:34.880Z"
   },
   {
    "duration": 10,
    "start_time": "2024-07-12T14:04:41.470Z"
   },
   {
    "duration": 19,
    "start_time": "2024-07-12T14:04:44.876Z"
   },
   {
    "duration": 7,
    "start_time": "2024-07-12T14:04:48.085Z"
   },
   {
    "duration": 6,
    "start_time": "2024-07-12T14:04:48.543Z"
   },
   {
    "duration": 274,
    "start_time": "2024-07-12T14:04:49.930Z"
   },
   {
    "duration": 9,
    "start_time": "2024-07-12T14:04:50.700Z"
   },
   {
    "duration": 347,
    "start_time": "2024-07-12T14:04:51.406Z"
   },
   {
    "duration": 8,
    "start_time": "2024-07-12T14:04:53.922Z"
   },
   {
    "duration": 282,
    "start_time": "2024-07-12T14:04:54.461Z"
   },
   {
    "duration": 8,
    "start_time": "2024-07-12T14:04:55.007Z"
   },
   {
    "duration": 288,
    "start_time": "2024-07-12T14:04:55.834Z"
   },
   {
    "duration": 9,
    "start_time": "2024-07-12T14:04:57.344Z"
   },
   {
    "duration": 39,
    "start_time": "2024-07-12T14:05:02.385Z"
   },
   {
    "duration": 10,
    "start_time": "2024-07-12T14:05:03.591Z"
   },
   {
    "duration": 4,
    "start_time": "2024-07-12T14:05:06.690Z"
   },
   {
    "duration": 5,
    "start_time": "2024-07-12T14:05:07.191Z"
   },
   {
    "duration": 4,
    "start_time": "2024-07-12T14:05:07.767Z"
   },
   {
    "duration": 4,
    "start_time": "2024-07-12T14:05:08.323Z"
   },
   {
    "duration": 5,
    "start_time": "2024-07-12T14:05:12.337Z"
   },
   {
    "duration": 5,
    "start_time": "2024-07-12T14:05:15.027Z"
   },
   {
    "duration": 7,
    "start_time": "2024-07-12T14:05:19.261Z"
   },
   {
    "duration": 6,
    "start_time": "2024-07-12T14:06:06.341Z"
   },
   {
    "duration": 4,
    "start_time": "2024-07-12T14:06:07.551Z"
   },
   {
    "duration": 416,
    "start_time": "2024-07-12T14:08:13.309Z"
   },
   {
    "duration": 288,
    "start_time": "2024-07-12T14:08:21.141Z"
   },
   {
    "duration": 289,
    "start_time": "2024-07-12T14:08:32.167Z"
   },
   {
    "duration": 42,
    "start_time": "2024-07-12T14:08:54.167Z"
   },
   {
    "duration": 9,
    "start_time": "2024-07-12T14:08:57.119Z"
   },
   {
    "duration": 37,
    "start_time": "2024-07-12T14:09:01.228Z"
   },
   {
    "duration": 10,
    "start_time": "2024-07-12T14:09:01.945Z"
   },
   {
    "duration": 37,
    "start_time": "2024-07-12T14:09:17.220Z"
   },
   {
    "duration": 263,
    "start_time": "2024-07-12T14:09:26.656Z"
   },
   {
    "duration": 262,
    "start_time": "2024-07-12T14:09:31.152Z"
   },
   {
    "duration": 38,
    "start_time": "2024-07-12T14:09:49.577Z"
   },
   {
    "duration": 41,
    "start_time": "2024-07-12T14:09:52.905Z"
   },
   {
    "duration": 10,
    "start_time": "2024-07-12T14:09:57.270Z"
   },
   {
    "duration": 12,
    "start_time": "2024-07-12T14:10:37.170Z"
   },
   {
    "duration": 35,
    "start_time": "2024-07-12T14:10:56.965Z"
   },
   {
    "duration": 10,
    "start_time": "2024-07-12T14:11:01.212Z"
   },
   {
    "duration": 265,
    "start_time": "2024-07-12T14:11:47.998Z"
   },
   {
    "duration": 381,
    "start_time": "2024-07-12T14:12:41.455Z"
   },
   {
    "duration": 38,
    "start_time": "2024-07-12T14:13:19.177Z"
   },
   {
    "duration": 271,
    "start_time": "2024-07-12T14:13:45.218Z"
   },
   {
    "duration": 370,
    "start_time": "2024-07-12T14:15:05.925Z"
   },
   {
    "duration": 45,
    "start_time": "2024-07-12T14:16:31.616Z"
   },
   {
    "duration": 39,
    "start_time": "2024-07-12T14:17:20.978Z"
   },
   {
    "duration": 294,
    "start_time": "2024-07-12T14:17:59.060Z"
   },
   {
    "duration": 42,
    "start_time": "2024-07-12T14:18:18.516Z"
   },
   {
    "duration": 4,
    "start_time": "2024-07-12T14:22:35.213Z"
   },
   {
    "duration": 169,
    "start_time": "2024-07-12T14:30:39.143Z"
   },
   {
    "duration": 153,
    "start_time": "2024-07-12T14:30:53.551Z"
   },
   {
    "duration": 159,
    "start_time": "2024-07-12T14:31:29.553Z"
   },
   {
    "duration": 169,
    "start_time": "2024-07-12T14:31:42.344Z"
   },
   {
    "duration": 268,
    "start_time": "2024-07-12T14:33:51.245Z"
   },
   {
    "duration": 305,
    "start_time": "2024-07-12T14:35:04.681Z"
   },
   {
    "duration": 275,
    "start_time": "2024-07-12T14:35:27.081Z"
   },
   {
    "duration": 287,
    "start_time": "2024-07-12T14:35:47.146Z"
   },
   {
    "duration": 163,
    "start_time": "2024-07-12T14:36:21.619Z"
   },
   {
    "duration": 67,
    "start_time": "2024-07-12T14:37:12.654Z"
   },
   {
    "duration": 246,
    "start_time": "2024-07-12T14:37:23.685Z"
   },
   {
    "duration": 385,
    "start_time": "2024-07-12T14:46:20.881Z"
   },
   {
    "duration": 263,
    "start_time": "2024-07-12T14:46:45.698Z"
   },
   {
    "duration": 254,
    "start_time": "2024-07-12T14:47:08.883Z"
   },
   {
    "duration": 249,
    "start_time": "2024-07-12T15:42:07.961Z"
   },
   {
    "duration": 251,
    "start_time": "2024-07-12T15:42:41.050Z"
   },
   {
    "duration": 278,
    "start_time": "2024-07-12T15:42:55.898Z"
   },
   {
    "duration": 424,
    "start_time": "2024-07-12T15:43:04.665Z"
   },
   {
    "duration": 184,
    "start_time": "2024-07-12T15:45:18.838Z"
   },
   {
    "duration": 9,
    "start_time": "2024-07-12T15:47:37.811Z"
   },
   {
    "duration": 828,
    "start_time": "2024-07-12T15:52:39.215Z"
   },
   {
    "duration": 491,
    "start_time": "2024-07-12T15:52:53.103Z"
   },
   {
    "duration": 312,
    "start_time": "2024-07-12T15:53:19.800Z"
   },
   {
    "duration": 24,
    "start_time": "2024-07-12T15:54:19.402Z"
   },
   {
    "duration": 18,
    "start_time": "2024-07-12T15:54:41.347Z"
   },
   {
    "duration": 10,
    "start_time": "2024-07-12T15:55:07.316Z"
   },
   {
    "duration": 14,
    "start_time": "2024-07-12T15:55:22.061Z"
   },
   {
    "duration": 9,
    "start_time": "2024-07-12T15:55:36.805Z"
   },
   {
    "duration": 9,
    "start_time": "2024-07-12T15:55:53.694Z"
   },
   {
    "duration": 9,
    "start_time": "2024-07-12T15:56:07.582Z"
   },
   {
    "duration": 7,
    "start_time": "2024-07-12T15:56:18.783Z"
   },
   {
    "duration": 6,
    "start_time": "2024-07-12T15:56:28.079Z"
   },
   {
    "duration": 13,
    "start_time": "2024-07-12T15:56:42.952Z"
   },
   {
    "duration": 15,
    "start_time": "2024-07-12T15:57:32.545Z"
   },
   {
    "duration": 8,
    "start_time": "2024-07-12T15:58:07.691Z"
   },
   {
    "duration": 165,
    "start_time": "2024-07-12T15:58:13.411Z"
   },
   {
    "duration": 524,
    "start_time": "2024-07-12T15:59:43.662Z"
   },
   {
    "duration": 837,
    "start_time": "2024-07-12T16:00:49.689Z"
   },
   {
    "duration": 966,
    "start_time": "2024-07-12T16:01:04.697Z"
   },
   {
    "duration": 186,
    "start_time": "2024-07-12T16:03:21.095Z"
   },
   {
    "duration": 145,
    "start_time": "2024-07-12T16:03:33.047Z"
   },
   {
    "duration": 180,
    "start_time": "2024-07-12T16:03:47.032Z"
   },
   {
    "duration": 146,
    "start_time": "2024-07-12T16:05:15.531Z"
   },
   {
    "duration": 149,
    "start_time": "2024-07-12T16:08:54.851Z"
   },
   {
    "duration": 145,
    "start_time": "2024-07-12T16:09:11.131Z"
   },
   {
    "duration": 142,
    "start_time": "2024-07-12T16:09:18.083Z"
   },
   {
    "duration": 50,
    "start_time": "2024-07-12T16:24:35.901Z"
   },
   {
    "duration": 296,
    "start_time": "2024-07-12T16:24:46.678Z"
   },
   {
    "duration": 7,
    "start_time": "2024-07-12T16:25:14.159Z"
   },
   {
    "duration": 253,
    "start_time": "2024-07-12T16:25:18.561Z"
   },
   {
    "duration": 6,
    "start_time": "2024-07-12T16:25:25.311Z"
   },
   {
    "duration": 287,
    "start_time": "2024-07-12T16:25:25.863Z"
   },
   {
    "duration": 1159,
    "start_time": "2024-07-12T16:25:38.323Z"
   },
   {
    "duration": 68,
    "start_time": "2024-07-12T16:25:40.594Z"
   },
   {
    "duration": 24,
    "start_time": "2024-07-12T16:25:41.268Z"
   },
   {
    "duration": 22,
    "start_time": "2024-07-12T16:25:42.217Z"
   },
   {
    "duration": 17,
    "start_time": "2024-07-12T16:25:42.520Z"
   },
   {
    "duration": 8,
    "start_time": "2024-07-12T16:25:44.359Z"
   },
   {
    "duration": 5,
    "start_time": "2024-07-12T16:25:45.056Z"
   },
   {
    "duration": 4,
    "start_time": "2024-07-12T16:25:45.813Z"
   },
   {
    "duration": 6,
    "start_time": "2024-07-12T16:25:46.174Z"
   },
   {
    "duration": 163,
    "start_time": "2024-07-12T16:25:48.066Z"
   },
   {
    "duration": 81,
    "start_time": "2024-07-12T16:25:49.472Z"
   },
   {
    "duration": 172,
    "start_time": "2024-07-12T16:25:50.844Z"
   },
   {
    "duration": 8,
    "start_time": "2024-07-12T16:25:51.101Z"
   },
   {
    "duration": 257,
    "start_time": "2024-07-12T16:25:52.179Z"
   },
   {
    "duration": 8,
    "start_time": "2024-07-12T16:25:52.438Z"
   },
   {
    "duration": 253,
    "start_time": "2024-07-12T16:25:53.689Z"
   },
   {
    "duration": 142,
    "start_time": "2024-07-12T16:25:53.981Z"
   },
   {
    "duration": 11,
    "start_time": "2024-07-12T16:25:54.878Z"
   },
   {
    "duration": 4,
    "start_time": "2024-07-12T16:25:55.605Z"
   },
   {
    "duration": 328,
    "start_time": "2024-07-12T16:25:56.161Z"
   },
   {
    "duration": 263,
    "start_time": "2024-07-12T16:36:54.929Z"
   },
   {
    "duration": 64,
    "start_time": "2024-07-12T16:46:56.263Z"
   },
   {
    "duration": 1206,
    "start_time": "2024-07-12T16:48:12.186Z"
   },
   {
    "duration": 71,
    "start_time": "2024-07-12T16:48:14.232Z"
   },
   {
    "duration": 28,
    "start_time": "2024-07-12T16:48:14.954Z"
   },
   {
    "duration": 26,
    "start_time": "2024-07-12T16:48:15.974Z"
   },
   {
    "duration": 24,
    "start_time": "2024-07-12T16:48:16.361Z"
   },
   {
    "duration": 8,
    "start_time": "2024-07-12T16:48:18.470Z"
   },
   {
    "duration": 9,
    "start_time": "2024-07-12T16:48:19.112Z"
   },
   {
    "duration": 6,
    "start_time": "2024-07-12T16:48:19.715Z"
   },
   {
    "duration": 7,
    "start_time": "2024-07-12T16:48:19.982Z"
   },
   {
    "duration": 173,
    "start_time": "2024-07-12T16:48:21.217Z"
   },
   {
    "duration": 86,
    "start_time": "2024-07-12T16:48:22.249Z"
   },
   {
    "duration": 184,
    "start_time": "2024-07-12T16:48:22.980Z"
   },
   {
    "duration": 9,
    "start_time": "2024-07-12T16:48:23.228Z"
   },
   {
    "duration": 279,
    "start_time": "2024-07-12T16:48:23.986Z"
   },
   {
    "duration": 9,
    "start_time": "2024-07-12T16:48:24.268Z"
   },
   {
    "duration": 278,
    "start_time": "2024-07-12T16:48:25.055Z"
   },
   {
    "duration": 159,
    "start_time": "2024-07-12T16:48:25.335Z"
   },
   {
    "duration": 8,
    "start_time": "2024-07-12T16:48:25.555Z"
   },
   {
    "duration": 5,
    "start_time": "2024-07-12T16:48:25.818Z"
   },
   {
    "duration": 367,
    "start_time": "2024-07-12T16:48:26.070Z"
   },
   {
    "duration": 24,
    "start_time": "2024-07-12T16:48:27.700Z"
   },
   {
    "duration": 13,
    "start_time": "2024-07-12T16:48:27.967Z"
   },
   {
    "duration": 9,
    "start_time": "2024-07-12T16:48:28.218Z"
   },
   {
    "duration": 16,
    "start_time": "2024-07-12T16:48:28.446Z"
   },
   {
    "duration": 10,
    "start_time": "2024-07-12T16:48:29.405Z"
   },
   {
    "duration": 6,
    "start_time": "2024-07-12T16:48:29.647Z"
   },
   {
    "duration": 288,
    "start_time": "2024-07-12T16:48:30.499Z"
   },
   {
    "duration": 31,
    "start_time": "2024-07-12T16:48:30.789Z"
   },
   {
    "duration": 293,
    "start_time": "2024-07-12T16:48:31.063Z"
   },
   {
    "duration": 8,
    "start_time": "2024-07-12T16:48:31.747Z"
   },
   {
    "duration": 308,
    "start_time": "2024-07-12T16:48:32.045Z"
   },
   {
    "duration": 10,
    "start_time": "2024-07-12T16:48:32.355Z"
   },
   {
    "duration": 316,
    "start_time": "2024-07-12T16:48:32.602Z"
   },
   {
    "duration": 9,
    "start_time": "2024-07-12T16:48:33.375Z"
   },
   {
    "duration": 107,
    "start_time": "2024-07-12T16:48:35.050Z"
   },
   {
    "duration": 41,
    "start_time": "2024-07-12T16:48:35.655Z"
   },
   {
    "duration": 11,
    "start_time": "2024-07-12T16:48:35.977Z"
   },
   {
    "duration": 13,
    "start_time": "2024-07-12T16:48:36.284Z"
   },
   {
    "duration": 6,
    "start_time": "2024-07-12T16:48:37.465Z"
   },
   {
    "duration": 4,
    "start_time": "2024-07-12T16:48:37.717Z"
   },
   {
    "duration": 7,
    "start_time": "2024-07-12T16:48:39.512Z"
   },
   {
    "duration": 6,
    "start_time": "2024-07-12T16:48:40.917Z"
   },
   {
    "duration": 8,
    "start_time": "2024-07-12T16:48:42.258Z"
   },
   {
    "duration": 4,
    "start_time": "2024-07-12T16:50:26.221Z"
   },
   {
    "duration": 36,
    "start_time": "2024-07-12T16:50:27.177Z"
   },
   {
    "duration": 10,
    "start_time": "2024-07-12T16:50:27.491Z"
   },
   {
    "duration": 12,
    "start_time": "2024-07-12T16:50:27.755Z"
   },
   {
    "duration": 7,
    "start_time": "2024-07-12T16:50:28.910Z"
   },
   {
    "duration": 5,
    "start_time": "2024-07-12T16:50:29.193Z"
   },
   {
    "duration": 6,
    "start_time": "2024-07-12T16:50:30.681Z"
   },
   {
    "duration": 5,
    "start_time": "2024-07-12T16:50:32.094Z"
   },
   {
    "duration": 7,
    "start_time": "2024-07-12T16:50:33.370Z"
   },
   {
    "duration": 538,
    "start_time": "2024-07-12T16:55:52.444Z"
   },
   {
    "duration": 412,
    "start_time": "2024-07-12T17:02:29.644Z"
   },
   {
    "duration": 403,
    "start_time": "2024-07-12T17:02:37.603Z"
   },
   {
    "duration": 409,
    "start_time": "2024-07-12T17:02:43.027Z"
   },
   {
    "duration": 559,
    "start_time": "2024-07-12T17:03:18.349Z"
   },
   {
    "duration": 271,
    "start_time": "2024-07-12T17:03:40.349Z"
   },
   {
    "duration": 397,
    "start_time": "2024-07-12T17:03:44.949Z"
   },
   {
    "duration": 384,
    "start_time": "2024-07-12T17:05:12.153Z"
   },
   {
    "duration": 588,
    "start_time": "2024-07-12T17:05:42.250Z"
   },
   {
    "duration": 392,
    "start_time": "2024-07-12T17:06:27.109Z"
   },
   {
    "duration": 10,
    "start_time": "2024-07-12T17:27:24.715Z"
   },
   {
    "duration": 8,
    "start_time": "2024-07-12T17:27:26.914Z"
   },
   {
    "duration": 416,
    "start_time": "2024-07-12T17:29:05.087Z"
   },
   {
    "duration": 391,
    "start_time": "2024-07-12T17:29:29.127Z"
   },
   {
    "duration": 1132,
    "start_time": "2024-07-13T04:52:47.738Z"
   },
   {
    "duration": 72,
    "start_time": "2024-07-13T04:52:48.872Z"
   },
   {
    "duration": 25,
    "start_time": "2024-07-13T04:52:48.946Z"
   },
   {
    "duration": 28,
    "start_time": "2024-07-13T04:52:48.973Z"
   },
   {
    "duration": 27,
    "start_time": "2024-07-13T04:52:49.003Z"
   },
   {
    "duration": 27,
    "start_time": "2024-07-13T04:52:49.032Z"
   },
   {
    "duration": 28,
    "start_time": "2024-07-13T04:52:49.061Z"
   },
   {
    "duration": 33,
    "start_time": "2024-07-13T04:52:49.091Z"
   },
   {
    "duration": 21,
    "start_time": "2024-07-13T04:52:49.125Z"
   },
   {
    "duration": 194,
    "start_time": "2024-07-13T04:52:49.148Z"
   },
   {
    "duration": 90,
    "start_time": "2024-07-13T04:52:49.344Z"
   },
   {
    "duration": 174,
    "start_time": "2024-07-13T04:52:49.436Z"
   },
   {
    "duration": 8,
    "start_time": "2024-07-13T04:52:49.612Z"
   },
   {
    "duration": 315,
    "start_time": "2024-07-13T04:52:49.621Z"
   },
   {
    "duration": 9,
    "start_time": "2024-07-13T04:52:49.937Z"
   },
   {
    "duration": 254,
    "start_time": "2024-07-13T04:52:49.948Z"
   },
   {
    "duration": 149,
    "start_time": "2024-07-13T04:52:50.204Z"
   },
   {
    "duration": 12,
    "start_time": "2024-07-13T04:52:50.354Z"
   },
   {
    "duration": 11,
    "start_time": "2024-07-13T04:52:50.367Z"
   },
   {
    "duration": 366,
    "start_time": "2024-07-13T04:52:50.380Z"
   },
   {
    "duration": 22,
    "start_time": "2024-07-13T04:52:50.748Z"
   },
   {
    "duration": 12,
    "start_time": "2024-07-13T04:52:50.772Z"
   },
   {
    "duration": 30,
    "start_time": "2024-07-13T04:52:50.786Z"
   },
   {
    "duration": 32,
    "start_time": "2024-07-13T04:52:50.818Z"
   },
   {
    "duration": 17,
    "start_time": "2024-07-13T04:52:50.852Z"
   },
   {
    "duration": 16,
    "start_time": "2024-07-13T04:52:50.871Z"
   },
   {
    "duration": 441,
    "start_time": "2024-07-13T04:52:50.889Z"
   },
   {
    "duration": 8,
    "start_time": "2024-07-13T04:52:51.334Z"
   },
   {
    "duration": 25,
    "start_time": "2024-07-13T04:52:51.343Z"
   },
   {
    "duration": 388,
    "start_time": "2024-07-13T04:52:51.370Z"
   },
   {
    "duration": 7,
    "start_time": "2024-07-13T04:52:51.760Z"
   },
   {
    "duration": 23,
    "start_time": "2024-07-13T04:52:51.769Z"
   },
   {
    "duration": 35,
    "start_time": "2024-07-13T04:52:51.793Z"
   },
   {
    "duration": 73,
    "start_time": "2024-07-13T04:52:51.829Z"
   },
   {
    "duration": 10,
    "start_time": "2024-07-13T04:52:51.904Z"
   },
   {
    "duration": 38,
    "start_time": "2024-07-13T04:52:51.915Z"
   },
   {
    "duration": 40,
    "start_time": "2024-07-13T04:52:51.955Z"
   },
   {
    "duration": 27,
    "start_time": "2024-07-13T04:52:51.996Z"
   },
   {
    "duration": 35,
    "start_time": "2024-07-13T04:52:52.025Z"
   },
   {
    "duration": 27,
    "start_time": "2024-07-13T04:52:52.061Z"
   },
   {
    "duration": 44,
    "start_time": "2024-07-13T04:52:52.090Z"
   },
   {
    "duration": 1117,
    "start_time": "2024-07-13T04:59:39.507Z"
   },
   {
    "duration": 70,
    "start_time": "2024-07-13T04:59:40.626Z"
   },
   {
    "duration": 25,
    "start_time": "2024-07-13T04:59:40.698Z"
   },
   {
    "duration": 27,
    "start_time": "2024-07-13T04:59:40.725Z"
   },
   {
    "duration": 15,
    "start_time": "2024-07-13T04:59:40.760Z"
   },
   {
    "duration": 10,
    "start_time": "2024-07-13T04:59:40.777Z"
   },
   {
    "duration": 4,
    "start_time": "2024-07-13T04:59:40.788Z"
   },
   {
    "duration": 5,
    "start_time": "2024-07-13T04:59:40.794Z"
   },
   {
    "duration": 7,
    "start_time": "2024-07-13T04:59:40.800Z"
   },
   {
    "duration": 197,
    "start_time": "2024-07-13T04:59:40.810Z"
   },
   {
    "duration": 102,
    "start_time": "2024-07-13T04:59:41.009Z"
   },
   {
    "duration": 170,
    "start_time": "2024-07-13T04:59:41.113Z"
   },
   {
    "duration": 8,
    "start_time": "2024-07-13T04:59:41.284Z"
   },
   {
    "duration": 275,
    "start_time": "2024-07-13T04:59:41.293Z"
   },
   {
    "duration": 8,
    "start_time": "2024-07-13T04:59:41.569Z"
   },
   {
    "duration": 255,
    "start_time": "2024-07-13T04:59:41.579Z"
   },
   {
    "duration": 168,
    "start_time": "2024-07-13T04:59:41.836Z"
   },
   {
    "duration": 9,
    "start_time": "2024-07-13T04:59:42.005Z"
   },
   {
    "duration": 4,
    "start_time": "2024-07-13T04:59:42.016Z"
   },
   {
    "duration": 331,
    "start_time": "2024-07-13T04:59:42.021Z"
   },
   {
    "duration": 21,
    "start_time": "2024-07-13T04:59:42.353Z"
   },
   {
    "duration": 12,
    "start_time": "2024-07-13T04:59:42.376Z"
   },
   {
    "duration": 10,
    "start_time": "2024-07-13T04:59:42.389Z"
   },
   {
    "duration": 13,
    "start_time": "2024-07-13T04:59:42.400Z"
   },
   {
    "duration": 6,
    "start_time": "2024-07-13T04:59:42.415Z"
   },
   {
    "duration": 4,
    "start_time": "2024-07-13T04:59:42.423Z"
   },
   {
    "duration": 413,
    "start_time": "2024-07-13T04:59:42.428Z"
   },
   {
    "duration": 16,
    "start_time": "2024-07-13T04:59:42.845Z"
   },
   {
    "duration": 8,
    "start_time": "2024-07-13T04:59:42.862Z"
   },
   {
    "duration": 409,
    "start_time": "2024-07-13T04:59:42.872Z"
   },
   {
    "duration": 8,
    "start_time": "2024-07-13T04:59:43.283Z"
   },
   {
    "duration": 7,
    "start_time": "2024-07-13T04:59:43.292Z"
   },
   {
    "duration": 3,
    "start_time": "2024-07-13T04:59:43.300Z"
   },
   {
    "duration": 60,
    "start_time": "2024-07-13T04:59:43.305Z"
   },
   {
    "duration": 10,
    "start_time": "2024-07-13T04:59:43.367Z"
   },
   {
    "duration": 14,
    "start_time": "2024-07-13T04:59:43.378Z"
   },
   {
    "duration": 6,
    "start_time": "2024-07-13T04:59:43.394Z"
   },
   {
    "duration": 5,
    "start_time": "2024-07-13T04:59:43.401Z"
   },
   {
    "duration": 5,
    "start_time": "2024-07-13T04:59:43.408Z"
   },
   {
    "duration": 5,
    "start_time": "2024-07-13T04:59:43.415Z"
   },
   {
    "duration": 43,
    "start_time": "2024-07-13T04:59:43.422Z"
   },
   {
    "duration": 52,
    "start_time": "2024-07-13T19:54:51.394Z"
   },
   {
    "duration": 1389,
    "start_time": "2024-07-13T19:55:03.685Z"
   },
   {
    "duration": 287,
    "start_time": "2024-07-13T19:55:05.983Z"
   },
   {
    "duration": 25,
    "start_time": "2024-07-13T19:55:07.334Z"
   },
   {
    "duration": 32,
    "start_time": "2024-07-13T19:55:08.952Z"
   },
   {
    "duration": 22,
    "start_time": "2024-07-13T19:55:09.393Z"
   },
   {
    "duration": 7,
    "start_time": "2024-07-13T19:55:12.169Z"
   },
   {
    "duration": 5,
    "start_time": "2024-07-13T19:55:12.873Z"
   },
   {
    "duration": 5,
    "start_time": "2024-07-13T19:55:15.488Z"
   },
   {
    "duration": 6,
    "start_time": "2024-07-13T19:55:15.881Z"
   },
   {
    "duration": 236,
    "start_time": "2024-07-13T19:55:20.843Z"
   },
   {
    "duration": 166,
    "start_time": "2024-07-13T19:56:54.587Z"
   },
   {
    "duration": 11,
    "start_time": "2024-07-13T19:59:39.266Z"
   },
   {
    "duration": 192,
    "start_time": "2024-07-13T19:59:47.242Z"
   },
   {
    "duration": 206,
    "start_time": "2024-07-13T20:00:42.245Z"
   },
   {
    "duration": 91,
    "start_time": "2024-07-13T20:02:16.032Z"
   },
   {
    "duration": 20,
    "start_time": "2024-07-13T20:02:57.082Z"
   },
   {
    "duration": 11,
    "start_time": "2024-07-13T20:03:31.155Z"
   },
   {
    "duration": 11,
    "start_time": "2024-07-13T20:04:10.028Z"
   },
   {
    "duration": 200,
    "start_time": "2024-07-13T20:04:17.268Z"
   },
   {
    "duration": 192,
    "start_time": "2024-07-13T20:04:46.918Z"
   },
   {
    "duration": 195,
    "start_time": "2024-07-13T20:05:20.367Z"
   },
   {
    "duration": 211,
    "start_time": "2024-07-13T20:06:03.980Z"
   },
   {
    "duration": 12,
    "start_time": "2024-07-13T20:08:30.536Z"
   },
   {
    "duration": 10,
    "start_time": "2024-07-13T20:08:47.224Z"
   },
   {
    "duration": 1177,
    "start_time": "2024-07-13T20:09:11.977Z"
   },
   {
    "duration": 71,
    "start_time": "2024-07-13T20:09:14.540Z"
   },
   {
    "duration": 25,
    "start_time": "2024-07-13T20:09:14.936Z"
   },
   {
    "duration": 25,
    "start_time": "2024-07-13T20:09:16.928Z"
   },
   {
    "duration": 16,
    "start_time": "2024-07-13T20:09:17.131Z"
   },
   {
    "duration": 8,
    "start_time": "2024-07-13T20:09:19.430Z"
   },
   {
    "duration": 5,
    "start_time": "2024-07-13T20:09:19.907Z"
   },
   {
    "duration": 6,
    "start_time": "2024-07-13T20:09:20.598Z"
   },
   {
    "duration": 8,
    "start_time": "2024-07-13T20:09:20.813Z"
   },
   {
    "duration": 213,
    "start_time": "2024-07-13T20:09:22.142Z"
   },
   {
    "duration": 111,
    "start_time": "2024-07-13T20:09:23.903Z"
   },
   {
    "duration": 187,
    "start_time": "2024-07-13T20:09:24.870Z"
   },
   {
    "duration": 8,
    "start_time": "2024-07-13T20:09:25.127Z"
   },
   {
    "duration": 301,
    "start_time": "2024-07-13T20:09:26.109Z"
   },
   {
    "duration": 8,
    "start_time": "2024-07-13T20:09:26.413Z"
   },
   {
    "duration": 288,
    "start_time": "2024-07-13T20:09:27.311Z"
   },
   {
    "duration": 174,
    "start_time": "2024-07-13T20:09:27.601Z"
   },
   {
    "duration": 16,
    "start_time": "2024-07-13T20:09:27.777Z"
   },
   {
    "duration": 3,
    "start_time": "2024-07-13T20:09:28.002Z"
   },
   {
    "duration": 356,
    "start_time": "2024-07-13T20:09:28.468Z"
   },
   {
    "duration": 23,
    "start_time": "2024-07-13T20:09:49.634Z"
   },
   {
    "duration": 18,
    "start_time": "2024-07-13T20:09:49.986Z"
   },
   {
    "duration": 10,
    "start_time": "2024-07-13T20:09:50.249Z"
   },
   {
    "duration": 21,
    "start_time": "2024-07-13T20:09:50.686Z"
   },
   {
    "duration": 8,
    "start_time": "2024-07-13T20:09:51.934Z"
   },
   {
    "duration": 5,
    "start_time": "2024-07-13T20:09:52.211Z"
   },
   {
    "duration": 521,
    "start_time": "2024-07-13T20:09:53.271Z"
   },
   {
    "duration": 467,
    "start_time": "2024-07-13T20:10:54.892Z"
   },
   {
    "duration": 179,
    "start_time": "2024-07-13T20:12:32.552Z"
   },
   {
    "duration": 476,
    "start_time": "2024-07-13T20:13:30.772Z"
   },
   {
    "duration": 605,
    "start_time": "2024-07-13T20:13:53.820Z"
   },
   {
    "duration": 65,
    "start_time": "2024-07-14T05:46:58.049Z"
   },
   {
    "duration": 0,
    "start_time": "2024-07-14T05:46:58.116Z"
   },
   {
    "duration": 0,
    "start_time": "2024-07-14T05:46:58.117Z"
   },
   {
    "duration": 0,
    "start_time": "2024-07-14T05:46:58.118Z"
   },
   {
    "duration": 0,
    "start_time": "2024-07-14T05:46:58.119Z"
   },
   {
    "duration": 0,
    "start_time": "2024-07-14T05:46:58.120Z"
   },
   {
    "duration": 0,
    "start_time": "2024-07-14T05:46:58.121Z"
   },
   {
    "duration": 0,
    "start_time": "2024-07-14T05:46:58.123Z"
   },
   {
    "duration": 0,
    "start_time": "2024-07-14T05:46:58.124Z"
   },
   {
    "duration": 50,
    "start_time": "2024-07-14T05:46:58.125Z"
   },
   {
    "duration": 0,
    "start_time": "2024-07-14T05:46:58.176Z"
   },
   {
    "duration": 0,
    "start_time": "2024-07-14T05:46:58.178Z"
   },
   {
    "duration": 0,
    "start_time": "2024-07-14T05:46:58.179Z"
   },
   {
    "duration": 0,
    "start_time": "2024-07-14T05:46:58.180Z"
   },
   {
    "duration": 0,
    "start_time": "2024-07-14T05:46:58.181Z"
   },
   {
    "duration": 0,
    "start_time": "2024-07-14T05:46:58.182Z"
   },
   {
    "duration": 0,
    "start_time": "2024-07-14T05:46:58.183Z"
   },
   {
    "duration": 0,
    "start_time": "2024-07-14T05:46:58.184Z"
   },
   {
    "duration": 0,
    "start_time": "2024-07-14T05:46:58.185Z"
   },
   {
    "duration": 3,
    "start_time": "2024-07-14T05:46:58.187Z"
   },
   {
    "duration": 20,
    "start_time": "2024-07-14T05:46:58.191Z"
   },
   {
    "duration": 0,
    "start_time": "2024-07-14T05:46:58.213Z"
   },
   {
    "duration": 0,
    "start_time": "2024-07-14T05:46:58.214Z"
   },
   {
    "duration": 0,
    "start_time": "2024-07-14T05:46:58.216Z"
   },
   {
    "duration": 0,
    "start_time": "2024-07-14T05:46:58.217Z"
   },
   {
    "duration": 0,
    "start_time": "2024-07-14T05:46:58.217Z"
   },
   {
    "duration": 46,
    "start_time": "2024-07-14T05:46:58.220Z"
   },
   {
    "duration": 0,
    "start_time": "2024-07-14T05:46:58.268Z"
   },
   {
    "duration": 0,
    "start_time": "2024-07-14T05:46:58.269Z"
   },
   {
    "duration": 0,
    "start_time": "2024-07-14T05:46:58.270Z"
   },
   {
    "duration": 0,
    "start_time": "2024-07-14T05:46:58.271Z"
   },
   {
    "duration": 0,
    "start_time": "2024-07-14T05:46:58.272Z"
   },
   {
    "duration": 0,
    "start_time": "2024-07-14T05:46:58.273Z"
   },
   {
    "duration": 6,
    "start_time": "2024-07-14T05:46:58.275Z"
   },
   {
    "duration": 0,
    "start_time": "2024-07-14T05:46:58.283Z"
   },
   {
    "duration": 5,
    "start_time": "2024-07-14T05:46:58.285Z"
   },
   {
    "duration": 0,
    "start_time": "2024-07-14T05:46:58.292Z"
   },
   {
    "duration": 0,
    "start_time": "2024-07-14T05:46:58.293Z"
   },
   {
    "duration": 6,
    "start_time": "2024-07-14T05:46:58.295Z"
   },
   {
    "duration": 7,
    "start_time": "2024-07-14T05:46:58.305Z"
   },
   {
    "duration": 0,
    "start_time": "2024-07-14T05:46:58.364Z"
   },
   {
    "duration": 8,
    "start_time": "2024-07-14T05:46:58.366Z"
   },
   {
    "duration": 1327,
    "start_time": "2024-07-14T05:47:40.829Z"
   },
   {
    "duration": 292,
    "start_time": "2024-07-14T05:47:42.158Z"
   },
   {
    "duration": 25,
    "start_time": "2024-07-14T05:47:42.452Z"
   },
   {
    "duration": 23,
    "start_time": "2024-07-14T05:47:42.479Z"
   },
   {
    "duration": 16,
    "start_time": "2024-07-14T05:47:42.504Z"
   },
   {
    "duration": 8,
    "start_time": "2024-07-14T05:47:42.521Z"
   },
   {
    "duration": 39,
    "start_time": "2024-07-14T05:47:42.530Z"
   },
   {
    "duration": 6,
    "start_time": "2024-07-14T05:47:42.570Z"
   },
   {
    "duration": 6,
    "start_time": "2024-07-14T05:47:42.577Z"
   },
   {
    "duration": 213,
    "start_time": "2024-07-14T05:47:42.586Z"
   },
   {
    "duration": 94,
    "start_time": "2024-07-14T05:47:42.800Z"
   },
   {
    "duration": 189,
    "start_time": "2024-07-14T05:47:42.896Z"
   },
   {
    "duration": 10,
    "start_time": "2024-07-14T05:47:43.087Z"
   },
   {
    "duration": 307,
    "start_time": "2024-07-14T05:47:43.099Z"
   },
   {
    "duration": 10,
    "start_time": "2024-07-14T05:47:43.408Z"
   },
   {
    "duration": 282,
    "start_time": "2024-07-14T05:47:43.421Z"
   },
   {
    "duration": 187,
    "start_time": "2024-07-14T05:47:43.705Z"
   },
   {
    "duration": 10,
    "start_time": "2024-07-14T05:47:43.893Z"
   },
   {
    "duration": 3,
    "start_time": "2024-07-14T05:47:43.904Z"
   },
   {
    "duration": 345,
    "start_time": "2024-07-14T05:47:43.908Z"
   },
   {
    "duration": 21,
    "start_time": "2024-07-14T05:47:44.254Z"
   },
   {
    "duration": 13,
    "start_time": "2024-07-14T05:47:44.276Z"
   },
   {
    "duration": 10,
    "start_time": "2024-07-14T05:47:44.290Z"
   },
   {
    "duration": 13,
    "start_time": "2024-07-14T05:47:44.302Z"
   },
   {
    "duration": 9,
    "start_time": "2024-07-14T05:47:44.317Z"
   },
   {
    "duration": 38,
    "start_time": "2024-07-14T05:47:44.328Z"
   },
   {
    "duration": 453,
    "start_time": "2024-07-14T05:47:44.368Z"
   },
   {
    "duration": 8,
    "start_time": "2024-07-14T05:47:44.825Z"
   },
   {
    "duration": 8,
    "start_time": "2024-07-14T05:47:44.835Z"
   },
   {
    "duration": 458,
    "start_time": "2024-07-14T05:47:44.844Z"
   },
   {
    "duration": 8,
    "start_time": "2024-07-14T05:47:45.304Z"
   },
   {
    "duration": 14,
    "start_time": "2024-07-14T05:47:45.313Z"
   },
   {
    "duration": 5,
    "start_time": "2024-07-14T05:47:45.329Z"
   },
   {
    "duration": 53,
    "start_time": "2024-07-14T05:47:45.336Z"
   },
   {
    "duration": 10,
    "start_time": "2024-07-14T05:47:45.390Z"
   },
   {
    "duration": 20,
    "start_time": "2024-07-14T05:47:45.401Z"
   },
   {
    "duration": 7,
    "start_time": "2024-07-14T05:47:45.423Z"
   },
   {
    "duration": 5,
    "start_time": "2024-07-14T05:47:45.431Z"
   },
   {
    "duration": 21,
    "start_time": "2024-07-14T05:47:45.438Z"
   },
   {
    "duration": 4,
    "start_time": "2024-07-14T05:47:45.464Z"
   },
   {
    "duration": 9,
    "start_time": "2024-07-14T05:47:45.469Z"
   }
  ],
  "kernelspec": {
   "display_name": "Python 3 (ipykernel)",
   "language": "python",
   "name": "python3"
  },
  "language_info": {
   "codemirror_mode": {
    "name": "ipython",
    "version": 3
   },
   "file_extension": ".py",
   "mimetype": "text/x-python",
   "name": "python",
   "nbconvert_exporter": "python",
   "pygments_lexer": "ipython3",
   "version": "3.11.7"
  },
  "toc": {
   "base_numbering": 1,
   "nav_menu": {},
   "number_sections": true,
   "sideBar": true,
   "skip_h1_title": true,
   "title_cell": "Table of Contents",
   "title_sidebar": "Contents",
   "toc_cell": false,
   "toc_position": {},
   "toc_section_display": true,
   "toc_window_display": false
  }
 },
 "nbformat": 4,
 "nbformat_minor": 5
}
